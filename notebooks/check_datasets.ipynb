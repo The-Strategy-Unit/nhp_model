{
 "cells": [
  {
   "cell_type": "code",
   "execution_count": null,
   "metadata": {},
   "outputs": [],
   "source": [
    "%cd .."
   ]
  },
  {
   "cell_type": "code",
   "execution_count": null,
   "metadata": {},
   "outputs": [],
   "source": [
    "from model.inpatients import InpatientsModel\n",
    "from model.outpatients import OutpatientsModel\n",
    "from model.aae import AaEModel\n",
    "from model.helpers import load_params\n",
    "from model.health_status_adjustment import HealthStatusAdjustmentInterpolated\n",
    "from model.model_iteration import ModelIteration\n",
    "\n",
    "import os\n",
    "from tqdm.notebook import tqdm"
   ]
  },
  {
   "cell_type": "code",
   "execution_count": null,
   "metadata": {},
   "outputs": [],
   "source": [
    "params = load_params(\"queue/sample_params.json\")\n",
    "rp = InpatientsModel.generate_run_params(params)\n",
    "\n",
    "params[\"efficiencies\"][\"ip\"] = {\n",
    "    k: v for k, v in params[\"efficiencies\"][\"ip\"].items() if not k.startswith(\"bads\")\n",
    "}"
   ]
  },
  {
   "cell_type": "code",
   "execution_count": null,
   "metadata": {},
   "outputs": [],
   "source": [
    "def check(model):\n",
    "    def run(ds):\n",
    "        params[\"dataset\"] = ds\n",
    "        try:\n",
    "            hsa = HealthStatusAdjustmentInterpolated(f\"data/2019/{ds}/\", \"2019\")\n",
    "            m = model(params, \"data\", hsa, rp)\n",
    "            ModelIteration(m, 0)\n",
    "            return None\n",
    "        except Exception as e:\n",
    "            return e\n",
    "\n",
    "    r = {}\n",
    "    for d in tqdm(os.listdir(\"data/2019\")):\n",
    "        res = run(d)\n",
    "        if res is not None:\n",
    "            r[d] = res\n",
    "    return r"
   ]
  },
  {
   "cell_type": "code",
   "execution_count": null,
   "metadata": {},
   "outputs": [],
   "source": [
    "check(InpatientsModel)"
   ]
  },
  {
   "cell_type": "markdown",
   "metadata": {},
   "source": [
    "R0B, R0D, RP4: missing files\n",
    "\n",
    "RP4 is GOSH - missing demographics file"
   ]
  },
  {
   "cell_type": "code",
   "execution_count": null,
   "metadata": {},
   "outputs": [],
   "source": [
    "check(OutpatientsModel)"
   ]
  },
  {
   "cell_type": "code",
   "execution_count": null,
   "metadata": {},
   "outputs": [],
   "source": [
    "check(AaEModel)"
   ]
  },
  {
   "cell_type": "markdown",
   "metadata": {},
   "source": [
    "# Clean up old datasets"
   ]
  },
  {
   "cell_type": "code",
   "execution_count": null,
   "metadata": {},
   "outputs": [],
   "source": [
    "from azure.storage.filedatalake import DataLakeServiceClient\n",
    "from azure.identity import InteractiveBrowserCredential\n",
    "import os\n",
    "\n",
    "cred = InteractiveBrowserCredential()\n",
    "client = DataLakeServiceClient(\"https://nhpsa.dfs.core.windows.net/\", credential=cred)\n",
    "\n",
    "local_paths = os.listdir(\"../data/2019\")"
   ]
  },
  {
   "cell_type": "code",
   "execution_count": null,
   "metadata": {},
   "outputs": [],
   "source": [
    "fs = client.get_file_system_client(\"inputs-data\")\n",
    "azure_paths = [\n",
    "    p[\"name\"][4:]\n",
    "    for p in fs.get_paths(path=\"dev\", recursive=False)\n",
    "    if not p[\"name\"].endswith(\"rds\")\n",
    "]\n",
    "\n",
    "# dry run:\n",
    "set(azure_paths) - set(local_paths)\n",
    "# [ fs.get_directory_client(f\"dev/{p}\").delete_directory() for p in set(azure_paths) - set(local_paths) ]"
   ]
  },
  {
   "cell_type": "code",
   "execution_count": null,
   "metadata": {},
   "outputs": [],
   "source": [
    "fs = client.get_file_system_client(\"data\")\n",
    "azure_paths = [\n",
    "    p[\"name\"][9:]\n",
    "    for p in fs.get_paths(path=\"dev/2019\", recursive=False)\n",
    "    if not p[\"name\"].endswith(\"rds\")\n",
    "]\n",
    "\n",
    "# dry run:\n",
    "set(azure_paths) - set(local_paths)\n",
    "# [ fs.get_directory_client(f\"dev/2019/{p}\").delete_directory() for p in set(azure_paths) - set(local_paths) ]"
   ]
  }
 ],
 "metadata": {
  "kernelspec": {
   "display_name": "nhp",
   "language": "python",
   "name": "python3"
  },
  "language_info": {
   "codemirror_mode": {
    "name": "ipython",
    "version": 3
   },
   "file_extension": ".py",
   "mimetype": "text/x-python",
   "name": "python",
   "nbconvert_exporter": "python",
   "pygments_lexer": "ipython3",
   "version": "3.11.6"
  }
 },
 "nbformat": 4,
 "nbformat_minor": 2
}
