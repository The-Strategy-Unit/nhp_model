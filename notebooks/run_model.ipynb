{
 "cells": [
  {
   "cell_type": "code",
   "execution_count": 1,
   "metadata": {},
   "outputs": [],
   "source": [
    "%cd -q ..\n",
    "\n",
    "import numpy as np\n",
    "import pandas as pd\n",
    "\n",
    "from model.helpers import load_params\n",
    "from model.model import Model\n",
    "from model.inpatients import InpatientsModel\n",
    "from model.outpatients import OutpatientsModel\n",
    "from model.aae import AaEModel\n",
    "from model.health_status_adjustment import HealthStatusAdjustmentInterpolated\n",
    "\n",
    "pd.set_option(\"display.precision\", 1)"
   ]
  },
  {
   "cell_type": "code",
   "execution_count": 2,
   "metadata": {},
   "outputs": [],
   "source": [
    "import logging\n",
    "\n",
    "logging.basicConfig(\n",
    "    format=\"%(asctime)s %(levelname)-8s %(message)s\",\n",
    "    level=logging.INFO,\n",
    "    datefmt=\"%Y-%m-%d %H:%M:%S\",\n",
    ")"
   ]
  },
  {
   "cell_type": "code",
   "execution_count": 3,
   "metadata": {},
   "outputs": [],
   "source": [
    "params = load_params(\"queue/sample_params.json\")\n",
    "run_params = Model.generate_run_params(params)\n",
    "hsa = HealthStatusAdjustmentInterpolated(\n",
    "    f\"data/2019/{params['dataset']}\", params[\"start_year\"], params[\"end_year\"]\n",
    ")"
   ]
  },
  {
   "attachments": {},
   "cell_type": "markdown",
   "metadata": {},
   "source": [
    "# Helper Methods\n",
    "\n",
    "Below are some helper methods for turning the results into useful Pandas `DataFrames`."
   ]
  },
  {
   "cell_type": "code",
   "execution_count": 4,
   "metadata": {},
   "outputs": [],
   "source": [
    "def run_model(model, i=0):\n",
    "    return {\n",
    "        k0: pd.DataFrame([{**dict(k1), \"value\": v1} for k1, v1 in v0.items()])\n",
    "        for k0, v0 in model(params, \"data\", hsa, run_params).go(i).items()\n",
    "    }"
   ]
  },
  {
   "cell_type": "code",
   "execution_count": 5,
   "metadata": {},
   "outputs": [],
   "source": [
    "def default_pod_measure_pivot(agg):\n",
    "    default_results = (\n",
    "        agg[\"default\"]\n",
    "        .groupby([\"pod\", \"measure\"], as_index=False)\n",
    "        .agg({\"value\": sum})\n",
    "        .pivot(index=[\"pod\"], columns=\"measure\")\n",
    "        .fillna(0)\n",
    "    )\n",
    "    default_results.loc[\"total\"] = default_results.sum()\n",
    "\n",
    "    return default_results"
   ]
  },
  {
   "cell_type": "code",
   "execution_count": 6,
   "metadata": {},
   "outputs": [],
   "source": [
    "def step_counts_simple(agg):\n",
    "    step_counts = (\n",
    "        agg[\"step_counts\"]\n",
    "        .drop(columns=[\"strategy\", \"activity_type\"])\n",
    "        .groupby([\"change_factor\", \"measure\"], as_index=False)\n",
    "        .sum()\n",
    "        .pivot(index=\"change_factor\", columns=\"measure\")\n",
    "        .loc[agg[\"step_counts\"][\"change_factor\"].unique()]\n",
    "    )\n",
    "    step_counts.loc[\"total\"] = step_counts.sum()\n",
    "\n",
    "    return step_counts"
   ]
  },
  {
   "attachments": {},
   "cell_type": "markdown",
   "metadata": {},
   "source": [
    "# Running the models"
   ]
  },
  {
   "attachments": {},
   "cell_type": "markdown",
   "metadata": {},
   "source": [
    "## Inpatients\n",
    "\n",
    "Running the principal model run (model run 0) for the Inpatients data"
   ]
  },
  {
   "cell_type": "code",
   "execution_count": 7,
   "metadata": {},
   "outputs": [],
   "source": [
    "ip_agg = run_model(InpatientsModel)"
   ]
  },
  {
   "attachments": {},
   "cell_type": "markdown",
   "metadata": {},
   "source": [
    "### Aggregate Results"
   ]
  },
  {
   "attachments": {},
   "cell_type": "markdown",
   "metadata": {},
   "source": [
    "The available aggregations for inpatients are:"
   ]
  },
  {
   "cell_type": "code",
   "execution_count": 8,
   "metadata": {},
   "outputs": [
    {
     "data": {
      "text/plain": [
       "['default',\n",
       " 'sex+age_group',\n",
       " 'sex+tretspef',\n",
       " 'bed_occupancy',\n",
       " 'theatres_available',\n",
       " 'step_counts']"
      ]
     },
     "execution_count": 8,
     "metadata": {},
     "output_type": "execute_result"
    }
   ],
   "source": [
    "list(ip_agg.keys())"
   ]
  },
  {
   "attachments": {},
   "cell_type": "markdown",
   "metadata": {},
   "source": [
    "We can view the default aggregations, summarising to pod/measure"
   ]
  },
  {
   "cell_type": "code",
   "execution_count": 9,
   "metadata": {},
   "outputs": [
    {
     "data": {
      "text/html": [
       "<div>\n",
       "<style scoped>\n",
       "    .dataframe tbody tr th:only-of-type {\n",
       "        vertical-align: middle;\n",
       "    }\n",
       "\n",
       "    .dataframe tbody tr th {\n",
       "        vertical-align: top;\n",
       "    }\n",
       "\n",
       "    .dataframe thead tr th {\n",
       "        text-align: left;\n",
       "    }\n",
       "\n",
       "    .dataframe thead tr:last-of-type th {\n",
       "        text-align: right;\n",
       "    }\n",
       "</style>\n",
       "<table border=\"1\" class=\"dataframe\">\n",
       "  <thead>\n",
       "    <tr>\n",
       "      <th></th>\n",
       "      <th colspan=\"4\" halign=\"left\">value</th>\n",
       "    </tr>\n",
       "    <tr>\n",
       "      <th>measure</th>\n",
       "      <th>admissions</th>\n",
       "      <th>attendances</th>\n",
       "      <th>beddays</th>\n",
       "      <th>procedures</th>\n",
       "    </tr>\n",
       "    <tr>\n",
       "      <th>pod</th>\n",
       "      <th></th>\n",
       "      <th></th>\n",
       "      <th></th>\n",
       "      <th></th>\n",
       "    </tr>\n",
       "  </thead>\n",
       "  <tbody>\n",
       "    <tr>\n",
       "      <th>ip_elective_admission</th>\n",
       "      <td>7286.0</td>\n",
       "      <td>0.0</td>\n",
       "      <td>29382.0</td>\n",
       "      <td>4039.0</td>\n",
       "    </tr>\n",
       "    <tr>\n",
       "      <th>ip_elective_daycase</th>\n",
       "      <td>55725.0</td>\n",
       "      <td>0.0</td>\n",
       "      <td>55725.0</td>\n",
       "      <td>30098.0</td>\n",
       "    </tr>\n",
       "    <tr>\n",
       "      <th>ip_maternity_admission</th>\n",
       "      <td>7204.0</td>\n",
       "      <td>0.0</td>\n",
       "      <td>32716.0</td>\n",
       "      <td>3915.0</td>\n",
       "    </tr>\n",
       "    <tr>\n",
       "      <th>ip_non-elective_admission</th>\n",
       "      <td>45561.0</td>\n",
       "      <td>0.0</td>\n",
       "      <td>163311.0</td>\n",
       "      <td>6138.0</td>\n",
       "    </tr>\n",
       "    <tr>\n",
       "      <th>op_procedure</th>\n",
       "      <td>0.0</td>\n",
       "      <td>1048.0</td>\n",
       "      <td>0.0</td>\n",
       "      <td>0.0</td>\n",
       "    </tr>\n",
       "    <tr>\n",
       "      <th>total</th>\n",
       "      <td>115776.0</td>\n",
       "      <td>1048.0</td>\n",
       "      <td>281134.0</td>\n",
       "      <td>44190.0</td>\n",
       "    </tr>\n",
       "  </tbody>\n",
       "</table>\n",
       "</div>"
      ],
      "text/plain": [
       "                               value                                 \n",
       "measure                   admissions attendances   beddays procedures\n",
       "pod                                                                  \n",
       "ip_elective_admission         7286.0         0.0   29382.0     4039.0\n",
       "ip_elective_daycase          55725.0         0.0   55725.0    30098.0\n",
       "ip_maternity_admission        7204.0         0.0   32716.0     3915.0\n",
       "ip_non-elective_admission    45561.0         0.0  163311.0     6138.0\n",
       "op_procedure                     0.0      1048.0       0.0        0.0\n",
       "total                       115776.0      1048.0  281134.0    44190.0"
      ]
     },
     "execution_count": 9,
     "metadata": {},
     "output_type": "execute_result"
    }
   ],
   "source": [
    "default_pod_measure_pivot(ip_agg)"
   ]
  },
  {
   "attachments": {},
   "cell_type": "markdown",
   "metadata": {},
   "source": [
    "### Estimate of effects"
   ]
  },
  {
   "cell_type": "code",
   "execution_count": 10,
   "metadata": {},
   "outputs": [
    {
     "data": {
      "text/html": [
       "<div>\n",
       "<style scoped>\n",
       "    .dataframe tbody tr th:only-of-type {\n",
       "        vertical-align: middle;\n",
       "    }\n",
       "\n",
       "    .dataframe tbody tr th {\n",
       "        vertical-align: top;\n",
       "    }\n",
       "\n",
       "    .dataframe thead tr th {\n",
       "        text-align: left;\n",
       "    }\n",
       "\n",
       "    .dataframe thead tr:last-of-type th {\n",
       "        text-align: right;\n",
       "    }\n",
       "</style>\n",
       "<table border=\"1\" class=\"dataframe\">\n",
       "  <thead>\n",
       "    <tr>\n",
       "      <th></th>\n",
       "      <th colspan=\"2\" halign=\"left\">value</th>\n",
       "    </tr>\n",
       "    <tr>\n",
       "      <th>measure</th>\n",
       "      <th>admissions</th>\n",
       "      <th>beddays</th>\n",
       "    </tr>\n",
       "    <tr>\n",
       "      <th>change_factor</th>\n",
       "      <th></th>\n",
       "      <th></th>\n",
       "    </tr>\n",
       "  </thead>\n",
       "  <tbody>\n",
       "    <tr>\n",
       "      <th>baseline</th>\n",
       "      <td>97536.0</td>\n",
       "      <td>309343.0</td>\n",
       "    </tr>\n",
       "    <tr>\n",
       "      <th>demographic_adjustment</th>\n",
       "      <td>19630.4</td>\n",
       "      <td>60745.0</td>\n",
       "    </tr>\n",
       "    <tr>\n",
       "      <th>health_status_adjustment</th>\n",
       "      <td>246.5</td>\n",
       "      <td>885.4</td>\n",
       "    </tr>\n",
       "    <tr>\n",
       "      <th>covid_adjustment</th>\n",
       "      <td>1644.5</td>\n",
       "      <td>4195.0</td>\n",
       "    </tr>\n",
       "    <tr>\n",
       "      <th>expat</th>\n",
       "      <td>-214.8</td>\n",
       "      <td>-717.6</td>\n",
       "    </tr>\n",
       "    <tr>\n",
       "      <th>repat</th>\n",
       "      <td>2402.1</td>\n",
       "      <td>7643.3</td>\n",
       "    </tr>\n",
       "    <tr>\n",
       "      <th>waiting_list_adjustment</th>\n",
       "      <td>166.4</td>\n",
       "      <td>226.4</td>\n",
       "    </tr>\n",
       "    <tr>\n",
       "      <th>baseline_adjustment</th>\n",
       "      <td>0.0</td>\n",
       "      <td>0.0</td>\n",
       "    </tr>\n",
       "    <tr>\n",
       "      <th>non-demographic_adjustment</th>\n",
       "      <td>12267.3</td>\n",
       "      <td>39003.5</td>\n",
       "    </tr>\n",
       "    <tr>\n",
       "      <th>activity_avoidance</th>\n",
       "      <td>-16854.3</td>\n",
       "      <td>-70707.1</td>\n",
       "    </tr>\n",
       "    <tr>\n",
       "      <th>efficiencies</th>\n",
       "      <td>-1048.0</td>\n",
       "      <td>-69483.0</td>\n",
       "    </tr>\n",
       "    <tr>\n",
       "      <th>total</th>\n",
       "      <td>115776.0</td>\n",
       "      <td>281134.0</td>\n",
       "    </tr>\n",
       "  </tbody>\n",
       "</table>\n",
       "</div>"
      ],
      "text/plain": [
       "                                value          \n",
       "measure                    admissions   beddays\n",
       "change_factor                                  \n",
       "baseline                      97536.0  309343.0\n",
       "demographic_adjustment        19630.4   60745.0\n",
       "health_status_adjustment        246.5     885.4\n",
       "covid_adjustment               1644.5    4195.0\n",
       "expat                          -214.8    -717.6\n",
       "repat                          2402.1    7643.3\n",
       "waiting_list_adjustment         166.4     226.4\n",
       "baseline_adjustment               0.0       0.0\n",
       "non-demographic_adjustment    12267.3   39003.5\n",
       "activity_avoidance           -16854.3  -70707.1\n",
       "efficiencies                  -1048.0  -69483.0\n",
       "total                        115776.0  281134.0"
      ]
     },
     "execution_count": 10,
     "metadata": {},
     "output_type": "execute_result"
    }
   ],
   "source": [
    "step_counts_simple(ip_agg)"
   ]
  },
  {
   "attachments": {},
   "cell_type": "markdown",
   "metadata": {},
   "source": [
    "## Outpatients\n",
    "\n",
    "Running the principal model run (model run 0) for the Outpatients data"
   ]
  },
  {
   "cell_type": "code",
   "execution_count": 11,
   "metadata": {},
   "outputs": [],
   "source": [
    "op_agg = run_model(OutpatientsModel)"
   ]
  },
  {
   "attachments": {},
   "cell_type": "markdown",
   "metadata": {},
   "source": [
    "### Aggregate Results"
   ]
  },
  {
   "attachments": {},
   "cell_type": "markdown",
   "metadata": {},
   "source": [
    "The available aggregations for outpatients are:"
   ]
  },
  {
   "cell_type": "code",
   "execution_count": 12,
   "metadata": {},
   "outputs": [
    {
     "data": {
      "text/plain": [
       "['default', 'sex+age_group', 'sex+tretspef', 'step_counts']"
      ]
     },
     "execution_count": 12,
     "metadata": {},
     "output_type": "execute_result"
    }
   ],
   "source": [
    "list(op_agg.keys())"
   ]
  },
  {
   "attachments": {},
   "cell_type": "markdown",
   "metadata": {},
   "source": [
    "We can view the default aggregations, summarising to pod/measure"
   ]
  },
  {
   "cell_type": "code",
   "execution_count": 13,
   "metadata": {},
   "outputs": [
    {
     "data": {
      "text/html": [
       "<div>\n",
       "<style scoped>\n",
       "    .dataframe tbody tr th:only-of-type {\n",
       "        vertical-align: middle;\n",
       "    }\n",
       "\n",
       "    .dataframe tbody tr th {\n",
       "        vertical-align: top;\n",
       "    }\n",
       "\n",
       "    .dataframe thead tr th {\n",
       "        text-align: left;\n",
       "    }\n",
       "\n",
       "    .dataframe thead tr:last-of-type th {\n",
       "        text-align: right;\n",
       "    }\n",
       "</style>\n",
       "<table border=\"1\" class=\"dataframe\">\n",
       "  <thead>\n",
       "    <tr>\n",
       "      <th></th>\n",
       "      <th colspan=\"2\" halign=\"left\">value</th>\n",
       "    </tr>\n",
       "    <tr>\n",
       "      <th>measure</th>\n",
       "      <th>attendances</th>\n",
       "      <th>tele_attendances</th>\n",
       "    </tr>\n",
       "    <tr>\n",
       "      <th>pod</th>\n",
       "      <th></th>\n",
       "      <th></th>\n",
       "    </tr>\n",
       "  </thead>\n",
       "  <tbody>\n",
       "    <tr>\n",
       "      <th>op_first</th>\n",
       "      <td>155280</td>\n",
       "      <td>17708</td>\n",
       "    </tr>\n",
       "    <tr>\n",
       "      <th>op_follow-up</th>\n",
       "      <td>308198</td>\n",
       "      <td>37798</td>\n",
       "    </tr>\n",
       "    <tr>\n",
       "      <th>op_procedure</th>\n",
       "      <td>41825</td>\n",
       "      <td>0</td>\n",
       "    </tr>\n",
       "    <tr>\n",
       "      <th>total</th>\n",
       "      <td>505303</td>\n",
       "      <td>55506</td>\n",
       "    </tr>\n",
       "  </tbody>\n",
       "</table>\n",
       "</div>"
      ],
      "text/plain": [
       "                   value                 \n",
       "measure      attendances tele_attendances\n",
       "pod                                      \n",
       "op_first          155280            17708\n",
       "op_follow-up      308198            37798\n",
       "op_procedure       41825                0\n",
       "total             505303            55506"
      ]
     },
     "execution_count": 13,
     "metadata": {},
     "output_type": "execute_result"
    }
   ],
   "source": [
    "default_pod_measure_pivot(op_agg)"
   ]
  },
  {
   "attachments": {},
   "cell_type": "markdown",
   "metadata": {},
   "source": [
    "### Estimate of effects"
   ]
  },
  {
   "cell_type": "code",
   "execution_count": 14,
   "metadata": {},
   "outputs": [
    {
     "data": {
      "text/html": [
       "<div>\n",
       "<style scoped>\n",
       "    .dataframe tbody tr th:only-of-type {\n",
       "        vertical-align: middle;\n",
       "    }\n",
       "\n",
       "    .dataframe tbody tr th {\n",
       "        vertical-align: top;\n",
       "    }\n",
       "\n",
       "    .dataframe thead tr th {\n",
       "        text-align: left;\n",
       "    }\n",
       "\n",
       "    .dataframe thead tr:last-of-type th {\n",
       "        text-align: right;\n",
       "    }\n",
       "</style>\n",
       "<table border=\"1\" class=\"dataframe\">\n",
       "  <thead>\n",
       "    <tr>\n",
       "      <th></th>\n",
       "      <th colspan=\"2\" halign=\"left\">value</th>\n",
       "    </tr>\n",
       "    <tr>\n",
       "      <th>measure</th>\n",
       "      <th>attendances</th>\n",
       "      <th>tele_attendances</th>\n",
       "    </tr>\n",
       "    <tr>\n",
       "      <th>change_factor</th>\n",
       "      <th></th>\n",
       "      <th></th>\n",
       "    </tr>\n",
       "  </thead>\n",
       "  <tbody>\n",
       "    <tr>\n",
       "      <th>baseline</th>\n",
       "      <td>440885.0</td>\n",
       "      <td>14276.0</td>\n",
       "    </tr>\n",
       "    <tr>\n",
       "      <th>demographic_adjustment</th>\n",
       "      <td>75376.3</td>\n",
       "      <td>2664.0</td>\n",
       "    </tr>\n",
       "    <tr>\n",
       "      <th>health_status_adjustment</th>\n",
       "      <td>603.5</td>\n",
       "      <td>19.2</td>\n",
       "    </tr>\n",
       "    <tr>\n",
       "      <th>covid_adjustment</th>\n",
       "      <td>55091.6</td>\n",
       "      <td>1684.3</td>\n",
       "    </tr>\n",
       "    <tr>\n",
       "      <th>expat</th>\n",
       "      <td>-1467.6</td>\n",
       "      <td>-48.6</td>\n",
       "    </tr>\n",
       "    <tr>\n",
       "      <th>repat</th>\n",
       "      <td>11398.3</td>\n",
       "      <td>361.4</td>\n",
       "    </tr>\n",
       "    <tr>\n",
       "      <th>waiting_list_adjustment</th>\n",
       "      <td>7887.5</td>\n",
       "      <td>250.8</td>\n",
       "    </tr>\n",
       "    <tr>\n",
       "      <th>baseline_adjustment</th>\n",
       "      <td>0.0</td>\n",
       "      <td>0.0</td>\n",
       "    </tr>\n",
       "    <tr>\n",
       "      <th>activity_avoidance</th>\n",
       "      <td>-46703.7</td>\n",
       "      <td>-1469.1</td>\n",
       "    </tr>\n",
       "    <tr>\n",
       "      <th>efficiencies</th>\n",
       "      <td>-37768.0</td>\n",
       "      <td>37768.0</td>\n",
       "    </tr>\n",
       "    <tr>\n",
       "      <th>total</th>\n",
       "      <td>505303.0</td>\n",
       "      <td>55506.0</td>\n",
       "    </tr>\n",
       "  </tbody>\n",
       "</table>\n",
       "</div>"
      ],
      "text/plain": [
       "                               value                 \n",
       "measure                  attendances tele_attendances\n",
       "change_factor                                        \n",
       "baseline                    440885.0          14276.0\n",
       "demographic_adjustment       75376.3           2664.0\n",
       "health_status_adjustment       603.5             19.2\n",
       "covid_adjustment             55091.6           1684.3\n",
       "expat                        -1467.6            -48.6\n",
       "repat                        11398.3            361.4\n",
       "waiting_list_adjustment       7887.5            250.8\n",
       "baseline_adjustment              0.0              0.0\n",
       "activity_avoidance          -46703.7          -1469.1\n",
       "efficiencies                -37768.0          37768.0\n",
       "total                       505303.0          55506.0"
      ]
     },
     "execution_count": 14,
     "metadata": {},
     "output_type": "execute_result"
    }
   ],
   "source": [
    "step_counts_simple(op_agg)"
   ]
  },
  {
   "attachments": {},
   "cell_type": "markdown",
   "metadata": {},
   "source": [
    "## Accident and Emergency\n",
    "\n",
    "Running the principal model run (model run 0) for the A&E data"
   ]
  },
  {
   "cell_type": "code",
   "execution_count": 15,
   "metadata": {},
   "outputs": [],
   "source": [
    "ae_agg = run_model(AaEModel)"
   ]
  },
  {
   "attachments": {},
   "cell_type": "markdown",
   "metadata": {},
   "source": [
    "### Aggregate Results"
   ]
  },
  {
   "attachments": {},
   "cell_type": "markdown",
   "metadata": {},
   "source": [
    "The available aggregations for outpatients are:"
   ]
  },
  {
   "cell_type": "code",
   "execution_count": 16,
   "metadata": {},
   "outputs": [
    {
     "data": {
      "text/plain": [
       "['default', 'sex+age_group', 'step_counts']"
      ]
     },
     "execution_count": 16,
     "metadata": {},
     "output_type": "execute_result"
    }
   ],
   "source": [
    "list(ae_agg.keys())"
   ]
  },
  {
   "attachments": {},
   "cell_type": "markdown",
   "metadata": {},
   "source": [
    "We can view the default aggregations, summarising to pod/measure"
   ]
  },
  {
   "cell_type": "code",
   "execution_count": 17,
   "metadata": {},
   "outputs": [
    {
     "data": {
      "text/html": [
       "<div>\n",
       "<style scoped>\n",
       "    .dataframe tbody tr th:only-of-type {\n",
       "        vertical-align: middle;\n",
       "    }\n",
       "\n",
       "    .dataframe tbody tr th {\n",
       "        vertical-align: top;\n",
       "    }\n",
       "\n",
       "    .dataframe thead tr th {\n",
       "        text-align: left;\n",
       "    }\n",
       "\n",
       "    .dataframe thead tr:last-of-type th {\n",
       "        text-align: right;\n",
       "    }\n",
       "</style>\n",
       "<table border=\"1\" class=\"dataframe\">\n",
       "  <thead>\n",
       "    <tr>\n",
       "      <th></th>\n",
       "      <th colspan=\"2\" halign=\"left\">value</th>\n",
       "    </tr>\n",
       "    <tr>\n",
       "      <th>measure</th>\n",
       "      <th>ambulance</th>\n",
       "      <th>walk-in</th>\n",
       "    </tr>\n",
       "    <tr>\n",
       "      <th>pod</th>\n",
       "      <th></th>\n",
       "      <th></th>\n",
       "    </tr>\n",
       "  </thead>\n",
       "  <tbody>\n",
       "    <tr>\n",
       "      <th>aae_type-01</th>\n",
       "      <td>36384</td>\n",
       "      <td>68928</td>\n",
       "    </tr>\n",
       "    <tr>\n",
       "      <th>aae_type-02</th>\n",
       "      <td>3</td>\n",
       "      <td>1304</td>\n",
       "    </tr>\n",
       "    <tr>\n",
       "      <th>aae_type-03</th>\n",
       "      <td>276</td>\n",
       "      <td>15934</td>\n",
       "    </tr>\n",
       "    <tr>\n",
       "      <th>aae_type-04</th>\n",
       "      <td>0</td>\n",
       "      <td>1262</td>\n",
       "    </tr>\n",
       "    <tr>\n",
       "      <th>total</th>\n",
       "      <td>36663</td>\n",
       "      <td>87428</td>\n",
       "    </tr>\n",
       "  </tbody>\n",
       "</table>\n",
       "</div>"
      ],
      "text/plain": [
       "                value        \n",
       "measure     ambulance walk-in\n",
       "pod                          \n",
       "aae_type-01     36384   68928\n",
       "aae_type-02         3    1304\n",
       "aae_type-03       276   15934\n",
       "aae_type-04         0    1262\n",
       "total           36663   87428"
      ]
     },
     "execution_count": 17,
     "metadata": {},
     "output_type": "execute_result"
    }
   ],
   "source": [
    "default_pod_measure_pivot(ae_agg)"
   ]
  },
  {
   "attachments": {},
   "cell_type": "markdown",
   "metadata": {},
   "source": [
    "### Estimate of effects"
   ]
  },
  {
   "cell_type": "code",
   "execution_count": 18,
   "metadata": {},
   "outputs": [
    {
     "data": {
      "text/html": [
       "<div>\n",
       "<style scoped>\n",
       "    .dataframe tbody tr th:only-of-type {\n",
       "        vertical-align: middle;\n",
       "    }\n",
       "\n",
       "    .dataframe tbody tr th {\n",
       "        vertical-align: top;\n",
       "    }\n",
       "\n",
       "    .dataframe thead tr th {\n",
       "        text-align: left;\n",
       "    }\n",
       "\n",
       "    .dataframe thead tr:last-of-type th {\n",
       "        text-align: right;\n",
       "    }\n",
       "</style>\n",
       "<table border=\"1\" class=\"dataframe\">\n",
       "  <thead>\n",
       "    <tr>\n",
       "      <th></th>\n",
       "      <th>value</th>\n",
       "    </tr>\n",
       "    <tr>\n",
       "      <th>measure</th>\n",
       "      <th>arrivals</th>\n",
       "    </tr>\n",
       "    <tr>\n",
       "      <th>change_factor</th>\n",
       "      <th></th>\n",
       "    </tr>\n",
       "  </thead>\n",
       "  <tbody>\n",
       "    <tr>\n",
       "      <th>baseline</th>\n",
       "      <td>116518.0</td>\n",
       "    </tr>\n",
       "    <tr>\n",
       "      <th>demographic_adjustment</th>\n",
       "      <td>13770.7</td>\n",
       "    </tr>\n",
       "    <tr>\n",
       "      <th>health_status_adjustment</th>\n",
       "      <td>76.7</td>\n",
       "    </tr>\n",
       "    <tr>\n",
       "      <th>covid_adjustment</th>\n",
       "      <td>3579.5</td>\n",
       "    </tr>\n",
       "    <tr>\n",
       "      <th>expat</th>\n",
       "      <td>-2743.5</td>\n",
       "    </tr>\n",
       "    <tr>\n",
       "      <th>repat</th>\n",
       "      <td>2688.6</td>\n",
       "    </tr>\n",
       "    <tr>\n",
       "      <th>baseline_adjustment</th>\n",
       "      <td>0.0</td>\n",
       "    </tr>\n",
       "    <tr>\n",
       "      <th>activity_avoidance</th>\n",
       "      <td>-9799.0</td>\n",
       "    </tr>\n",
       "    <tr>\n",
       "      <th>total</th>\n",
       "      <td>124091.0</td>\n",
       "    </tr>\n",
       "  </tbody>\n",
       "</table>\n",
       "</div>"
      ],
      "text/plain": [
       "                             value\n",
       "measure                   arrivals\n",
       "change_factor                     \n",
       "baseline                  116518.0\n",
       "demographic_adjustment     13770.7\n",
       "health_status_adjustment      76.7\n",
       "covid_adjustment            3579.5\n",
       "expat                      -2743.5\n",
       "repat                       2688.6\n",
       "baseline_adjustment            0.0\n",
       "activity_avoidance         -9799.0\n",
       "total                     124091.0"
      ]
     },
     "execution_count": 18,
     "metadata": {},
     "output_type": "execute_result"
    }
   ],
   "source": [
    "step_counts_simple(ae_agg)"
   ]
  }
 ],
 "metadata": {
  "kernelspec": {
   "display_name": "nhp",
   "language": "python",
   "name": "python3"
  },
  "language_info": {
   "codemirror_mode": {
    "name": "ipython",
    "version": 3
   },
   "file_extension": ".py",
   "mimetype": "text/x-python",
   "name": "python",
   "nbconvert_exporter": "python",
   "pygments_lexer": "ipython3",
   "version": "3.11.4"
  },
  "orig_nbformat": 4,
  "vscode": {
   "interpreter": {
    "hash": "c1de5562295e89faace6ac5fe4df1226df77f1b888c7ebeb8deaca6b2a3c1d9b"
   }
  }
 },
 "nbformat": 4,
 "nbformat_minor": 2
}
