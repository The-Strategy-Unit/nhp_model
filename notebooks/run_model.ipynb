{
 "cells": [
  {
   "cell_type": "code",
   "execution_count": 1,
   "metadata": {},
   "outputs": [],
   "source": [
    "%cd -q ..\n",
    "\n",
    "import numpy as np\n",
    "import pandas as pd\n",
    "\n",
    "from model.helpers import load_params\n",
    "from model.inpatients import InpatientsModel\n",
    "from model.outpatients import OutpatientsModel\n",
    "from model.aae import AaEModel\n",
    "\n",
    "pd.set_option(\"display.precision\", 1)"
   ]
  },
  {
   "cell_type": "code",
   "execution_count": null,
   "metadata": {},
   "outputs": [],
   "source": [
    "import logging\n",
    "logging.basicConfig(\n",
    "    format=\"%(asctime)s %(levelname)-8s %(message)s\",\n",
    "    level=logging.INFO,\n",
    "    datefmt=\"%Y-%m-%d %H:%M:%S\",\n",
    ")"
   ]
  },
  {
   "cell_type": "code",
   "execution_count": null,
   "metadata": {},
   "outputs": [],
   "source": [
    "params = load_params(\"sample_params.json\")"
   ]
  },
  {
   "attachments": {},
   "cell_type": "markdown",
   "metadata": {},
   "source": [
    "# Helper Methods\n",
    "\n",
    "Below are some helper methods for turning the results into useful Pandas `DataFrames`."
   ]
  },
  {
   "cell_type": "code",
   "execution_count": null,
   "metadata": {},
   "outputs": [],
   "source": [
    "def run_model(model):\n",
    "    params = load_params(\"sample_params.json\")\n",
    "\n",
    "    return {\n",
    "        k0: pd.DataFrame([\n",
    "            { **dict(k1), \"value\": v1 }\n",
    "            for k1, v1 in v0.items()\n",
    "        ])\n",
    "        for k0, v0 in model(params, \"data\").go(0).items()\n",
    "    }"
   ]
  },
  {
   "cell_type": "code",
   "execution_count": null,
   "metadata": {},
   "outputs": [],
   "source": [
    "def default_pod_measure_pivot(agg):\n",
    "    default_results = (\n",
    "        agg[\"default\"]\n",
    "        .groupby([\"pod\", \"measure\"], as_index=False)\n",
    "        .agg({\"value\": sum})\n",
    "        .pivot(index=[\"pod\"], columns=\"measure\")\n",
    "        .fillna(0)\n",
    "    )\n",
    "    default_results.loc[\"total\"] = default_results.sum()\n",
    "\n",
    "    return default_results"
   ]
  },
  {
   "cell_type": "code",
   "execution_count": null,
   "metadata": {},
   "outputs": [],
   "source": [
    "def step_counts_simple(agg):\n",
    "    step_counts = (\n",
    "        agg[\"step_counts\"]\n",
    "        .drop(columns=[\"strategy\", \"activity_type\"])\n",
    "        .groupby([\"change_factor\", \"measure\"], as_index=False)\n",
    "        .sum()\n",
    "        .pivot(index=\"change_factor\", columns=\"measure\")\n",
    "        .loc[agg[\"step_counts\"][\"change_factor\"].unique()]\n",
    "    )\n",
    "    step_counts.loc[\"total\"] = step_counts.sum()\n",
    "\n",
    "    return step_counts"
   ]
  },
  {
   "attachments": {},
   "cell_type": "markdown",
   "metadata": {},
   "source": [
    "# Running the models"
   ]
  },
  {
   "attachments": {},
   "cell_type": "markdown",
   "metadata": {},
   "source": [
    "## Inpatients\n",
    "\n",
    "Running the principal model run (model run 0) for the Inpatients data"
   ]
  },
  {
   "cell_type": "code",
   "execution_count": null,
   "metadata": {},
   "outputs": [],
   "source": [
    "ip_agg = run_model(InpatientsModel)"
   ]
  },
  {
   "attachments": {},
   "cell_type": "markdown",
   "metadata": {},
   "source": [
    "### Aggregate Results"
   ]
  },
  {
   "attachments": {},
   "cell_type": "markdown",
   "metadata": {},
   "source": [
    "The available aggregations for inpatients are:"
   ]
  },
  {
   "cell_type": "code",
   "execution_count": null,
   "metadata": {},
   "outputs": [
    {
     "data": {
      "text/plain": [
       "['default',\n",
       " 'sex+age_group',\n",
       " 'sex+tretspef',\n",
       " 'bed_occupancy',\n",
       " 'theatres_available',\n",
       " 'step_counts']"
      ]
     },
     "execution_count": 8,
     "metadata": {},
     "output_type": "execute_result"
    }
   ],
   "source": [
    "list(ip_agg.keys())"
   ]
  },
  {
   "attachments": {},
   "cell_type": "markdown",
   "metadata": {},
   "source": [
    "We can view the default aggregations, summarising to pod/measure"
   ]
  },
  {
   "cell_type": "code",
   "execution_count": null,
   "metadata": {},
   "outputs": [
    {
     "data": {
      "text/html": [
       "<div>\n",
       "<style scoped>\n",
       "    .dataframe tbody tr th:only-of-type {\n",
       "        vertical-align: middle;\n",
       "    }\n",
       "\n",
       "    .dataframe tbody tr th {\n",
       "        vertical-align: top;\n",
       "    }\n",
       "\n",
       "    .dataframe thead tr th {\n",
       "        text-align: left;\n",
       "    }\n",
       "\n",
       "    .dataframe thead tr:last-of-type th {\n",
       "        text-align: right;\n",
       "    }\n",
       "</style>\n",
       "<table border=\"1\" class=\"dataframe\">\n",
       "  <thead>\n",
       "    <tr>\n",
       "      <th></th>\n",
       "      <th colspan=\"4\" halign=\"left\">value</th>\n",
       "    </tr>\n",
       "    <tr>\n",
       "      <th>measure</th>\n",
       "      <th>admissions</th>\n",
       "      <th>attendances</th>\n",
       "      <th>beddays</th>\n",
       "      <th>procedures</th>\n",
       "    </tr>\n",
       "    <tr>\n",
       "      <th>pod</th>\n",
       "      <th></th>\n",
       "      <th></th>\n",
       "      <th></th>\n",
       "      <th></th>\n",
       "    </tr>\n",
       "  </thead>\n",
       "  <tbody>\n",
       "    <tr>\n",
       "      <th>ip_elective_admission</th>\n",
       "      <td>7002.0</td>\n",
       "      <td>0.0</td>\n",
       "      <td>30127.0</td>\n",
       "      <td>3940.0</td>\n",
       "    </tr>\n",
       "    <tr>\n",
       "      <th>ip_elective_daycase</th>\n",
       "      <td>54276.0</td>\n",
       "      <td>0.0</td>\n",
       "      <td>54276.0</td>\n",
       "      <td>29473.0</td>\n",
       "    </tr>\n",
       "    <tr>\n",
       "      <th>ip_maternity_admission</th>\n",
       "      <td>7052.0</td>\n",
       "      <td>0.0</td>\n",
       "      <td>30868.0</td>\n",
       "      <td>3746.0</td>\n",
       "    </tr>\n",
       "    <tr>\n",
       "      <th>ip_non-elective_admission</th>\n",
       "      <td>44413.0</td>\n",
       "      <td>0.0</td>\n",
       "      <td>162258.0</td>\n",
       "      <td>6008.0</td>\n",
       "    </tr>\n",
       "    <tr>\n",
       "      <th>op_procedure</th>\n",
       "      <td>0.0</td>\n",
       "      <td>929.0</td>\n",
       "      <td>0.0</td>\n",
       "      <td>0.0</td>\n",
       "    </tr>\n",
       "    <tr>\n",
       "      <th>total</th>\n",
       "      <td>112743.0</td>\n",
       "      <td>929.0</td>\n",
       "      <td>277529.0</td>\n",
       "      <td>43167.0</td>\n",
       "    </tr>\n",
       "  </tbody>\n",
       "</table>\n",
       "</div>"
      ],
      "text/plain": [
       "                               value                                 \n",
       "measure                   admissions attendances   beddays procedures\n",
       "pod                                                                  \n",
       "ip_elective_admission         7002.0         0.0   30127.0     3940.0\n",
       "ip_elective_daycase          54276.0         0.0   54276.0    29473.0\n",
       "ip_maternity_admission        7052.0         0.0   30868.0     3746.0\n",
       "ip_non-elective_admission    44413.0         0.0  162258.0     6008.0\n",
       "op_procedure                     0.0       929.0       0.0        0.0\n",
       "total                       112743.0       929.0  277529.0    43167.0"
      ]
     },
     "execution_count": 9,
     "metadata": {},
     "output_type": "execute_result"
    }
   ],
   "source": [
    "default_pod_measure_pivot(ip_agg)"
   ]
  },
  {
   "attachments": {},
   "cell_type": "markdown",
   "metadata": {},
   "source": [
    "### Estimate of effects"
   ]
  },
  {
   "cell_type": "code",
   "execution_count": null,
   "metadata": {},
   "outputs": [
    {
     "data": {
      "text/html": [
       "<div>\n",
       "<style scoped>\n",
       "    .dataframe tbody tr th:only-of-type {\n",
       "        vertical-align: middle;\n",
       "    }\n",
       "\n",
       "    .dataframe tbody tr th {\n",
       "        vertical-align: top;\n",
       "    }\n",
       "\n",
       "    .dataframe thead tr th {\n",
       "        text-align: left;\n",
       "    }\n",
       "\n",
       "    .dataframe thead tr:last-of-type th {\n",
       "        text-align: right;\n",
       "    }\n",
       "</style>\n",
       "<table border=\"1\" class=\"dataframe\">\n",
       "  <thead>\n",
       "    <tr>\n",
       "      <th></th>\n",
       "      <th colspan=\"2\" halign=\"left\">value</th>\n",
       "    </tr>\n",
       "    <tr>\n",
       "      <th>measure</th>\n",
       "      <th>admissions</th>\n",
       "      <th>beddays</th>\n",
       "    </tr>\n",
       "    <tr>\n",
       "      <th>change_factor</th>\n",
       "      <th></th>\n",
       "      <th></th>\n",
       "    </tr>\n",
       "  </thead>\n",
       "  <tbody>\n",
       "    <tr>\n",
       "      <th>baseline</th>\n",
       "      <td>96864.0</td>\n",
       "      <td>308769.0</td>\n",
       "    </tr>\n",
       "    <tr>\n",
       "      <th>demographic_adjustment</th>\n",
       "      <td>22355.1</td>\n",
       "      <td>75440.7</td>\n",
       "    </tr>\n",
       "    <tr>\n",
       "      <th>health_status_adjustment</th>\n",
       "      <td>-3403.7</td>\n",
       "      <td>-12679.5</td>\n",
       "    </tr>\n",
       "    <tr>\n",
       "      <th>expat</th>\n",
       "      <td>-210.4</td>\n",
       "      <td>-746.4</td>\n",
       "    </tr>\n",
       "    <tr>\n",
       "      <th>repat</th>\n",
       "      <td>2335.2</td>\n",
       "      <td>8004.1</td>\n",
       "    </tr>\n",
       "    <tr>\n",
       "      <th>waiting_list_adjustment</th>\n",
       "      <td>165.2</td>\n",
       "      <td>249.5</td>\n",
       "    </tr>\n",
       "    <tr>\n",
       "      <th>baseline_adjustment</th>\n",
       "      <td>0.0</td>\n",
       "      <td>0.0</td>\n",
       "    </tr>\n",
       "    <tr>\n",
       "      <th>non-demographic_adjustment</th>\n",
       "      <td>11926.1</td>\n",
       "      <td>40845.7</td>\n",
       "    </tr>\n",
       "    <tr>\n",
       "      <th>activity_avoidance</th>\n",
       "      <td>-16359.6</td>\n",
       "      <td>-74080.0</td>\n",
       "    </tr>\n",
       "    <tr>\n",
       "      <th>efficiencies</th>\n",
       "      <td>-929.0</td>\n",
       "      <td>-68274.0</td>\n",
       "    </tr>\n",
       "    <tr>\n",
       "      <th>total</th>\n",
       "      <td>112743.0</td>\n",
       "      <td>277529.0</td>\n",
       "    </tr>\n",
       "  </tbody>\n",
       "</table>\n",
       "</div>"
      ],
      "text/plain": [
       "                                value          \n",
       "measure                    admissions   beddays\n",
       "change_factor                                  \n",
       "baseline                      96864.0  308769.0\n",
       "demographic_adjustment        22355.1   75440.7\n",
       "health_status_adjustment      -3403.7  -12679.5\n",
       "expat                          -210.4    -746.4\n",
       "repat                          2335.2    8004.1\n",
       "waiting_list_adjustment         165.2     249.5\n",
       "baseline_adjustment               0.0       0.0\n",
       "non-demographic_adjustment    11926.1   40845.7\n",
       "activity_avoidance           -16359.6  -74080.0\n",
       "efficiencies                   -929.0  -68274.0\n",
       "total                        112743.0  277529.0"
      ]
     },
     "execution_count": 10,
     "metadata": {},
     "output_type": "execute_result"
    }
   ],
   "source": [
    "step_counts_simple(ip_agg)"
   ]
  },
  {
   "attachments": {},
   "cell_type": "markdown",
   "metadata": {},
   "source": [
    "## Outpatients\n",
    "\n",
    "Running the principal model run (model run 0) for the Outpatients data"
   ]
  },
  {
   "cell_type": "code",
   "execution_count": null,
   "metadata": {},
   "outputs": [],
   "source": [
    "op_agg = run_model(OutpatientsModel)"
   ]
  },
  {
   "cell_type": "markdown",
   "metadata": {},
   "source": [
    "### Aggregate Results"
   ]
  },
  {
   "attachments": {},
   "cell_type": "markdown",
   "metadata": {},
   "source": [
    "The available aggregations for outpatients are:"
   ]
  },
  {
   "cell_type": "code",
   "execution_count": null,
   "metadata": {},
   "outputs": [
    {
     "data": {
      "text/plain": [
       "['default', 'sex+age_group', 'sex+tretspef', 'step_counts']"
      ]
     },
     "execution_count": 12,
     "metadata": {},
     "output_type": "execute_result"
    }
   ],
   "source": [
    "list(op_agg.keys())"
   ]
  },
  {
   "cell_type": "markdown",
   "metadata": {},
   "source": [
    "We can view the default aggregations, summarising to pod/measure"
   ]
  },
  {
   "cell_type": "code",
   "execution_count": null,
   "metadata": {},
   "outputs": [
    {
     "data": {
      "text/html": [
       "<div>\n",
       "<style scoped>\n",
       "    .dataframe tbody tr th:only-of-type {\n",
       "        vertical-align: middle;\n",
       "    }\n",
       "\n",
       "    .dataframe tbody tr th {\n",
       "        vertical-align: top;\n",
       "    }\n",
       "\n",
       "    .dataframe thead tr th {\n",
       "        text-align: left;\n",
       "    }\n",
       "\n",
       "    .dataframe thead tr:last-of-type th {\n",
       "        text-align: right;\n",
       "    }\n",
       "</style>\n",
       "<table border=\"1\" class=\"dataframe\">\n",
       "  <thead>\n",
       "    <tr>\n",
       "      <th></th>\n",
       "      <th colspan=\"2\" halign=\"left\">value</th>\n",
       "    </tr>\n",
       "    <tr>\n",
       "      <th>measure</th>\n",
       "      <th>attendances</th>\n",
       "      <th>tele_attendances</th>\n",
       "    </tr>\n",
       "    <tr>\n",
       "      <th>pod</th>\n",
       "      <th></th>\n",
       "      <th></th>\n",
       "    </tr>\n",
       "  </thead>\n",
       "  <tbody>\n",
       "    <tr>\n",
       "      <th>op_first</th>\n",
       "      <td>123544</td>\n",
       "      <td>14245</td>\n",
       "    </tr>\n",
       "    <tr>\n",
       "      <th>op_follow-up</th>\n",
       "      <td>290824</td>\n",
       "      <td>36083</td>\n",
       "    </tr>\n",
       "    <tr>\n",
       "      <th>op_procedure</th>\n",
       "      <td>0</td>\n",
       "      <td>40887</td>\n",
       "    </tr>\n",
       "    <tr>\n",
       "      <th>total</th>\n",
       "      <td>414368</td>\n",
       "      <td>91215</td>\n",
       "    </tr>\n",
       "  </tbody>\n",
       "</table>\n",
       "</div>"
      ],
      "text/plain": [
       "                   value                 \n",
       "measure      attendances tele_attendances\n",
       "pod                                      \n",
       "op_first          123544            14245\n",
       "op_follow-up      290824            36083\n",
       "op_procedure           0            40887\n",
       "total             414368            91215"
      ]
     },
     "execution_count": 13,
     "metadata": {},
     "output_type": "execute_result"
    }
   ],
   "source": [
    "default_pod_measure_pivot(op_agg)"
   ]
  },
  {
   "cell_type": "markdown",
   "metadata": {},
   "source": [
    "### Estimate of effects"
   ]
  },
  {
   "cell_type": "code",
   "execution_count": null,
   "metadata": {},
   "outputs": [
    {
     "data": {
      "text/html": [
       "<div>\n",
       "<style scoped>\n",
       "    .dataframe tbody tr th:only-of-type {\n",
       "        vertical-align: middle;\n",
       "    }\n",
       "\n",
       "    .dataframe tbody tr th {\n",
       "        vertical-align: top;\n",
       "    }\n",
       "\n",
       "    .dataframe thead tr th {\n",
       "        text-align: left;\n",
       "    }\n",
       "\n",
       "    .dataframe thead tr:last-of-type th {\n",
       "        text-align: right;\n",
       "    }\n",
       "</style>\n",
       "<table border=\"1\" class=\"dataframe\">\n",
       "  <thead>\n",
       "    <tr>\n",
       "      <th></th>\n",
       "      <th colspan=\"2\" halign=\"left\">value</th>\n",
       "    </tr>\n",
       "    <tr>\n",
       "      <th>measure</th>\n",
       "      <th>attendances</th>\n",
       "      <th>tele_attendances</th>\n",
       "    </tr>\n",
       "    <tr>\n",
       "      <th>change_factor</th>\n",
       "      <th></th>\n",
       "      <th></th>\n",
       "    </tr>\n",
       "  </thead>\n",
       "  <tbody>\n",
       "    <tr>\n",
       "      <th>baseline</th>\n",
       "      <td>440289.0</td>\n",
       "      <td>14655.0</td>\n",
       "    </tr>\n",
       "    <tr>\n",
       "      <th>demographic_adjustment</th>\n",
       "      <td>85841.0</td>\n",
       "      <td>3206.3</td>\n",
       "    </tr>\n",
       "    <tr>\n",
       "      <th>health_status_adjustment</th>\n",
       "      <td>-10372.7</td>\n",
       "      <td>-352.1</td>\n",
       "    </tr>\n",
       "    <tr>\n",
       "      <th>expat</th>\n",
       "      <td>-1351.5</td>\n",
       "      <td>-46.2</td>\n",
       "    </tr>\n",
       "    <tr>\n",
       "      <th>repat</th>\n",
       "      <td>10228.3</td>\n",
       "      <td>344.7</td>\n",
       "    </tr>\n",
       "    <tr>\n",
       "      <th>waiting_list_adjustment</th>\n",
       "      <td>7027.7</td>\n",
       "      <td>238.9</td>\n",
       "    </tr>\n",
       "    <tr>\n",
       "      <th>baseline_adjustment</th>\n",
       "      <td>0.0</td>\n",
       "      <td>0.0</td>\n",
       "    </tr>\n",
       "    <tr>\n",
       "      <th>activity_avoidance</th>\n",
       "      <td>-42682.8</td>\n",
       "      <td>-1442.7</td>\n",
       "    </tr>\n",
       "    <tr>\n",
       "      <th>efficiencies</th>\n",
       "      <td>-74611.0</td>\n",
       "      <td>74611.0</td>\n",
       "    </tr>\n",
       "    <tr>\n",
       "      <th>total</th>\n",
       "      <td>414368.0</td>\n",
       "      <td>91215.0</td>\n",
       "    </tr>\n",
       "  </tbody>\n",
       "</table>\n",
       "</div>"
      ],
      "text/plain": [
       "                               value                 \n",
       "measure                  attendances tele_attendances\n",
       "change_factor                                        \n",
       "baseline                    440289.0          14655.0\n",
       "demographic_adjustment       85841.0           3206.3\n",
       "health_status_adjustment    -10372.7           -352.1\n",
       "expat                        -1351.5            -46.2\n",
       "repat                        10228.3            344.7\n",
       "waiting_list_adjustment       7027.7            238.9\n",
       "baseline_adjustment              0.0              0.0\n",
       "activity_avoidance          -42682.8          -1442.7\n",
       "efficiencies                -74611.0          74611.0\n",
       "total                       414368.0          91215.0"
      ]
     },
     "execution_count": 14,
     "metadata": {},
     "output_type": "execute_result"
    }
   ],
   "source": [
    "step_counts_simple(op_agg)"
   ]
  },
  {
   "attachments": {},
   "cell_type": "markdown",
   "metadata": {},
   "source": [
    "## Accident and Emergency\n",
    "\n",
    "Running the principal model run (model run 0) for the A&E data"
   ]
  },
  {
   "cell_type": "code",
   "execution_count": null,
   "metadata": {},
   "outputs": [],
   "source": [
    "ae_agg = run_model(AaEModel)"
   ]
  },
  {
   "cell_type": "markdown",
   "metadata": {},
   "source": [
    "### Aggregate Results"
   ]
  },
  {
   "cell_type": "markdown",
   "metadata": {},
   "source": [
    "The available aggregations for outpatients are:"
   ]
  },
  {
   "cell_type": "code",
   "execution_count": null,
   "metadata": {},
   "outputs": [
    {
     "data": {
      "text/plain": [
       "['default', 'sex+age_group', 'step_counts']"
      ]
     },
     "execution_count": 16,
     "metadata": {},
     "output_type": "execute_result"
    }
   ],
   "source": [
    "list(ae_agg.keys())"
   ]
  },
  {
   "cell_type": "markdown",
   "metadata": {},
   "source": [
    "We can view the default aggregations, summarising to pod/measure"
   ]
  },
  {
   "cell_type": "code",
   "execution_count": null,
   "metadata": {},
   "outputs": [
    {
     "data": {
      "text/html": [
       "<div>\n",
       "<style scoped>\n",
       "    .dataframe tbody tr th:only-of-type {\n",
       "        vertical-align: middle;\n",
       "    }\n",
       "\n",
       "    .dataframe tbody tr th {\n",
       "        vertical-align: top;\n",
       "    }\n",
       "\n",
       "    .dataframe thead tr th {\n",
       "        text-align: left;\n",
       "    }\n",
       "\n",
       "    .dataframe thead tr:last-of-type th {\n",
       "        text-align: right;\n",
       "    }\n",
       "</style>\n",
       "<table border=\"1\" class=\"dataframe\">\n",
       "  <thead>\n",
       "    <tr>\n",
       "      <th></th>\n",
       "      <th colspan=\"2\" halign=\"left\">value</th>\n",
       "    </tr>\n",
       "    <tr>\n",
       "      <th>measure</th>\n",
       "      <th>ambulance</th>\n",
       "      <th>walk-in</th>\n",
       "    </tr>\n",
       "    <tr>\n",
       "      <th>pod</th>\n",
       "      <th></th>\n",
       "      <th></th>\n",
       "    </tr>\n",
       "  </thead>\n",
       "  <tbody>\n",
       "    <tr>\n",
       "      <th>aae_type-01</th>\n",
       "      <td>37107.0</td>\n",
       "      <td>66615.0</td>\n",
       "    </tr>\n",
       "    <tr>\n",
       "      <th>aae_type-02</th>\n",
       "      <td>5.0</td>\n",
       "      <td>923.0</td>\n",
       "    </tr>\n",
       "    <tr>\n",
       "      <th>aae_type-03</th>\n",
       "      <td>218.0</td>\n",
       "      <td>16038.0</td>\n",
       "    </tr>\n",
       "    <tr>\n",
       "      <th>aae_type-04</th>\n",
       "      <td>0.0</td>\n",
       "      <td>836.0</td>\n",
       "    </tr>\n",
       "    <tr>\n",
       "      <th>total</th>\n",
       "      <td>37330.0</td>\n",
       "      <td>84412.0</td>\n",
       "    </tr>\n",
       "  </tbody>\n",
       "</table>\n",
       "</div>"
      ],
      "text/plain": [
       "                value         \n",
       "measure     ambulance  walk-in\n",
       "pod                           \n",
       "aae_type-01   37107.0  66615.0\n",
       "aae_type-02       5.0    923.0\n",
       "aae_type-03     218.0  16038.0\n",
       "aae_type-04       0.0    836.0\n",
       "total         37330.0  84412.0"
      ]
     },
     "execution_count": 17,
     "metadata": {},
     "output_type": "execute_result"
    }
   ],
   "source": [
    "default_pod_measure_pivot(ae_agg)"
   ]
  },
  {
   "cell_type": "markdown",
   "metadata": {},
   "source": [
    "### Estimate of effects"
   ]
  },
  {
   "cell_type": "code",
   "execution_count": null,
   "metadata": {},
   "outputs": [
    {
     "data": {
      "text/html": [
       "<div>\n",
       "<style scoped>\n",
       "    .dataframe tbody tr th:only-of-type {\n",
       "        vertical-align: middle;\n",
       "    }\n",
       "\n",
       "    .dataframe tbody tr th {\n",
       "        vertical-align: top;\n",
       "    }\n",
       "\n",
       "    .dataframe thead tr th {\n",
       "        text-align: left;\n",
       "    }\n",
       "\n",
       "    .dataframe thead tr:last-of-type th {\n",
       "        text-align: right;\n",
       "    }\n",
       "</style>\n",
       "<table border=\"1\" class=\"dataframe\">\n",
       "  <thead>\n",
       "    <tr>\n",
       "      <th></th>\n",
       "      <th>value</th>\n",
       "    </tr>\n",
       "    <tr>\n",
       "      <th>measure</th>\n",
       "      <th>arrivals</th>\n",
       "    </tr>\n",
       "    <tr>\n",
       "      <th>change_factor</th>\n",
       "      <th></th>\n",
       "    </tr>\n",
       "  </thead>\n",
       "  <tbody>\n",
       "    <tr>\n",
       "      <th>baseline</th>\n",
       "      <td>116368.0</td>\n",
       "    </tr>\n",
       "    <tr>\n",
       "      <th>demographic_adjustment</th>\n",
       "      <td>16109.3</td>\n",
       "    </tr>\n",
       "    <tr>\n",
       "      <th>health_status_adjustment</th>\n",
       "      <td>-1192.2</td>\n",
       "    </tr>\n",
       "    <tr>\n",
       "      <th>expat</th>\n",
       "      <td>-2690.6</td>\n",
       "    </tr>\n",
       "    <tr>\n",
       "      <th>repat</th>\n",
       "      <td>2636.8</td>\n",
       "    </tr>\n",
       "    <tr>\n",
       "      <th>baseline_adjustment</th>\n",
       "      <td>0.0</td>\n",
       "    </tr>\n",
       "    <tr>\n",
       "      <th>activity_avoidance</th>\n",
       "      <td>-9489.3</td>\n",
       "    </tr>\n",
       "    <tr>\n",
       "      <th>total</th>\n",
       "      <td>121742.0</td>\n",
       "    </tr>\n",
       "  </tbody>\n",
       "</table>\n",
       "</div>"
      ],
      "text/plain": [
       "                             value\n",
       "measure                   arrivals\n",
       "change_factor                     \n",
       "baseline                  116368.0\n",
       "demographic_adjustment     16109.3\n",
       "health_status_adjustment   -1192.2\n",
       "expat                      -2690.6\n",
       "repat                       2636.8\n",
       "baseline_adjustment            0.0\n",
       "activity_avoidance         -9489.3\n",
       "total                     121742.0"
      ]
     },
     "execution_count": 18,
     "metadata": {},
     "output_type": "execute_result"
    }
   ],
   "source": [
    "step_counts_simple(ae_agg)"
   ]
  }
 ],
 "metadata": {
  "kernelspec": {
   "display_name": "nhp",
   "language": "python",
   "name": "python3"
  },
  "language_info": {
   "codemirror_mode": {
    "name": "ipython",
    "version": 3
   },
   "file_extension": ".py",
   "mimetype": "text/x-python",
   "name": "python",
   "nbconvert_exporter": "python",
   "pygments_lexer": "ipython3",
   "version": "3.11.0"
  },
  "orig_nbformat": 4,
  "vscode": {
   "interpreter": {
    "hash": "c1de5562295e89faace6ac5fe4df1226df77f1b888c7ebeb8deaca6b2a3c1d9b"
   }
  }
 },
 "nbformat": 4,
 "nbformat_minor": 2
}
