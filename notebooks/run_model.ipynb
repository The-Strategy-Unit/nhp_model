{
 "cells": [
  {
   "cell_type": "code",
   "execution_count": 1,
   "metadata": {},
   "outputs": [],
   "source": [
    "%cd -q ..\n",
    "\n",
    "import numpy as np\n",
    "import pandas as pd\n",
    "\n",
    "from model.helpers import load_params\n",
    "from model.model import Model\n",
    "from model.inpatients import InpatientsModel\n",
    "from model.outpatients import OutpatientsModel\n",
    "from model.aae import AaEModel\n",
    "from model.health_status_adjustment import HealthStatusAdjustmentInterpolated\n",
    "\n",
    "pd.set_option(\"display.precision\", 1)"
   ]
  },
  {
   "cell_type": "code",
   "execution_count": 2,
   "metadata": {},
   "outputs": [],
   "source": [
    "import logging\n",
    "\n",
    "logging.basicConfig(\n",
    "    format=\"%(asctime)s %(levelname)-8s %(message)s\",\n",
    "    level=logging.INFO,\n",
    "    datefmt=\"%Y-%m-%d %H:%M:%S\",\n",
    ")"
   ]
  },
  {
   "cell_type": "code",
   "execution_count": 3,
   "metadata": {},
   "outputs": [],
   "source": [
    "params = load_params(\"queue/sample_params.json\")\n",
    "run_params = Model.generate_run_params(params)\n",
    "hsa = HealthStatusAdjustmentInterpolated(\n",
    "    f\"data/2019/{params['dataset']}\", params[\"start_year\"]\n",
    ")"
   ]
  },
  {
   "attachments": {},
   "cell_type": "markdown",
   "metadata": {},
   "source": [
    "# Helper Methods\n",
    "\n",
    "Below are some helper methods for turning the results into useful Pandas `DataFrames`."
   ]
  },
  {
   "cell_type": "code",
   "execution_count": 4,
   "metadata": {},
   "outputs": [],
   "source": [
    "def run_model(model, i=0):\n",
    "    return {\n",
    "        k0: pd.DataFrame([{**dict(k1), \"value\": v1} for k1, v1 in v0.items()])\n",
    "        for k0, v0 in model(params, \"data\", hsa, run_params).go(i).items()\n",
    "    }"
   ]
  },
  {
   "cell_type": "code",
   "execution_count": 5,
   "metadata": {},
   "outputs": [],
   "source": [
    "def default_pod_measure_pivot(agg):\n",
    "    default_results = (\n",
    "        agg[\"default\"]\n",
    "        .groupby([\"pod\", \"measure\"], as_index=False)\n",
    "        .agg({\"value\": sum})\n",
    "        .pivot(index=[\"pod\"], columns=\"measure\")\n",
    "        .fillna(0)\n",
    "    )\n",
    "    default_results.loc[\"total\"] = default_results.sum()\n",
    "\n",
    "    return default_results"
   ]
  },
  {
   "cell_type": "code",
   "execution_count": 6,
   "metadata": {},
   "outputs": [],
   "source": [
    "def step_counts_simple(agg):\n",
    "    step_counts = (\n",
    "        agg[\"step_counts\"]\n",
    "        .drop(columns=[\"strategy\", \"activity_type\"])\n",
    "        .groupby([\"change_factor\", \"measure\"], as_index=False)\n",
    "        .sum()\n",
    "        .pivot(index=\"change_factor\", columns=\"measure\")\n",
    "        .loc[agg[\"step_counts\"][\"change_factor\"].unique()]\n",
    "    )\n",
    "    step_counts.loc[\"total\"] = step_counts.sum()\n",
    "\n",
    "    return step_counts"
   ]
  },
  {
   "attachments": {},
   "cell_type": "markdown",
   "metadata": {},
   "source": [
    "# Running the models"
   ]
  },
  {
   "attachments": {},
   "cell_type": "markdown",
   "metadata": {},
   "source": [
    "## Inpatients\n",
    "\n",
    "Running the principal model run (model run 0) for the Inpatients data"
   ]
  },
  {
   "cell_type": "code",
   "execution_count": 7,
   "metadata": {},
   "outputs": [],
   "source": [
    "ip_agg = run_model(InpatientsModel)"
   ]
  },
  {
   "attachments": {},
   "cell_type": "markdown",
   "metadata": {},
   "source": [
    "### Aggregate Results"
   ]
  },
  {
   "attachments": {},
   "cell_type": "markdown",
   "metadata": {},
   "source": [
    "The available aggregations for inpatients are:"
   ]
  },
  {
   "cell_type": "code",
   "execution_count": 8,
   "metadata": {},
   "outputs": [
    {
     "data": {
      "text/plain": [
       "['default',\n",
       " 'sex+age_group',\n",
       " 'sex+tretspef',\n",
       " 'bed_occupancy',\n",
       " 'theatres_available',\n",
       " 'step_counts']"
      ]
     },
     "execution_count": 8,
     "metadata": {},
     "output_type": "execute_result"
    }
   ],
   "source": [
    "list(ip_agg.keys())"
   ]
  },
  {
   "attachments": {},
   "cell_type": "markdown",
   "metadata": {},
   "source": [
    "We can view the default aggregations, summarising to pod/measure"
   ]
  },
  {
   "cell_type": "code",
   "execution_count": 9,
   "metadata": {},
   "outputs": [
    {
     "data": {
      "text/html": [
       "<div>\n",
       "<style scoped>\n",
       "    .dataframe tbody tr th:only-of-type {\n",
       "        vertical-align: middle;\n",
       "    }\n",
       "\n",
       "    .dataframe tbody tr th {\n",
       "        vertical-align: top;\n",
       "    }\n",
       "\n",
       "    .dataframe thead tr th {\n",
       "        text-align: left;\n",
       "    }\n",
       "\n",
       "    .dataframe thead tr:last-of-type th {\n",
       "        text-align: right;\n",
       "    }\n",
       "</style>\n",
       "<table border=\"1\" class=\"dataframe\">\n",
       "  <thead>\n",
       "    <tr>\n",
       "      <th></th>\n",
       "      <th colspan=\"4\" halign=\"left\">value</th>\n",
       "    </tr>\n",
       "    <tr>\n",
       "      <th>measure</th>\n",
       "      <th>admissions</th>\n",
       "      <th>attendances</th>\n",
       "      <th>beddays</th>\n",
       "      <th>procedures</th>\n",
       "    </tr>\n",
       "    <tr>\n",
       "      <th>pod</th>\n",
       "      <th></th>\n",
       "      <th></th>\n",
       "      <th></th>\n",
       "      <th></th>\n",
       "    </tr>\n",
       "  </thead>\n",
       "  <tbody>\n",
       "    <tr>\n",
       "      <th>ip_elective_admission</th>\n",
       "      <td>6698.0</td>\n",
       "      <td>0.0</td>\n",
       "      <td>27248.0</td>\n",
       "      <td>3677.0</td>\n",
       "    </tr>\n",
       "    <tr>\n",
       "      <th>ip_elective_daycase</th>\n",
       "      <td>54796.0</td>\n",
       "      <td>0.0</td>\n",
       "      <td>54796.0</td>\n",
       "      <td>29092.0</td>\n",
       "    </tr>\n",
       "    <tr>\n",
       "      <th>ip_maternity_admission</th>\n",
       "      <td>6740.0</td>\n",
       "      <td>0.0</td>\n",
       "      <td>31978.0</td>\n",
       "      <td>3566.0</td>\n",
       "    </tr>\n",
       "    <tr>\n",
       "      <th>ip_non-elective_admission</th>\n",
       "      <td>45255.0</td>\n",
       "      <td>0.0</td>\n",
       "      <td>162992.0</td>\n",
       "      <td>6358.0</td>\n",
       "    </tr>\n",
       "    <tr>\n",
       "      <th>op_procedure</th>\n",
       "      <td>0.0</td>\n",
       "      <td>923.0</td>\n",
       "      <td>0.0</td>\n",
       "      <td>0.0</td>\n",
       "    </tr>\n",
       "    <tr>\n",
       "      <th>total</th>\n",
       "      <td>113489.0</td>\n",
       "      <td>923.0</td>\n",
       "      <td>277014.0</td>\n",
       "      <td>42693.0</td>\n",
       "    </tr>\n",
       "  </tbody>\n",
       "</table>\n",
       "</div>"
      ],
      "text/plain": [
       "                               value                                 \n",
       "measure                   admissions attendances   beddays procedures\n",
       "pod                                                                  \n",
       "ip_elective_admission         6698.0         0.0   27248.0     3677.0\n",
       "ip_elective_daycase          54796.0         0.0   54796.0    29092.0\n",
       "ip_maternity_admission        6740.0         0.0   31978.0     3566.0\n",
       "ip_non-elective_admission    45255.0         0.0  162992.0     6358.0\n",
       "op_procedure                     0.0       923.0       0.0        0.0\n",
       "total                       113489.0       923.0  277014.0    42693.0"
      ]
     },
     "execution_count": 9,
     "metadata": {},
     "output_type": "execute_result"
    }
   ],
   "source": [
    "default_pod_measure_pivot(ip_agg)"
   ]
  },
  {
   "attachments": {},
   "cell_type": "markdown",
   "metadata": {},
   "source": [
    "### Estimate of effects"
   ]
  },
  {
   "cell_type": "code",
   "execution_count": 10,
   "metadata": {},
   "outputs": [
    {
     "data": {
      "text/html": [
       "<div>\n",
       "<style scoped>\n",
       "    .dataframe tbody tr th:only-of-type {\n",
       "        vertical-align: middle;\n",
       "    }\n",
       "\n",
       "    .dataframe tbody tr th {\n",
       "        vertical-align: top;\n",
       "    }\n",
       "\n",
       "    .dataframe thead tr th {\n",
       "        text-align: left;\n",
       "    }\n",
       "\n",
       "    .dataframe thead tr:last-of-type th {\n",
       "        text-align: right;\n",
       "    }\n",
       "</style>\n",
       "<table border=\"1\" class=\"dataframe\">\n",
       "  <thead>\n",
       "    <tr>\n",
       "      <th></th>\n",
       "      <th colspan=\"2\" halign=\"left\">value</th>\n",
       "    </tr>\n",
       "    <tr>\n",
       "      <th>measure</th>\n",
       "      <th>admissions</th>\n",
       "      <th>beddays</th>\n",
       "    </tr>\n",
       "    <tr>\n",
       "      <th>change_factor</th>\n",
       "      <th></th>\n",
       "      <th></th>\n",
       "    </tr>\n",
       "  </thead>\n",
       "  <tbody>\n",
       "    <tr>\n",
       "      <th>baseline</th>\n",
       "      <td>95786.0</td>\n",
       "      <td>305599.0</td>\n",
       "    </tr>\n",
       "    <tr>\n",
       "      <th>demographic_adjustment</th>\n",
       "      <td>17940.4</td>\n",
       "      <td>56818.8</td>\n",
       "    </tr>\n",
       "    <tr>\n",
       "      <th>health_status_adjustment</th>\n",
       "      <td>85.7</td>\n",
       "      <td>316.2</td>\n",
       "    </tr>\n",
       "    <tr>\n",
       "      <th>covid_adjustment</th>\n",
       "      <td>1584.6</td>\n",
       "      <td>4101.2</td>\n",
       "    </tr>\n",
       "    <tr>\n",
       "      <th>expat</th>\n",
       "      <td>-209.8</td>\n",
       "      <td>-706.4</td>\n",
       "    </tr>\n",
       "    <tr>\n",
       "      <th>repat</th>\n",
       "      <td>2321.9</td>\n",
       "      <td>7531.1</td>\n",
       "    </tr>\n",
       "    <tr>\n",
       "      <th>waiting_list_adjustment</th>\n",
       "      <td>166.4</td>\n",
       "      <td>227.2</td>\n",
       "    </tr>\n",
       "    <tr>\n",
       "      <th>baseline_adjustment</th>\n",
       "      <td>0.0</td>\n",
       "      <td>0.0</td>\n",
       "    </tr>\n",
       "    <tr>\n",
       "      <th>non-demographic_adjustment</th>\n",
       "      <td>11858.2</td>\n",
       "      <td>38431.3</td>\n",
       "    </tr>\n",
       "    <tr>\n",
       "      <th>activity_avoidance</th>\n",
       "      <td>-15121.5</td>\n",
       "      <td>-67005.4</td>\n",
       "    </tr>\n",
       "    <tr>\n",
       "      <th>efficiencies</th>\n",
       "      <td>-923.0</td>\n",
       "      <td>-68299.0</td>\n",
       "    </tr>\n",
       "    <tr>\n",
       "      <th>total</th>\n",
       "      <td>113489.0</td>\n",
       "      <td>277014.0</td>\n",
       "    </tr>\n",
       "  </tbody>\n",
       "</table>\n",
       "</div>"
      ],
      "text/plain": [
       "                                value          \n",
       "measure                    admissions   beddays\n",
       "change_factor                                  \n",
       "baseline                      95786.0  305599.0\n",
       "demographic_adjustment        17940.4   56818.8\n",
       "health_status_adjustment         85.7     316.2\n",
       "covid_adjustment               1584.6    4101.2\n",
       "expat                          -209.8    -706.4\n",
       "repat                          2321.9    7531.1\n",
       "waiting_list_adjustment         166.4     227.2\n",
       "baseline_adjustment               0.0       0.0\n",
       "non-demographic_adjustment    11858.2   38431.3\n",
       "activity_avoidance           -15121.5  -67005.4\n",
       "efficiencies                   -923.0  -68299.0\n",
       "total                        113489.0  277014.0"
      ]
     },
     "execution_count": 10,
     "metadata": {},
     "output_type": "execute_result"
    }
   ],
   "source": [
    "step_counts_simple(ip_agg)"
   ]
  },
  {
   "attachments": {},
   "cell_type": "markdown",
   "metadata": {},
   "source": [
    "## Outpatients\n",
    "\n",
    "Running the principal model run (model run 0) for the Outpatients data"
   ]
  },
  {
   "cell_type": "code",
   "execution_count": 11,
   "metadata": {},
   "outputs": [],
   "source": [
    "op_agg = run_model(OutpatientsModel)"
   ]
  },
  {
   "attachments": {},
   "cell_type": "markdown",
   "metadata": {},
   "source": [
    "### Aggregate Results"
   ]
  },
  {
   "attachments": {},
   "cell_type": "markdown",
   "metadata": {},
   "source": [
    "The available aggregations for outpatients are:"
   ]
  },
  {
   "cell_type": "code",
   "execution_count": 12,
   "metadata": {},
   "outputs": [
    {
     "data": {
      "text/plain": [
       "['default', 'sex+age_group', 'sex+tretspef', 'step_counts']"
      ]
     },
     "execution_count": 12,
     "metadata": {},
     "output_type": "execute_result"
    }
   ],
   "source": [
    "list(op_agg.keys())"
   ]
  },
  {
   "attachments": {},
   "cell_type": "markdown",
   "metadata": {},
   "source": [
    "We can view the default aggregations, summarising to pod/measure"
   ]
  },
  {
   "cell_type": "code",
   "execution_count": 13,
   "metadata": {},
   "outputs": [
    {
     "data": {
      "text/html": [
       "<div>\n",
       "<style scoped>\n",
       "    .dataframe tbody tr th:only-of-type {\n",
       "        vertical-align: middle;\n",
       "    }\n",
       "\n",
       "    .dataframe tbody tr th {\n",
       "        vertical-align: top;\n",
       "    }\n",
       "\n",
       "    .dataframe thead tr th {\n",
       "        text-align: left;\n",
       "    }\n",
       "\n",
       "    .dataframe thead tr:last-of-type th {\n",
       "        text-align: right;\n",
       "    }\n",
       "</style>\n",
       "<table border=\"1\" class=\"dataframe\">\n",
       "  <thead>\n",
       "    <tr>\n",
       "      <th></th>\n",
       "      <th colspan=\"2\" halign=\"left\">value</th>\n",
       "    </tr>\n",
       "    <tr>\n",
       "      <th>measure</th>\n",
       "      <th>attendances</th>\n",
       "      <th>tele_attendances</th>\n",
       "    </tr>\n",
       "    <tr>\n",
       "      <th>pod</th>\n",
       "      <th></th>\n",
       "      <th></th>\n",
       "    </tr>\n",
       "  </thead>\n",
       "  <tbody>\n",
       "    <tr>\n",
       "      <th>op_first</th>\n",
       "      <td>157283</td>\n",
       "      <td>20166</td>\n",
       "    </tr>\n",
       "    <tr>\n",
       "      <th>op_follow-up</th>\n",
       "      <td>308500</td>\n",
       "      <td>41876</td>\n",
       "    </tr>\n",
       "    <tr>\n",
       "      <th>op_procedure</th>\n",
       "      <td>44988</td>\n",
       "      <td>0</td>\n",
       "    </tr>\n",
       "    <tr>\n",
       "      <th>total</th>\n",
       "      <td>510771</td>\n",
       "      <td>62042</td>\n",
       "    </tr>\n",
       "  </tbody>\n",
       "</table>\n",
       "</div>"
      ],
      "text/plain": [
       "                   value                 \n",
       "measure      attendances tele_attendances\n",
       "pod                                      \n",
       "op_first          157283            20166\n",
       "op_follow-up      308500            41876\n",
       "op_procedure       44988                0\n",
       "total             510771            62042"
      ]
     },
     "execution_count": 13,
     "metadata": {},
     "output_type": "execute_result"
    }
   ],
   "source": [
    "default_pod_measure_pivot(op_agg)"
   ]
  },
  {
   "attachments": {},
   "cell_type": "markdown",
   "metadata": {},
   "source": [
    "### Estimate of effects"
   ]
  },
  {
   "cell_type": "code",
   "execution_count": 14,
   "metadata": {},
   "outputs": [
    {
     "data": {
      "text/html": [
       "<div>\n",
       "<style scoped>\n",
       "    .dataframe tbody tr th:only-of-type {\n",
       "        vertical-align: middle;\n",
       "    }\n",
       "\n",
       "    .dataframe tbody tr th {\n",
       "        vertical-align: top;\n",
       "    }\n",
       "\n",
       "    .dataframe thead tr th {\n",
       "        text-align: left;\n",
       "    }\n",
       "\n",
       "    .dataframe thead tr:last-of-type th {\n",
       "        text-align: right;\n",
       "    }\n",
       "</style>\n",
       "<table border=\"1\" class=\"dataframe\">\n",
       "  <thead>\n",
       "    <tr>\n",
       "      <th></th>\n",
       "      <th colspan=\"2\" halign=\"left\">value</th>\n",
       "    </tr>\n",
       "    <tr>\n",
       "      <th>measure</th>\n",
       "      <th>attendances</th>\n",
       "      <th>tele_attendances</th>\n",
       "    </tr>\n",
       "    <tr>\n",
       "      <th>change_factor</th>\n",
       "      <th></th>\n",
       "      <th></th>\n",
       "    </tr>\n",
       "  </thead>\n",
       "  <tbody>\n",
       "    <tr>\n",
       "      <th>baseline</th>\n",
       "      <td>451052.0</td>\n",
       "      <td>19802.0</td>\n",
       "    </tr>\n",
       "    <tr>\n",
       "      <th>demographic_adjustment</th>\n",
       "      <td>70229.8</td>\n",
       "      <td>3370.2</td>\n",
       "    </tr>\n",
       "    <tr>\n",
       "      <th>health_status_adjustment</th>\n",
       "      <td>222.4</td>\n",
       "      <td>10.7</td>\n",
       "    </tr>\n",
       "    <tr>\n",
       "      <th>covid_adjustment</th>\n",
       "      <td>55326.6</td>\n",
       "      <td>2370.5</td>\n",
       "    </tr>\n",
       "    <tr>\n",
       "      <th>expat</th>\n",
       "      <td>-1531.7</td>\n",
       "      <td>-68.0</td>\n",
       "    </tr>\n",
       "    <tr>\n",
       "      <th>repat</th>\n",
       "      <td>11444.3</td>\n",
       "      <td>501.8</td>\n",
       "    </tr>\n",
       "    <tr>\n",
       "      <th>waiting_list_adjustment</th>\n",
       "      <td>7750.6</td>\n",
       "      <td>341.3</td>\n",
       "    </tr>\n",
       "    <tr>\n",
       "      <th>baseline_adjustment</th>\n",
       "      <td>0.0</td>\n",
       "      <td>0.0</td>\n",
       "    </tr>\n",
       "    <tr>\n",
       "      <th>activity_avoidance</th>\n",
       "      <td>-46002.9</td>\n",
       "      <td>-2006.4</td>\n",
       "    </tr>\n",
       "    <tr>\n",
       "      <th>efficiencies</th>\n",
       "      <td>-37720.0</td>\n",
       "      <td>37720.0</td>\n",
       "    </tr>\n",
       "    <tr>\n",
       "      <th>total</th>\n",
       "      <td>510771.0</td>\n",
       "      <td>62042.0</td>\n",
       "    </tr>\n",
       "  </tbody>\n",
       "</table>\n",
       "</div>"
      ],
      "text/plain": [
       "                               value                 \n",
       "measure                  attendances tele_attendances\n",
       "change_factor                                        \n",
       "baseline                    451052.0          19802.0\n",
       "demographic_adjustment       70229.8           3370.2\n",
       "health_status_adjustment       222.4             10.7\n",
       "covid_adjustment             55326.6           2370.5\n",
       "expat                        -1531.7            -68.0\n",
       "repat                        11444.3            501.8\n",
       "waiting_list_adjustment       7750.6            341.3\n",
       "baseline_adjustment              0.0              0.0\n",
       "activity_avoidance          -46002.9          -2006.4\n",
       "efficiencies                -37720.0          37720.0\n",
       "total                       510771.0          62042.0"
      ]
     },
     "execution_count": 14,
     "metadata": {},
     "output_type": "execute_result"
    }
   ],
   "source": [
    "step_counts_simple(op_agg)"
   ]
  },
  {
   "attachments": {},
   "cell_type": "markdown",
   "metadata": {},
   "source": [
    "## Accident and Emergency\n",
    "\n",
    "Running the principal model run (model run 0) for the A&E data"
   ]
  },
  {
   "cell_type": "code",
   "execution_count": 15,
   "metadata": {},
   "outputs": [],
   "source": [
    "ae_agg = run_model(AaEModel)"
   ]
  },
  {
   "attachments": {},
   "cell_type": "markdown",
   "metadata": {},
   "source": [
    "### Aggregate Results"
   ]
  },
  {
   "attachments": {},
   "cell_type": "markdown",
   "metadata": {},
   "source": [
    "The available aggregations for outpatients are:"
   ]
  },
  {
   "cell_type": "code",
   "execution_count": 16,
   "metadata": {},
   "outputs": [
    {
     "data": {
      "text/plain": [
       "['default', 'sex+age_group', 'step_counts']"
      ]
     },
     "execution_count": 16,
     "metadata": {},
     "output_type": "execute_result"
    }
   ],
   "source": [
    "list(ae_agg.keys())"
   ]
  },
  {
   "attachments": {},
   "cell_type": "markdown",
   "metadata": {},
   "source": [
    "We can view the default aggregations, summarising to pod/measure"
   ]
  },
  {
   "cell_type": "code",
   "execution_count": 17,
   "metadata": {},
   "outputs": [
    {
     "data": {
      "text/html": [
       "<div>\n",
       "<style scoped>\n",
       "    .dataframe tbody tr th:only-of-type {\n",
       "        vertical-align: middle;\n",
       "    }\n",
       "\n",
       "    .dataframe tbody tr th {\n",
       "        vertical-align: top;\n",
       "    }\n",
       "\n",
       "    .dataframe thead tr th {\n",
       "        text-align: left;\n",
       "    }\n",
       "\n",
       "    .dataframe thead tr:last-of-type th {\n",
       "        text-align: right;\n",
       "    }\n",
       "</style>\n",
       "<table border=\"1\" class=\"dataframe\">\n",
       "  <thead>\n",
       "    <tr>\n",
       "      <th></th>\n",
       "      <th colspan=\"2\" halign=\"left\">value</th>\n",
       "    </tr>\n",
       "    <tr>\n",
       "      <th>measure</th>\n",
       "      <th>ambulance</th>\n",
       "      <th>walk-in</th>\n",
       "    </tr>\n",
       "    <tr>\n",
       "      <th>pod</th>\n",
       "      <th></th>\n",
       "      <th></th>\n",
       "    </tr>\n",
       "  </thead>\n",
       "  <tbody>\n",
       "    <tr>\n",
       "      <th>aae_type-01</th>\n",
       "      <td>36790</td>\n",
       "      <td>71744</td>\n",
       "    </tr>\n",
       "    <tr>\n",
       "      <th>aae_type-02</th>\n",
       "      <td>1</td>\n",
       "      <td>1243</td>\n",
       "    </tr>\n",
       "    <tr>\n",
       "      <th>aae_type-03</th>\n",
       "      <td>206</td>\n",
       "      <td>18801</td>\n",
       "    </tr>\n",
       "    <tr>\n",
       "      <th>aae_type-04</th>\n",
       "      <td>2</td>\n",
       "      <td>1021</td>\n",
       "    </tr>\n",
       "    <tr>\n",
       "      <th>total</th>\n",
       "      <td>36999</td>\n",
       "      <td>92809</td>\n",
       "    </tr>\n",
       "  </tbody>\n",
       "</table>\n",
       "</div>"
      ],
      "text/plain": [
       "                value        \n",
       "measure     ambulance walk-in\n",
       "pod                          \n",
       "aae_type-01     36790   71744\n",
       "aae_type-02         1    1243\n",
       "aae_type-03       206   18801\n",
       "aae_type-04         2    1021\n",
       "total           36999   92809"
      ]
     },
     "execution_count": 17,
     "metadata": {},
     "output_type": "execute_result"
    }
   ],
   "source": [
    "default_pod_measure_pivot(ae_agg)"
   ]
  },
  {
   "attachments": {},
   "cell_type": "markdown",
   "metadata": {},
   "source": [
    "### Estimate of effects"
   ]
  },
  {
   "cell_type": "code",
   "execution_count": 18,
   "metadata": {},
   "outputs": [
    {
     "data": {
      "text/html": [
       "<div>\n",
       "<style scoped>\n",
       "    .dataframe tbody tr th:only-of-type {\n",
       "        vertical-align: middle;\n",
       "    }\n",
       "\n",
       "    .dataframe tbody tr th {\n",
       "        vertical-align: top;\n",
       "    }\n",
       "\n",
       "    .dataframe thead tr th {\n",
       "        text-align: left;\n",
       "    }\n",
       "\n",
       "    .dataframe thead tr:last-of-type th {\n",
       "        text-align: right;\n",
       "    }\n",
       "</style>\n",
       "<table border=\"1\" class=\"dataframe\">\n",
       "  <thead>\n",
       "    <tr>\n",
       "      <th></th>\n",
       "      <th>value</th>\n",
       "    </tr>\n",
       "    <tr>\n",
       "      <th>measure</th>\n",
       "      <th>arrivals</th>\n",
       "    </tr>\n",
       "    <tr>\n",
       "      <th>change_factor</th>\n",
       "      <th></th>\n",
       "    </tr>\n",
       "  </thead>\n",
       "  <tbody>\n",
       "    <tr>\n",
       "      <th>baseline</th>\n",
       "      <td>122556.0</td>\n",
       "    </tr>\n",
       "    <tr>\n",
       "      <th>demographic_adjustment</th>\n",
       "      <td>13555.9</td>\n",
       "    </tr>\n",
       "    <tr>\n",
       "      <th>health_status_adjustment</th>\n",
       "      <td>33.6</td>\n",
       "    </tr>\n",
       "    <tr>\n",
       "      <th>covid_adjustment</th>\n",
       "      <td>3672.8</td>\n",
       "    </tr>\n",
       "    <tr>\n",
       "      <th>expat</th>\n",
       "      <td>-2799.1</td>\n",
       "    </tr>\n",
       "    <tr>\n",
       "      <th>repat</th>\n",
       "      <td>2743.1</td>\n",
       "    </tr>\n",
       "    <tr>\n",
       "      <th>baseline_adjustment</th>\n",
       "      <td>0.0</td>\n",
       "    </tr>\n",
       "    <tr>\n",
       "      <th>activity_avoidance</th>\n",
       "      <td>-9954.3</td>\n",
       "    </tr>\n",
       "    <tr>\n",
       "      <th>total</th>\n",
       "      <td>129808.0</td>\n",
       "    </tr>\n",
       "  </tbody>\n",
       "</table>\n",
       "</div>"
      ],
      "text/plain": [
       "                             value\n",
       "measure                   arrivals\n",
       "change_factor                     \n",
       "baseline                  122556.0\n",
       "demographic_adjustment     13555.9\n",
       "health_status_adjustment      33.6\n",
       "covid_adjustment            3672.8\n",
       "expat                      -2799.1\n",
       "repat                       2743.1\n",
       "baseline_adjustment            0.0\n",
       "activity_avoidance         -9954.3\n",
       "total                     129808.0"
      ]
     },
     "execution_count": 18,
     "metadata": {},
     "output_type": "execute_result"
    }
   ],
   "source": [
    "step_counts_simple(ae_agg)"
   ]
  }
 ],
 "metadata": {
  "kernelspec": {
   "display_name": "nhp",
   "language": "python",
   "name": "python3"
  },
  "language_info": {
   "codemirror_mode": {
    "name": "ipython",
    "version": 3
   },
   "file_extension": ".py",
   "mimetype": "text/x-python",
   "name": "python",
   "nbconvert_exporter": "python",
   "pygments_lexer": "ipython3",
   "version": "3.11.4"
  },
  "orig_nbformat": 4,
  "vscode": {
   "interpreter": {
    "hash": "c1de5562295e89faace6ac5fe4df1226df77f1b888c7ebeb8deaca6b2a3c1d9b"
   }
  }
 },
 "nbformat": 4,
 "nbformat_minor": 2
}
