{
 "cells": [
  {
   "cell_type": "code",
   "execution_count": 1,
   "metadata": {},
   "outputs": [],
   "source": [
    "%cd -q ..\n",
    "\n",
    "import numpy as np\n",
    "import pandas as pd\n",
    "\n",
    "from model.helpers import load_params\n",
    "from model.model import Model\n",
    "from model.inpatients import InpatientsModel\n",
    "from model.outpatients import OutpatientsModel\n",
    "from model.aae import AaEModel\n",
    "from model.health_status_adjustment import HealthStatusAdjustmentInterpolated\n",
    "\n",
    "pd.set_option(\"display.precision\", 1)"
   ]
  },
  {
   "cell_type": "code",
   "execution_count": 2,
   "metadata": {},
   "outputs": [],
   "source": [
    "import logging\n",
    "logging.basicConfig(\n",
    "    format=\"%(asctime)s %(levelname)-8s %(message)s\",\n",
    "    level=logging.INFO,\n",
    "    datefmt=\"%Y-%m-%d %H:%M:%S\",\n",
    ")"
   ]
  },
  {
   "cell_type": "code",
   "execution_count": 3,
   "metadata": {},
   "outputs": [],
   "source": [
    "params = load_params(\"sample_params.json\")\n",
    "run_params = Model.generate_run_params(params)\n",
    "hsa = HealthStatusAdjustmentInterpolated(f\"data/{params['dataset']}\", params[\"life_expectancy\"])"
   ]
  },
  {
   "attachments": {},
   "cell_type": "markdown",
   "metadata": {},
   "source": [
    "# Helper Methods\n",
    "\n",
    "Below are some helper methods for turning the results into useful Pandas `DataFrames`."
   ]
  },
  {
   "cell_type": "code",
   "execution_count": 4,
   "metadata": {},
   "outputs": [],
   "source": [
    "def run_model(model):\n",
    "    params = load_params(\"sample_params.json\")\n",
    "\n",
    "    return {\n",
    "        k0: pd.DataFrame([\n",
    "            { **dict(k1), \"value\": v1 }\n",
    "            for k1, v1 in v0.items()\n",
    "        ])\n",
    "        for k0, v0 in model(params, \"data\", hsa, run_params).go(0).items()\n",
    "    }"
   ]
  },
  {
   "cell_type": "code",
   "execution_count": 5,
   "metadata": {},
   "outputs": [],
   "source": [
    "def default_pod_measure_pivot(agg):\n",
    "    default_results = (\n",
    "        agg[\"default\"]\n",
    "        .groupby([\"pod\", \"measure\"], as_index=False)\n",
    "        .agg({\"value\": sum})\n",
    "        .pivot(index=[\"pod\"], columns=\"measure\")\n",
    "        .fillna(0)\n",
    "    )\n",
    "    default_results.loc[\"total\"] = default_results.sum()\n",
    "\n",
    "    return default_results"
   ]
  },
  {
   "cell_type": "code",
   "execution_count": 6,
   "metadata": {},
   "outputs": [],
   "source": [
    "def step_counts_simple(agg):\n",
    "    step_counts = (\n",
    "        agg[\"step_counts\"]\n",
    "        .drop(columns=[\"strategy\", \"activity_type\"])\n",
    "        .groupby([\"change_factor\", \"measure\"], as_index=False)\n",
    "        .sum()\n",
    "        .pivot(index=\"change_factor\", columns=\"measure\")\n",
    "        .loc[agg[\"step_counts\"][\"change_factor\"].unique()]\n",
    "    )\n",
    "    step_counts.loc[\"total\"] = step_counts.sum()\n",
    "\n",
    "    return step_counts"
   ]
  },
  {
   "attachments": {},
   "cell_type": "markdown",
   "metadata": {},
   "source": [
    "# Running the models"
   ]
  },
  {
   "attachments": {},
   "cell_type": "markdown",
   "metadata": {},
   "source": [
    "## Inpatients\n",
    "\n",
    "Running the principal model run (model run 0) for the Inpatients data"
   ]
  },
  {
   "cell_type": "code",
   "execution_count": 7,
   "metadata": {},
   "outputs": [],
   "source": [
    "ip_agg = run_model(InpatientsModel)"
   ]
  },
  {
   "attachments": {},
   "cell_type": "markdown",
   "metadata": {},
   "source": [
    "### Aggregate Results"
   ]
  },
  {
   "attachments": {},
   "cell_type": "markdown",
   "metadata": {},
   "source": [
    "The available aggregations for inpatients are:"
   ]
  },
  {
   "cell_type": "code",
   "execution_count": 8,
   "metadata": {},
   "outputs": [
    {
     "data": {
      "text/plain": [
       "['default',\n",
       " 'sex+age_group',\n",
       " 'sex+tretspef',\n",
       " 'bed_occupancy',\n",
       " 'theatres_available',\n",
       " 'step_counts']"
      ]
     },
     "execution_count": 8,
     "metadata": {},
     "output_type": "execute_result"
    }
   ],
   "source": [
    "list(ip_agg.keys())"
   ]
  },
  {
   "attachments": {},
   "cell_type": "markdown",
   "metadata": {},
   "source": [
    "We can view the default aggregations, summarising to pod/measure"
   ]
  },
  {
   "cell_type": "code",
   "execution_count": 9,
   "metadata": {},
   "outputs": [
    {
     "data": {
      "text/html": [
       "<div>\n",
       "<style scoped>\n",
       "    .dataframe tbody tr th:only-of-type {\n",
       "        vertical-align: middle;\n",
       "    }\n",
       "\n",
       "    .dataframe tbody tr th {\n",
       "        vertical-align: top;\n",
       "    }\n",
       "\n",
       "    .dataframe thead tr th {\n",
       "        text-align: left;\n",
       "    }\n",
       "\n",
       "    .dataframe thead tr:last-of-type th {\n",
       "        text-align: right;\n",
       "    }\n",
       "</style>\n",
       "<table border=\"1\" class=\"dataframe\">\n",
       "  <thead>\n",
       "    <tr>\n",
       "      <th></th>\n",
       "      <th colspan=\"4\" halign=\"left\">value</th>\n",
       "    </tr>\n",
       "    <tr>\n",
       "      <th>measure</th>\n",
       "      <th>admissions</th>\n",
       "      <th>attendances</th>\n",
       "      <th>beddays</th>\n",
       "      <th>procedures</th>\n",
       "    </tr>\n",
       "    <tr>\n",
       "      <th>pod</th>\n",
       "      <th></th>\n",
       "      <th></th>\n",
       "      <th></th>\n",
       "      <th></th>\n",
       "    </tr>\n",
       "  </thead>\n",
       "  <tbody>\n",
       "    <tr>\n",
       "      <th>ip_elective_admission</th>\n",
       "      <td>6984.0</td>\n",
       "      <td>0.0</td>\n",
       "      <td>29784.0</td>\n",
       "      <td>3879.0</td>\n",
       "    </tr>\n",
       "    <tr>\n",
       "      <th>ip_elective_daycase</th>\n",
       "      <td>54306.0</td>\n",
       "      <td>0.0</td>\n",
       "      <td>54306.0</td>\n",
       "      <td>29497.0</td>\n",
       "    </tr>\n",
       "    <tr>\n",
       "      <th>ip_maternity_admission</th>\n",
       "      <td>7090.0</td>\n",
       "      <td>0.0</td>\n",
       "      <td>30643.0</td>\n",
       "      <td>3770.0</td>\n",
       "    </tr>\n",
       "    <tr>\n",
       "      <th>ip_non-elective_admission</th>\n",
       "      <td>44340.0</td>\n",
       "      <td>0.0</td>\n",
       "      <td>161931.0</td>\n",
       "      <td>5924.0</td>\n",
       "    </tr>\n",
       "    <tr>\n",
       "      <th>op_procedure</th>\n",
       "      <td>0.0</td>\n",
       "      <td>935.0</td>\n",
       "      <td>0.0</td>\n",
       "      <td>0.0</td>\n",
       "    </tr>\n",
       "    <tr>\n",
       "      <th>total</th>\n",
       "      <td>112720.0</td>\n",
       "      <td>935.0</td>\n",
       "      <td>276664.0</td>\n",
       "      <td>43070.0</td>\n",
       "    </tr>\n",
       "  </tbody>\n",
       "</table>\n",
       "</div>"
      ],
      "text/plain": [
       "                               value                                 \n",
       "measure                   admissions attendances   beddays procedures\n",
       "pod                                                                  \n",
       "ip_elective_admission         6984.0         0.0   29784.0     3879.0\n",
       "ip_elective_daycase          54306.0         0.0   54306.0    29497.0\n",
       "ip_maternity_admission        7090.0         0.0   30643.0     3770.0\n",
       "ip_non-elective_admission    44340.0         0.0  161931.0     5924.0\n",
       "op_procedure                     0.0       935.0       0.0        0.0\n",
       "total                       112720.0       935.0  276664.0    43070.0"
      ]
     },
     "execution_count": 9,
     "metadata": {},
     "output_type": "execute_result"
    }
   ],
   "source": [
    "default_pod_measure_pivot(ip_agg)"
   ]
  },
  {
   "attachments": {},
   "cell_type": "markdown",
   "metadata": {},
   "source": [
    "### Estimate of effects"
   ]
  },
  {
   "cell_type": "code",
   "execution_count": 10,
   "metadata": {},
   "outputs": [
    {
     "data": {
      "text/html": [
       "<div>\n",
       "<style scoped>\n",
       "    .dataframe tbody tr th:only-of-type {\n",
       "        vertical-align: middle;\n",
       "    }\n",
       "\n",
       "    .dataframe tbody tr th {\n",
       "        vertical-align: top;\n",
       "    }\n",
       "\n",
       "    .dataframe thead tr th {\n",
       "        text-align: left;\n",
       "    }\n",
       "\n",
       "    .dataframe thead tr:last-of-type th {\n",
       "        text-align: right;\n",
       "    }\n",
       "</style>\n",
       "<table border=\"1\" class=\"dataframe\">\n",
       "  <thead>\n",
       "    <tr>\n",
       "      <th></th>\n",
       "      <th colspan=\"2\" halign=\"left\">value</th>\n",
       "    </tr>\n",
       "    <tr>\n",
       "      <th>measure</th>\n",
       "      <th>admissions</th>\n",
       "      <th>beddays</th>\n",
       "    </tr>\n",
       "    <tr>\n",
       "      <th>change_factor</th>\n",
       "      <th></th>\n",
       "      <th></th>\n",
       "    </tr>\n",
       "  </thead>\n",
       "  <tbody>\n",
       "    <tr>\n",
       "      <th>baseline</th>\n",
       "      <td>96864.0</td>\n",
       "      <td>308769.0</td>\n",
       "    </tr>\n",
       "    <tr>\n",
       "      <th>demographic_adjustment</th>\n",
       "      <td>22331.6</td>\n",
       "      <td>75279.9</td>\n",
       "    </tr>\n",
       "    <tr>\n",
       "      <th>health_status_adjustment</th>\n",
       "      <td>-3398.1</td>\n",
       "      <td>-12619.5</td>\n",
       "    </tr>\n",
       "    <tr>\n",
       "      <th>expat</th>\n",
       "      <td>-210.1</td>\n",
       "      <td>-744.8</td>\n",
       "    </tr>\n",
       "    <tr>\n",
       "      <th>repat</th>\n",
       "      <td>2332.8</td>\n",
       "      <td>7987.7</td>\n",
       "    </tr>\n",
       "    <tr>\n",
       "      <th>waiting_list_adjustment</th>\n",
       "      <td>165.0</td>\n",
       "      <td>248.9</td>\n",
       "    </tr>\n",
       "    <tr>\n",
       "      <th>baseline_adjustment</th>\n",
       "      <td>0.0</td>\n",
       "      <td>0.0</td>\n",
       "    </tr>\n",
       "    <tr>\n",
       "      <th>non-demographic_adjustment</th>\n",
       "      <td>11913.7</td>\n",
       "      <td>40762.0</td>\n",
       "    </tr>\n",
       "    <tr>\n",
       "      <th>activity_avoidance</th>\n",
       "      <td>-16343.9</td>\n",
       "      <td>-73932.2</td>\n",
       "    </tr>\n",
       "    <tr>\n",
       "      <th>efficiencies</th>\n",
       "      <td>-935.0</td>\n",
       "      <td>-69087.0</td>\n",
       "    </tr>\n",
       "    <tr>\n",
       "      <th>total</th>\n",
       "      <td>112720.0</td>\n",
       "      <td>276664.0</td>\n",
       "    </tr>\n",
       "  </tbody>\n",
       "</table>\n",
       "</div>"
      ],
      "text/plain": [
       "                                value          \n",
       "measure                    admissions   beddays\n",
       "change_factor                                  \n",
       "baseline                      96864.0  308769.0\n",
       "demographic_adjustment        22331.6   75279.9\n",
       "health_status_adjustment      -3398.1  -12619.5\n",
       "expat                          -210.1    -744.8\n",
       "repat                          2332.8    7987.7\n",
       "waiting_list_adjustment         165.0     248.9\n",
       "baseline_adjustment               0.0       0.0\n",
       "non-demographic_adjustment    11913.7   40762.0\n",
       "activity_avoidance           -16343.9  -73932.2\n",
       "efficiencies                   -935.0  -69087.0\n",
       "total                        112720.0  276664.0"
      ]
     },
     "execution_count": 10,
     "metadata": {},
     "output_type": "execute_result"
    }
   ],
   "source": [
    "step_counts_simple(ip_agg)"
   ]
  },
  {
   "attachments": {},
   "cell_type": "markdown",
   "metadata": {},
   "source": [
    "## Outpatients\n",
    "\n",
    "Running the principal model run (model run 0) for the Outpatients data"
   ]
  },
  {
   "cell_type": "code",
   "execution_count": 11,
   "metadata": {},
   "outputs": [],
   "source": [
    "op_agg = run_model(OutpatientsModel)"
   ]
  },
  {
   "cell_type": "markdown",
   "metadata": {},
   "source": [
    "### Aggregate Results"
   ]
  },
  {
   "attachments": {},
   "cell_type": "markdown",
   "metadata": {},
   "source": [
    "The available aggregations for outpatients are:"
   ]
  },
  {
   "cell_type": "code",
   "execution_count": 12,
   "metadata": {},
   "outputs": [
    {
     "data": {
      "text/plain": [
       "['default', 'sex+age_group', 'sex+tretspef', 'step_counts']"
      ]
     },
     "execution_count": 12,
     "metadata": {},
     "output_type": "execute_result"
    }
   ],
   "source": [
    "list(op_agg.keys())"
   ]
  },
  {
   "cell_type": "markdown",
   "metadata": {},
   "source": [
    "We can view the default aggregations, summarising to pod/measure"
   ]
  },
  {
   "cell_type": "code",
   "execution_count": 13,
   "metadata": {},
   "outputs": [
    {
     "data": {
      "text/html": [
       "<div>\n",
       "<style scoped>\n",
       "    .dataframe tbody tr th:only-of-type {\n",
       "        vertical-align: middle;\n",
       "    }\n",
       "\n",
       "    .dataframe tbody tr th {\n",
       "        vertical-align: top;\n",
       "    }\n",
       "\n",
       "    .dataframe thead tr th {\n",
       "        text-align: left;\n",
       "    }\n",
       "\n",
       "    .dataframe thead tr:last-of-type th {\n",
       "        text-align: right;\n",
       "    }\n",
       "</style>\n",
       "<table border=\"1\" class=\"dataframe\">\n",
       "  <thead>\n",
       "    <tr>\n",
       "      <th></th>\n",
       "      <th colspan=\"2\" halign=\"left\">value</th>\n",
       "    </tr>\n",
       "    <tr>\n",
       "      <th>measure</th>\n",
       "      <th>attendances</th>\n",
       "      <th>tele_attendances</th>\n",
       "    </tr>\n",
       "    <tr>\n",
       "      <th>pod</th>\n",
       "      <th></th>\n",
       "      <th></th>\n",
       "    </tr>\n",
       "  </thead>\n",
       "  <tbody>\n",
       "    <tr>\n",
       "      <th>op_first</th>\n",
       "      <td>124125</td>\n",
       "      <td>14319</td>\n",
       "    </tr>\n",
       "    <tr>\n",
       "      <th>op_follow-up</th>\n",
       "      <td>290067</td>\n",
       "      <td>36004</td>\n",
       "    </tr>\n",
       "    <tr>\n",
       "      <th>op_procedure</th>\n",
       "      <td>0</td>\n",
       "      <td>40618</td>\n",
       "    </tr>\n",
       "    <tr>\n",
       "      <th>total</th>\n",
       "      <td>414192</td>\n",
       "      <td>90941</td>\n",
       "    </tr>\n",
       "  </tbody>\n",
       "</table>\n",
       "</div>"
      ],
      "text/plain": [
       "                   value                 \n",
       "measure      attendances tele_attendances\n",
       "pod                                      \n",
       "op_first          124125            14319\n",
       "op_follow-up      290067            36004\n",
       "op_procedure           0            40618\n",
       "total             414192            90941"
      ]
     },
     "execution_count": 13,
     "metadata": {},
     "output_type": "execute_result"
    }
   ],
   "source": [
    "default_pod_measure_pivot(op_agg)"
   ]
  },
  {
   "cell_type": "markdown",
   "metadata": {},
   "source": [
    "### Estimate of effects"
   ]
  },
  {
   "cell_type": "code",
   "execution_count": 14,
   "metadata": {},
   "outputs": [
    {
     "data": {
      "text/html": [
       "<div>\n",
       "<style scoped>\n",
       "    .dataframe tbody tr th:only-of-type {\n",
       "        vertical-align: middle;\n",
       "    }\n",
       "\n",
       "    .dataframe tbody tr th {\n",
       "        vertical-align: top;\n",
       "    }\n",
       "\n",
       "    .dataframe thead tr th {\n",
       "        text-align: left;\n",
       "    }\n",
       "\n",
       "    .dataframe thead tr:last-of-type th {\n",
       "        text-align: right;\n",
       "    }\n",
       "</style>\n",
       "<table border=\"1\" class=\"dataframe\">\n",
       "  <thead>\n",
       "    <tr>\n",
       "      <th></th>\n",
       "      <th colspan=\"2\" halign=\"left\">value</th>\n",
       "    </tr>\n",
       "    <tr>\n",
       "      <th>measure</th>\n",
       "      <th>attendances</th>\n",
       "      <th>tele_attendances</th>\n",
       "    </tr>\n",
       "    <tr>\n",
       "      <th>change_factor</th>\n",
       "      <th></th>\n",
       "      <th></th>\n",
       "    </tr>\n",
       "  </thead>\n",
       "  <tbody>\n",
       "    <tr>\n",
       "      <th>baseline</th>\n",
       "      <td>440289.0</td>\n",
       "      <td>14655.0</td>\n",
       "    </tr>\n",
       "    <tr>\n",
       "      <th>demographic_adjustment</th>\n",
       "      <td>86405.7</td>\n",
       "      <td>3135.5</td>\n",
       "    </tr>\n",
       "    <tr>\n",
       "      <th>health_status_adjustment</th>\n",
       "      <td>-11184.5</td>\n",
       "      <td>-377.2</td>\n",
       "    </tr>\n",
       "    <tr>\n",
       "      <th>expat</th>\n",
       "      <td>-1358.3</td>\n",
       "      <td>-45.0</td>\n",
       "    </tr>\n",
       "    <tr>\n",
       "      <th>repat</th>\n",
       "      <td>10280.8</td>\n",
       "      <td>336.4</td>\n",
       "    </tr>\n",
       "    <tr>\n",
       "      <th>waiting_list_adjustment</th>\n",
       "      <td>7063.7</td>\n",
       "      <td>233.1</td>\n",
       "    </tr>\n",
       "    <tr>\n",
       "      <th>baseline_adjustment</th>\n",
       "      <td>0.0</td>\n",
       "      <td>0.0</td>\n",
       "    </tr>\n",
       "    <tr>\n",
       "      <th>activity_avoidance</th>\n",
       "      <td>-42893.4</td>\n",
       "      <td>-1407.9</td>\n",
       "    </tr>\n",
       "    <tr>\n",
       "      <th>efficiencies</th>\n",
       "      <td>-74411.0</td>\n",
       "      <td>74411.0</td>\n",
       "    </tr>\n",
       "    <tr>\n",
       "      <th>total</th>\n",
       "      <td>414192.0</td>\n",
       "      <td>90941.0</td>\n",
       "    </tr>\n",
       "  </tbody>\n",
       "</table>\n",
       "</div>"
      ],
      "text/plain": [
       "                               value                 \n",
       "measure                  attendances tele_attendances\n",
       "change_factor                                        \n",
       "baseline                    440289.0          14655.0\n",
       "demographic_adjustment       86405.7           3135.5\n",
       "health_status_adjustment    -11184.5           -377.2\n",
       "expat                        -1358.3            -45.0\n",
       "repat                        10280.8            336.4\n",
       "waiting_list_adjustment       7063.7            233.1\n",
       "baseline_adjustment              0.0              0.0\n",
       "activity_avoidance          -42893.4          -1407.9\n",
       "efficiencies                -74411.0          74411.0\n",
       "total                       414192.0          90941.0"
      ]
     },
     "execution_count": 14,
     "metadata": {},
     "output_type": "execute_result"
    }
   ],
   "source": [
    "step_counts_simple(op_agg)"
   ]
  },
  {
   "attachments": {},
   "cell_type": "markdown",
   "metadata": {},
   "source": [
    "## Accident and Emergency\n",
    "\n",
    "Running the principal model run (model run 0) for the A&E data"
   ]
  },
  {
   "cell_type": "code",
   "execution_count": 15,
   "metadata": {},
   "outputs": [],
   "source": [
    "ae_agg = run_model(AaEModel)"
   ]
  },
  {
   "cell_type": "markdown",
   "metadata": {},
   "source": [
    "### Aggregate Results"
   ]
  },
  {
   "cell_type": "markdown",
   "metadata": {},
   "source": [
    "The available aggregations for outpatients are:"
   ]
  },
  {
   "cell_type": "code",
   "execution_count": 16,
   "metadata": {},
   "outputs": [
    {
     "data": {
      "text/plain": [
       "['default', 'sex+age_group', 'step_counts']"
      ]
     },
     "execution_count": 16,
     "metadata": {},
     "output_type": "execute_result"
    }
   ],
   "source": [
    "list(ae_agg.keys())"
   ]
  },
  {
   "cell_type": "markdown",
   "metadata": {},
   "source": [
    "We can view the default aggregations, summarising to pod/measure"
   ]
  },
  {
   "cell_type": "code",
   "execution_count": 17,
   "metadata": {},
   "outputs": [
    {
     "data": {
      "text/html": [
       "<div>\n",
       "<style scoped>\n",
       "    .dataframe tbody tr th:only-of-type {\n",
       "        vertical-align: middle;\n",
       "    }\n",
       "\n",
       "    .dataframe tbody tr th {\n",
       "        vertical-align: top;\n",
       "    }\n",
       "\n",
       "    .dataframe thead tr th {\n",
       "        text-align: left;\n",
       "    }\n",
       "\n",
       "    .dataframe thead tr:last-of-type th {\n",
       "        text-align: right;\n",
       "    }\n",
       "</style>\n",
       "<table border=\"1\" class=\"dataframe\">\n",
       "  <thead>\n",
       "    <tr>\n",
       "      <th></th>\n",
       "      <th colspan=\"2\" halign=\"left\">value</th>\n",
       "    </tr>\n",
       "    <tr>\n",
       "      <th>measure</th>\n",
       "      <th>ambulance</th>\n",
       "      <th>walk-in</th>\n",
       "    </tr>\n",
       "    <tr>\n",
       "      <th>pod</th>\n",
       "      <th></th>\n",
       "      <th></th>\n",
       "    </tr>\n",
       "  </thead>\n",
       "  <tbody>\n",
       "    <tr>\n",
       "      <th>aae_type-01</th>\n",
       "      <td>36902.0</td>\n",
       "      <td>66615.0</td>\n",
       "    </tr>\n",
       "    <tr>\n",
       "      <th>aae_type-02</th>\n",
       "      <td>6.0</td>\n",
       "      <td>939.0</td>\n",
       "    </tr>\n",
       "    <tr>\n",
       "      <th>aae_type-03</th>\n",
       "      <td>222.0</td>\n",
       "      <td>15964.0</td>\n",
       "    </tr>\n",
       "    <tr>\n",
       "      <th>aae_type-04</th>\n",
       "      <td>0.0</td>\n",
       "      <td>833.0</td>\n",
       "    </tr>\n",
       "    <tr>\n",
       "      <th>total</th>\n",
       "      <td>37130.0</td>\n",
       "      <td>84351.0</td>\n",
       "    </tr>\n",
       "  </tbody>\n",
       "</table>\n",
       "</div>"
      ],
      "text/plain": [
       "                value         \n",
       "measure     ambulance  walk-in\n",
       "pod                           \n",
       "aae_type-01   36902.0  66615.0\n",
       "aae_type-02       6.0    939.0\n",
       "aae_type-03     222.0  15964.0\n",
       "aae_type-04       0.0    833.0\n",
       "total         37130.0  84351.0"
      ]
     },
     "execution_count": 17,
     "metadata": {},
     "output_type": "execute_result"
    }
   ],
   "source": [
    "default_pod_measure_pivot(ae_agg)"
   ]
  },
  {
   "cell_type": "markdown",
   "metadata": {},
   "source": [
    "### Estimate of effects"
   ]
  },
  {
   "cell_type": "code",
   "execution_count": 18,
   "metadata": {},
   "outputs": [
    {
     "data": {
      "text/html": [
       "<div>\n",
       "<style scoped>\n",
       "    .dataframe tbody tr th:only-of-type {\n",
       "        vertical-align: middle;\n",
       "    }\n",
       "\n",
       "    .dataframe tbody tr th {\n",
       "        vertical-align: top;\n",
       "    }\n",
       "\n",
       "    .dataframe thead tr th {\n",
       "        text-align: left;\n",
       "    }\n",
       "\n",
       "    .dataframe thead tr:last-of-type th {\n",
       "        text-align: right;\n",
       "    }\n",
       "</style>\n",
       "<table border=\"1\" class=\"dataframe\">\n",
       "  <thead>\n",
       "    <tr>\n",
       "      <th></th>\n",
       "      <th>value</th>\n",
       "    </tr>\n",
       "    <tr>\n",
       "      <th>measure</th>\n",
       "      <th>arrivals</th>\n",
       "    </tr>\n",
       "    <tr>\n",
       "      <th>change_factor</th>\n",
       "      <th></th>\n",
       "    </tr>\n",
       "  </thead>\n",
       "  <tbody>\n",
       "    <tr>\n",
       "      <th>baseline</th>\n",
       "      <td>116368.0</td>\n",
       "    </tr>\n",
       "    <tr>\n",
       "      <th>demographic_adjustment</th>\n",
       "      <td>15704.8</td>\n",
       "    </tr>\n",
       "    <tr>\n",
       "      <th>health_status_adjustment</th>\n",
       "      <td>-1295.9</td>\n",
       "    </tr>\n",
       "    <tr>\n",
       "      <th>expat</th>\n",
       "      <td>-2620.3</td>\n",
       "    </tr>\n",
       "    <tr>\n",
       "      <th>repat</th>\n",
       "      <td>2567.9</td>\n",
       "    </tr>\n",
       "    <tr>\n",
       "      <th>baseline_adjustment</th>\n",
       "      <td>0.0</td>\n",
       "    </tr>\n",
       "    <tr>\n",
       "      <th>activity_avoidance</th>\n",
       "      <td>-9243.5</td>\n",
       "    </tr>\n",
       "    <tr>\n",
       "      <th>total</th>\n",
       "      <td>121481.0</td>\n",
       "    </tr>\n",
       "  </tbody>\n",
       "</table>\n",
       "</div>"
      ],
      "text/plain": [
       "                             value\n",
       "measure                   arrivals\n",
       "change_factor                     \n",
       "baseline                  116368.0\n",
       "demographic_adjustment     15704.8\n",
       "health_status_adjustment   -1295.9\n",
       "expat                      -2620.3\n",
       "repat                       2567.9\n",
       "baseline_adjustment            0.0\n",
       "activity_avoidance         -9243.5\n",
       "total                     121481.0"
      ]
     },
     "execution_count": 18,
     "metadata": {},
     "output_type": "execute_result"
    }
   ],
   "source": [
    "step_counts_simple(ae_agg)"
   ]
  }
 ],
 "metadata": {
  "kernelspec": {
   "display_name": "nhp",
   "language": "python",
   "name": "python3"
  },
  "language_info": {
   "codemirror_mode": {
    "name": "ipython",
    "version": 3
   },
   "file_extension": ".py",
   "mimetype": "text/x-python",
   "name": "python",
   "nbconvert_exporter": "python",
   "pygments_lexer": "ipython3",
   "version": "3.11.0"
  },
  "orig_nbformat": 4,
  "vscode": {
   "interpreter": {
    "hash": "c1de5562295e89faace6ac5fe4df1226df77f1b888c7ebeb8deaca6b2a3c1d9b"
   }
  }
 },
 "nbformat": 4,
 "nbformat_minor": 2
}
