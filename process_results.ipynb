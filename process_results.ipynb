{
 "cells": [
  {
   "cell_type": "code",
   "execution_count": 1,
   "metadata": {},
   "outputs": [],
   "source": [
    "import numpy as np\n",
    "import pandas as pd\n",
    "import pyarrow as pa\n",
    "import pyarrow.parquet as pq"
   ]
  },
  {
   "cell_type": "markdown",
   "metadata": {},
   "source": [
    "## Setup\n",
    "\n",
    "Choose the dataset, model name, and model run time below - this will locate what files to load"
   ]
  },
  {
   "cell_type": "code",
   "execution_count": 2,
   "metadata": {},
   "outputs": [],
   "source": [
    "dataset = \"RL4\"\n",
    "model_name = \"test\"\n",
    "model_run = \"20220110_104353\"\n",
    "\n",
    "data_path = f\"data/{dataset}\"\n",
    "results_path = f\"{data_path}/results/{model_name}/{model_run}\""
   ]
  },
  {
   "cell_type": "markdown",
   "metadata": {},
   "source": [
    "## Load Datasets"
   ]
  },
  {
   "cell_type": "code",
   "execution_count": 3,
   "metadata": {},
   "outputs": [],
   "source": [
    "def load_dataset(type, *args):\n",
    "  cols = [\"rn\", \"age\", \"sex\", \"ethnos\", \"imd04_decile\", \"tretspef\"]\n",
    "  \n",
    "  return (pq\n",
    "    .read_pandas(f\"{data_path}/{type}.parquet\", *args)\n",
    "    .to_pandas()\n",
    "    .set_index(\"rn\")\n",
    "  )"
   ]
  },
  {
   "cell_type": "code",
   "execution_count": 4,
   "metadata": {},
   "outputs": [],
   "source": [
    "ip = load_dataset(\"ip\", [\n",
    "  \"rn\", \"age\", \"sex\", \"ethnos\", \"imd04_decile\", \"tretspef\",\n",
    "  \"classpat\", \"admidate\", \"disdate\", \"speldur\", \"epitype\", \"admimeth\", \"dismeth\"\n",
    "])"
   ]
  },
  {
   "cell_type": "code",
   "execution_count": 5,
   "metadata": {},
   "outputs": [],
   "source": [
    "op = load_dataset(\"op\", [\n",
    "  \"rn\", \"age\", \"sex\", \"ethnos\", \"imd04_decile\", \"tretspef\",\n",
    "  \"is_first\", \"has_procedures\", \"attendances\", \"tele_attendances\"\n",
    "])"
   ]
  },
  {
   "cell_type": "code",
   "execution_count": 6,
   "metadata": {},
   "outputs": [],
   "source": [
    "aae = load_dataset(\"aae\")"
   ]
  },
  {
   "cell_type": "markdown",
   "metadata": {},
   "source": [
    "## Load Model Results"
   ]
  },
  {
   "cell_type": "code",
   "execution_count": 7,
   "metadata": {},
   "outputs": [],
   "source": [
    "partitioning = pa.dataset.HivePartitioning(pa.schema([(\"model_run\", pa.int32())]))\n",
    "def load_model_results(type):\n",
    "  ds = pq.ParquetDataset(\n",
    "    f\"{results_path}/{type}/\",\n",
    "    partitioning = partitioning,\n",
    "    use_legacy_dataset = False\n",
    "  )\n",
    "  df = ds.read_pandas().to_pandas()\n",
    "  return df.set_index(\"rn\")"
   ]
  },
  {
   "cell_type": "markdown",
   "metadata": {},
   "source": [
    "## Process IP data\n",
    "\n",
    "Rows that have a classpat of -1 need to be moved into OP."
   ]
  },
  {
   "cell_type": "code",
   "execution_count": 8,
   "metadata": {},
   "outputs": [],
   "source": [
    "ip_mr = load_model_results(\"ip\").drop([\"admission_avoidance_strategy\", \"los_reduction_strategy\"], axis = \"columns\")"
   ]
  },
  {
   "cell_type": "code",
   "execution_count": 9,
   "metadata": {},
   "outputs": [],
   "source": [
    "ip_op_row_ix = ip_mr[\"classpat\"] == \"-1\"\n",
    "\n",
    "ip_op_rows = (ip\n",
    "  .merge(ip_mr[ip_op_row_ix][[\"model_run\"]], left_index = True, right_index = True)\n",
    "  .value_counts([\"age\", \"sex\", \"imd04_decile\", \"ethnos\", \"tretspef\", \"model_run\"])\n",
    "  .to_frame(\"attendances\")\n",
    "  .reset_index()\n",
    ")\n",
    "ip_op_rows[\"is_first\"] = False\n",
    "ip_op_rows[\"has_procedures\"] = True\n",
    "ip_op_rows[\"tele_attendances\"] = 0"
   ]
  },
  {
   "cell_type": "code",
   "execution_count": 10,
   "metadata": {},
   "outputs": [],
   "source": [
    "# remove the ip to op rows\n",
    "ip_mr = (ip\n",
    "  .drop([\"classpat\", \"speldur\"], axis = \"columns\")\n",
    "  .merge(ip_mr[~ip_op_row_ix], left_index = True, right_index = True)\n",
    ")"
   ]
  },
  {
   "cell_type": "code",
   "execution_count": 11,
   "metadata": {},
   "outputs": [],
   "source": [
    "# join the results and the baseline data together\n",
    "ip[\"type\"] = \"baseline\"\n",
    "ip_mr[\"type\"] = \"model\"\n",
    "ip[\"model_run\"] = 0\n",
    "ip = pd.concat([ip, ip_mr])"
   ]
  },
  {
   "cell_type": "code",
   "execution_count": 12,
   "metadata": {},
   "outputs": [],
   "source": [
    "# free up memory\n",
    "ip_mr = None"
   ]
  },
  {
   "cell_type": "code",
   "execution_count": 13,
   "metadata": {},
   "outputs": [],
   "source": [
    "# create an admission group column\n",
    "ip[\"admission_group\"] = \"non-elective\"\n",
    "ip.loc[ip[\"admimeth\"].str.startswith(\"1\"), \"admission_group\"] = \"elective\"\n",
    "# quick dq fix: convert any \"non-elective\" daycases to \"elective\"\n",
    "ip.loc[ip[\"classpat\"].isin([\"2\", \"3\"]), \"admission_group\"] = \"elective\"\n",
    "# create a \"pod\" column, starting with the admission group\n",
    "ip[\"pod\"] = ip[\"admission_group\"]\n",
    "ip.loc[ip[\"classpat\"].isin([\"1\", \"4\"]), \"pod\"] += \"_admission\"\n",
    "ip.loc[ip[\"classpat\"].isin([\"2\", \"3\"]), \"pod\"] += \"_daycase\"\n",
    "ip.loc[ip[\"classpat\"] == \"5\", \"pod\"] += \"_birth-episode\"\n",
    "ip[\"beddays\"] = ip[\"speldur\"] + 1"
   ]
  },
  {
   "cell_type": "markdown",
   "metadata": {},
   "source": [
    "### IP aggregations"
   ]
  },
  {
   "cell_type": "code",
   "execution_count": 14,
   "metadata": {},
   "outputs": [],
   "source": [
    "ip_agg = (ip\n",
    "  .groupby([\"age\", \"sex\", \"type\", \"model_run\", \"pod\"], as_index = False)\n",
    "  .agg({ \"speldur\": len, \"beddays\": np.sum })\n",
    ").rename({ \"speldur\": \"admissions\" }, axis = \"columns\")"
   ]
  },
  {
   "cell_type": "markdown",
   "metadata": {},
   "source": [
    "## Outpatients"
   ]
  },
  {
   "cell_type": "code",
   "execution_count": 15,
   "metadata": {},
   "outputs": [],
   "source": [
    "# make sure to convert imd04_decile to a string\n",
    "op[\"imd04_decile\"] = op[\"imd04_decile\"].astype(str)"
   ]
  },
  {
   "cell_type": "code",
   "execution_count": 16,
   "metadata": {},
   "outputs": [],
   "source": [
    "op_mr = (op[[\"age\", \"sex\", \"imd04_decile\", \"ethnos\", \"tretspef\", \"is_first\", \"has_procedures\"]]\n",
    "  .merge(load_model_results(\"op\"), left_index = True, right_index = True)\n",
    ").reset_index(drop = True)"
   ]
  },
  {
   "cell_type": "code",
   "execution_count": 17,
   "metadata": {},
   "outputs": [],
   "source": [
    "op_mr = pd.concat([op_mr, ip_op_rows])"
   ]
  },
  {
   "cell_type": "code",
   "execution_count": 18,
   "metadata": {},
   "outputs": [],
   "source": [
    "# join the results and the baseline data together\n",
    "op[\"type\"] = \"baseline\"\n",
    "op_mr[\"type\"] = \"model\"\n",
    "op[\"model_run\"] = 0\n",
    "op = (pd.concat([op[op_mr.columns.tolist()].reset_index(drop = True), op_mr])\n",
    "  .groupby([\"age\", \"sex\", \"imd04_decile\", \"ethnos\", \"tretspef\", \"is_first\", \"has_procedures\", \"type\"], as_index = False)\n",
    "  .agg(sum)\n",
    ")\n",
    "op.loc[ op[\"is_first\"], \"pod\"] = \"op_first\"\n",
    "op.loc[~op[\"is_first\"], \"pod\"] = \"op_follow-up\"\n",
    "op.loc[op[\"has_procedures\"], \"pod\"] = \"op_procedure\"\n",
    "# repromote imd04_decile to categorial, make sure to use ip's categories\n",
    "op[\"imd04_decile\"] = pd.Categorical(\n",
    "  op[\"imd04_decile\"].astype(\"category\"),\n",
    "  ip[\"imd04_decile\"].cat.categories\n",
    ")"
   ]
  },
  {
   "cell_type": "markdown",
   "metadata": {},
   "source": [
    "### OP Aggregations"
   ]
  },
  {
   "cell_type": "code",
   "execution_count": 19,
   "metadata": {},
   "outputs": [],
   "source": [
    "op_agg = (op\n",
    "  .groupby([\"age\", \"sex\", \"pod\", \"type\", \"model_run\"], as_index = False)\n",
    "  .agg({ \"attendances\": np.sum, \"tele_attendances\": np.sum })\n",
    ")"
   ]
  },
  {
   "cell_type": "markdown",
   "metadata": {},
   "source": [
    "## A&E Data"
   ]
  },
  {
   "cell_type": "code",
   "execution_count": 20,
   "metadata": {},
   "outputs": [],
   "source": [
    "# create the pod type\n",
    "aae[\"pod\"] = \"type-\" + aae[\"aedepttype\"]\n",
    "\n",
    "aae_mr = (aae[[\"age\", \"sex\", \"imd04_decile\", \"ethnos\", \"aedepttype\", \"aearrivalmode\", \"pod\"]]\n",
    "  .merge(load_model_results(\"aae\"), left_index = True, right_index = True)\n",
    "  .reset_index(drop = True)\n",
    ")"
   ]
  },
  {
   "cell_type": "code",
   "execution_count": 21,
   "metadata": {},
   "outputs": [],
   "source": [
    "# join the results and the baseline data together\n",
    "aae[\"type\"] = \"baseline\"\n",
    "aae_mr[\"type\"] = \"model\"\n",
    "\n",
    "aae[\"model_run\"] = 0"
   ]
  },
  {
   "cell_type": "code",
   "execution_count": 22,
   "metadata": {},
   "outputs": [],
   "source": [
    "aae = pd.concat([aae[aae_mr.columns.tolist()].reset_index(drop = True), aae_mr])"
   ]
  },
  {
   "cell_type": "code",
   "execution_count": 23,
   "metadata": {},
   "outputs": [],
   "source": [
    "aae[\"measure\"] = \"walk-in\"\n",
    "aae.loc[aae[\"aearrivalmode\"] == \"1\", \"measure\"] = \"ambulance\""
   ]
  },
  {
   "cell_type": "code",
   "execution_count": 24,
   "metadata": {},
   "outputs": [],
   "source": [
    "aae_agg = (aae\n",
    "  .groupby([\"age\", \"sex\", \"pod\", \"type\", \"model_run\", \"measure\"], as_index = False)\n",
    "  .agg({ \"arrivals\": np.sum })\n",
    "  .rename({\"arrivals\": \"value\"}, axis = \"columns\")\n",
    "  .assign(dataset = \"aae\")\n",
    ")"
   ]
  },
  {
   "cell_type": "markdown",
   "metadata": {},
   "source": [
    "# Write aggregated data"
   ]
  },
  {
   "cell_type": "code",
   "execution_count": 26,
   "metadata": {},
   "outputs": [],
   "source": [
    "melted_data = [\n",
    "  pd.melt(\n",
    "    op_agg.assign(dataset = \"op\"),\n",
    "    [\"age\", \"sex\", \"dataset\", \"pod\", \"type\", \"model_run\"],\n",
    "    [\"attendances\", \"tele_attendances\"],\n",
    "    \"measure\"\n",
    "  ),\n",
    "\n",
    "  pd.melt(\n",
    "    ip_agg.assign(dataset = \"ip\"),\n",
    "    [\"age\", \"sex\", \"dataset\", \"pod\", \"type\", \"model_run\"],\n",
    "    [\"admissions\", \"beddays\"],\n",
    "    \"measure\"\n",
    "  ),\n",
    "\n",
    "  aae_agg\n",
    "]\n",
    "\n",
    "all_agg = pd.concat(melted_data).sort_values([\"sex\", \"dataset\", \"pod\", \"measure\", \"age\", \"type\", \"model_run\"])\n",
    "\n",
    "all_agg[all_agg[\"model_run\"] == 0, \"type\"] = \"principal\"\n",
    "\n",
    "all_agg.to_parquet(f\"{results_path}/model_results.parquet\")\n",
    "\n",
    "all_agg"
   ]
  }
 ],
 "metadata": {
  "interpreter": {
   "hash": "71037dceb37210055783f0299c3deef8fe179ebbcc2d71658480775f1f49bb03"
  },
  "kernelspec": {
   "display_name": "Python 3.8.12 ('nhp')",
   "language": "python",
   "name": "python3"
  },
  "language_info": {
   "codemirror_mode": {
    "name": "ipython",
    "version": 3
   },
   "file_extension": ".py",
   "mimetype": "text/x-python",
   "name": "python",
   "nbconvert_exporter": "python",
   "pygments_lexer": "ipython3",
   "version": "3.8.12"
  },
  "orig_nbformat": 4
 },
 "nbformat": 4,
 "nbformat_minor": 2
}
