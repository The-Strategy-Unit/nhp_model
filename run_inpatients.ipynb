{
 "cells": [
  {
   "cell_type": "code",
   "execution_count": 1,
   "metadata": {},
   "outputs": [],
   "source": [
    "import numpy as np\n",
    "import os\n",
    "import pandas as pd\n",
    "import pyarrow as pa\n",
    "import pyarrow.parquet as pq\n",
    "import re\n",
    "\n",
    "from pyarrow.dataset import HivePartitioning\n",
    "\n",
    "from model.InpatientsModel import InpatientsModel"
   ]
  },
  {
   "cell_type": "markdown",
   "metadata": {},
   "source": [
    "Select a particular dataset and model run, then create an instance of the Inpatients Model class and load the datset."
   ]
  },
  {
   "cell_type": "code",
   "execution_count": 2,
   "metadata": {},
   "outputs": [],
   "source": [
    "dataset = \"data/synthetic\"\n",
    "model_run = f\"test/20220110_104353\"\n",
    "m = InpatientsModel(f\"{dataset}/results/{model_run}\")\n",
    "ip = pq.read_pandas(f\"{dataset}/ip.parquet\").to_pandas()\n",
    "ip.drop([\"hsagrp\"], axis = \"columns\", inplace = True)"
   ]
  },
  {
   "cell_type": "markdown",
   "metadata": {},
   "source": [
    "We can now perform a model run. The `0` is the model run number. This alters the random seed used for the PRNG, meaning each time we run the model with this value we will get the same results."
   ]
  },
  {
   "cell_type": "code",
   "execution_count": 3,
   "metadata": {},
   "outputs": [
    {
     "data": {
      "text/html": [
       "<div>\n",
       "<style scoped>\n",
       "    .dataframe tbody tr th:only-of-type {\n",
       "        vertical-align: middle;\n",
       "    }\n",
       "\n",
       "    .dataframe tbody tr th {\n",
       "        vertical-align: top;\n",
       "    }\n",
       "\n",
       "    .dataframe thead th {\n",
       "        text-align: right;\n",
       "    }\n",
       "</style>\n",
       "<table border=\"1\" class=\"dataframe\">\n",
       "  <thead>\n",
       "    <tr style=\"text-align: right;\">\n",
       "      <th></th>\n",
       "      <th>rn</th>\n",
       "      <th>speldur</th>\n",
       "      <th>classpat</th>\n",
       "      <th>admission_avoidance_strategy</th>\n",
       "      <th>los_reduction_strategy</th>\n",
       "    </tr>\n",
       "  </thead>\n",
       "  <tbody>\n",
       "    <tr>\n",
       "      <th>0</th>\n",
       "      <td>69912</td>\n",
       "      <td>0.0</td>\n",
       "      <td>2</td>\n",
       "      <td>NULL</td>\n",
       "      <td>NULL</td>\n",
       "    </tr>\n",
       "    <tr>\n",
       "      <th>1</th>\n",
       "      <td>69912</td>\n",
       "      <td>0.0</td>\n",
       "      <td>2</td>\n",
       "      <td>NULL</td>\n",
       "      <td>NULL</td>\n",
       "    </tr>\n",
       "    <tr>\n",
       "      <th>2</th>\n",
       "      <td>22261</td>\n",
       "      <td>0.0</td>\n",
       "      <td>2</td>\n",
       "      <td>NULL</td>\n",
       "      <td>improved_discharge_planning_elective</td>\n",
       "    </tr>\n",
       "    <tr>\n",
       "      <th>3</th>\n",
       "      <td>121349</td>\n",
       "      <td>1.0</td>\n",
       "      <td>1</td>\n",
       "      <td>NULL</td>\n",
       "      <td>improved_discharge_planning_non-elective</td>\n",
       "    </tr>\n",
       "    <tr>\n",
       "      <th>4</th>\n",
       "      <td>121349</td>\n",
       "      <td>1.0</td>\n",
       "      <td>1</td>\n",
       "      <td>NULL</td>\n",
       "      <td>improved_discharge_planning_non-elective</td>\n",
       "    </tr>\n",
       "    <tr>\n",
       "      <th>...</th>\n",
       "      <td>...</td>\n",
       "      <td>...</td>\n",
       "      <td>...</td>\n",
       "      <td>...</td>\n",
       "      <td>...</td>\n",
       "    </tr>\n",
       "    <tr>\n",
       "      <th>147702</th>\n",
       "      <td>121847</td>\n",
       "      <td>0.0</td>\n",
       "      <td>1</td>\n",
       "      <td>NULL</td>\n",
       "      <td>improved_discharge_planning_non-elective</td>\n",
       "    </tr>\n",
       "    <tr>\n",
       "      <th>147703</th>\n",
       "      <td>47388</td>\n",
       "      <td>0.0</td>\n",
       "      <td>2</td>\n",
       "      <td>NULL</td>\n",
       "      <td>improved_discharge_planning_elective</td>\n",
       "    </tr>\n",
       "    <tr>\n",
       "      <th>147704</th>\n",
       "      <td>47388</td>\n",
       "      <td>0.0</td>\n",
       "      <td>2</td>\n",
       "      <td>NULL</td>\n",
       "      <td>improved_discharge_planning_elective</td>\n",
       "    </tr>\n",
       "    <tr>\n",
       "      <th>147705</th>\n",
       "      <td>78737</td>\n",
       "      <td>1.0</td>\n",
       "      <td>1</td>\n",
       "      <td>NULL</td>\n",
       "      <td>NULL</td>\n",
       "    </tr>\n",
       "    <tr>\n",
       "      <th>147706</th>\n",
       "      <td>123586</td>\n",
       "      <td>1.0</td>\n",
       "      <td>1</td>\n",
       "      <td>NULL</td>\n",
       "      <td>improved_discharge_planning_non-elective</td>\n",
       "    </tr>\n",
       "  </tbody>\n",
       "</table>\n",
       "<p>147707 rows × 5 columns</p>\n",
       "</div>"
      ],
      "text/plain": [
       "            rn  speldur classpat admission_avoidance_strategy  \\\n",
       "0        69912      0.0        2                         NULL   \n",
       "1        69912      0.0        2                         NULL   \n",
       "2        22261      0.0        2                         NULL   \n",
       "3       121349      1.0        1                         NULL   \n",
       "4       121349      1.0        1                         NULL   \n",
       "...        ...      ...      ...                          ...   \n",
       "147702  121847      0.0        1                         NULL   \n",
       "147703   47388      0.0        2                         NULL   \n",
       "147704   47388      0.0        2                         NULL   \n",
       "147705   78737      1.0        1                         NULL   \n",
       "147706  123586      1.0        1                         NULL   \n",
       "\n",
       "                          los_reduction_strategy  \n",
       "0                                           NULL  \n",
       "1                                           NULL  \n",
       "2           improved_discharge_planning_elective  \n",
       "3       improved_discharge_planning_non-elective  \n",
       "4       improved_discharge_planning_non-elective  \n",
       "...                                          ...  \n",
       "147702  improved_discharge_planning_non-elective  \n",
       "147703      improved_discharge_planning_elective  \n",
       "147704      improved_discharge_planning_elective  \n",
       "147705                                      NULL  \n",
       "147706  improved_discharge_planning_non-elective  \n",
       "\n",
       "[147707 rows x 5 columns]"
      ]
     },
     "execution_count": 3,
     "metadata": {},
     "output_type": "execute_result"
    }
   ],
   "source": [
    "selected_variant, results = m.run(0)\n",
    "results"
   ]
  },
  {
   "cell_type": "markdown",
   "metadata": {},
   "source": [
    "We can join the results back to the full dataset to get all columns."
   ]
  },
  {
   "cell_type": "code",
   "execution_count": 4,
   "metadata": {},
   "outputs": [
    {
     "data": {
      "text/plain": [
       "(147707, 15)"
      ]
     },
     "execution_count": 4,
     "metadata": {},
     "output_type": "execute_result"
    }
   ],
   "source": [
    "merged_results = ip.drop([\"classpat\", \"speldur\"], axis = \"columns\").merge(results, on = \"rn\")\n",
    "merged_results.shape"
   ]
  },
  {
   "cell_type": "markdown",
   "metadata": {},
   "source": [
    "We can now compare the base data to the modelled results."
   ]
  },
  {
   "cell_type": "code",
   "execution_count": 5,
   "metadata": {},
   "outputs": [
    {
     "data": {
      "text/plain": [
       "(2.1196528833328165, 1.7333707948844672)"
      ]
     },
     "execution_count": 5,
     "metadata": {},
     "output_type": "execute_result"
    }
   ],
   "source": [
    "# mean length of stay in the baseline vs results\n",
    "(np.mean(ip.speldur), np.mean(merged_results.speldur))"
   ]
  },
  {
   "cell_type": "code",
   "execution_count": 6,
   "metadata": {},
   "outputs": [
    {
     "data": {
      "text/plain": [
       "(128948, 147707)"
      ]
     },
     "execution_count": 6,
     "metadata": {},
     "output_type": "execute_result"
    }
   ],
   "source": [
    "# number of rows in the baseline vs results\n",
    "(len(ip.index), len(merged_results.index))"
   ]
  },
  {
   "cell_type": "code",
   "execution_count": 7,
   "metadata": {},
   "outputs": [
    {
     "data": {
      "text/html": [
       "<div>\n",
       "<style scoped>\n",
       "    .dataframe tbody tr th:only-of-type {\n",
       "        vertical-align: middle;\n",
       "    }\n",
       "\n",
       "    .dataframe tbody tr th {\n",
       "        vertical-align: top;\n",
       "    }\n",
       "\n",
       "    .dataframe thead th {\n",
       "        text-align: right;\n",
       "    }\n",
       "</style>\n",
       "<table border=\"1\" class=\"dataframe\">\n",
       "  <thead>\n",
       "    <tr style=\"text-align: right;\">\n",
       "      <th></th>\n",
       "      <th>baseline</th>\n",
       "      <th>results</th>\n",
       "    </tr>\n",
       "    <tr>\n",
       "      <th>classpat</th>\n",
       "      <th></th>\n",
       "      <th></th>\n",
       "    </tr>\n",
       "  </thead>\n",
       "  <tbody>\n",
       "    <tr>\n",
       "      <th>-1</th>\n",
       "      <td>0.0</td>\n",
       "      <td>261</td>\n",
       "    </tr>\n",
       "    <tr>\n",
       "      <th>1</th>\n",
       "      <td>69560.0</td>\n",
       "      <td>76510</td>\n",
       "    </tr>\n",
       "    <tr>\n",
       "      <th>2</th>\n",
       "      <td>47864.0</td>\n",
       "      <td>57186</td>\n",
       "    </tr>\n",
       "    <tr>\n",
       "      <th>3</th>\n",
       "      <td>10476.0</td>\n",
       "      <td>12659</td>\n",
       "    </tr>\n",
       "    <tr>\n",
       "      <th>4</th>\n",
       "      <td>9.0</td>\n",
       "      <td>8</td>\n",
       "    </tr>\n",
       "    <tr>\n",
       "      <th>5</th>\n",
       "      <td>1039.0</td>\n",
       "      <td>1083</td>\n",
       "    </tr>\n",
       "  </tbody>\n",
       "</table>\n",
       "</div>"
      ],
      "text/plain": [
       "          baseline  results\n",
       "classpat                   \n",
       "-1             0.0      261\n",
       "1          69560.0    76510\n",
       "2          47864.0    57186\n",
       "3          10476.0    12659\n",
       "4              9.0        8\n",
       "5           1039.0     1083"
      ]
     },
     "execution_count": 7,
     "metadata": {},
     "output_type": "execute_result"
    }
   ],
   "source": [
    "# count by patient classification.\n",
    "# Note: -1 indicates that a row has moved from the inpatients dataset to outpatients\n",
    "pd.merge(\n",
    "  ip.value_counts(\"classpat\").to_frame(\"baseline\"),\n",
    "  merged_results.value_counts(\"classpat\").to_frame(\"results\"),\n",
    "  left_index = True,\n",
    "  right_index = True,\n",
    "  how = \"outer\"\n",
    ").fillna(0)"
   ]
  },
  {
   "cell_type": "markdown",
   "metadata": {},
   "source": [
    "We need to filter out the `classpat == -1` cases, these will be merged into Outpatients."
   ]
  },
  {
   "cell_type": "code",
   "execution_count": 8,
   "metadata": {},
   "outputs": [
    {
     "data": {
      "text/plain": [
       "(147446, 15)"
      ]
     },
     "execution_count": 8,
     "metadata": {},
     "output_type": "execute_result"
    }
   ],
   "source": [
    "outpatients_rows = merged_results.classpat == \"-1\"\n",
    "\n",
    "outpatients_results = merged_results[outpatients_rows] \\\n",
    "  [[\"rn\", \"age\", \"sex\", \"ethnos\", \"imd04_decile\", \"tretspef\", \"admidate\"]] \\\n",
    "  .rename(columns = { \"admidate\": \"apptdate\" })\n",
    "\n",
    "merged_results = merged_results[~outpatients_rows]\n",
    "merged_results.shape"
   ]
  },
  {
   "cell_type": "markdown",
   "metadata": {},
   "source": [
    "Now we need to do a bit of data cleansing, the modelling process updates the `speldur` (length of stay), but doesn't change the `disdate`."
   ]
  },
  {
   "cell_type": "code",
   "execution_count": 9,
   "metadata": {},
   "outputs": [],
   "source": [
    "merged_results.disdate = pd.to_datetime(merged_results.admidate) + pd.to_timedelta(merged_results.speldur, 'd')"
   ]
  },
  {
   "cell_type": "markdown",
   "metadata": {},
   "source": [
    "## Multiple Model Runs\n",
    "\n",
    "We can run multiple iterations of the model using the `multi_model_runs()` function. This function run's slightly differently from `run()` in two specific ways:\n",
    "\n",
    "1. It tries to run in parallel across multiple CPU cores, though this tend's to work much better on Linux than Windows (dependent on how this is run in Windows it may be stuck using a single CPU no matter how many you ask for)\n",
    "2. Instead of returning the results, it immediately saves them to disk in the folder `results/[model_name]/[model_run_date]/results`"
   ]
  },
  {
   "cell_type": "code",
   "execution_count": 10,
   "metadata": {},
   "outputs": [
    {
     "name": "stdout",
     "output_type": "stream",
     "text": [
      "36 ip model runs on 12 cpus\n"
     ]
    },
    {
     "name": "stderr",
     "output_type": "stream",
     "text": [
      "100%|██████████| 36/36 [00:11<00:00,  3.07it/s]"
     ]
    },
    {
     "name": "stdout",
     "output_type": "stream",
     "text": [
      "\n",
      "Timings:\n",
      "================================================================================\n",
      "* model runs:    mean: 1.273, range: [1.015, 1.585]\n",
      "* save results:  mean: 0.165, range: [0.094, 0.261]\n",
      "* total elapsed: mean: 1.438, range: [1.109, 1.759]\n",
      "================================================================================\n"
     ]
    },
    {
     "name": "stderr",
     "output_type": "stream",
     "text": [
      "\n"
     ]
    }
   ],
   "source": [
    "cpu_count = os.cpu_count()\n",
    "m.multi_model_runs(0, cpu_count * 3, cpu_count)"
   ]
  },
  {
   "cell_type": "code",
   "execution_count": 11,
   "metadata": {},
   "outputs": [],
   "source": [
    "partitioning = HivePartitioning(pa.schema([(\"model_run\", pa.int32())]))\n",
    "\n",
    "path = f\"{dataset}/results/{model_run}/ip\"\n",
    "files = [\n",
    "  path + \"/\" + re.sub(\"(?<=\\\\=)(\\\\d+)$\", \"\\\\1/\\\\1.parquet\", x)\n",
    "  for x in os.listdir(path)\n",
    "]\n",
    "\n",
    "multi_results = pq.ParquetDataset(\n",
    "  files,\n",
    "  partitioning = partitioning,\n",
    "  use_legacy_dataset = False\n",
    ").read_pandas().to_pandas()"
   ]
  },
  {
   "cell_type": "code",
   "execution_count": 12,
   "metadata": {},
   "outputs": [
    {
     "data": {
      "text/plain": [
       "model_run\n",
       "0    147707\n",
       "1    152043\n",
       "2    149472\n",
       "3    152591\n",
       "4    146150\n",
       "dtype: int64"
      ]
     },
     "execution_count": 12,
     "metadata": {},
     "output_type": "execute_result"
    }
   ],
   "source": [
    "mr_counts = multi_results.groupby([\"model_run\"]).size()\n",
    "mr_counts.head()"
   ]
  },
  {
   "cell_type": "markdown",
   "metadata": {},
   "source": [
    "baseline counts vs. modelled counts"
   ]
  },
  {
   "cell_type": "code",
   "execution_count": 13,
   "metadata": {},
   "outputs": [
    {
     "data": {
      "text/plain": [
       "(128948,\n",
       " mean      148206\n",
       " median    147298\n",
       " min       144229\n",
       " max       155292\n",
       " dtype: int32)"
      ]
     },
     "execution_count": 13,
     "metadata": {},
     "output_type": "execute_result"
    }
   ],
   "source": [
    "(len(ip.index), mr_counts.agg([\"mean\", \"median\", \"min\", \"max\"]).astype(int))"
   ]
  },
  {
   "cell_type": "code",
   "execution_count": 14,
   "metadata": {},
   "outputs": [
    {
     "data": {
      "text/plain": [
       "model_run\n",
       "0    1.733371\n",
       "1    1.737397\n",
       "2    1.721379\n",
       "3    1.707840\n",
       "4    1.802908\n",
       "Name: speldur, dtype: float64"
      ]
     },
     "execution_count": 14,
     "metadata": {},
     "output_type": "execute_result"
    }
   ],
   "source": [
    "mr_speldur = multi_results.groupby([\"model_run\"])[\"speldur\"].agg(\"mean\")\n",
    "mr_speldur.head()"
   ]
  },
  {
   "cell_type": "markdown",
   "metadata": {},
   "source": [
    "baseline length of stay vs. modelled length of stay"
   ]
  },
  {
   "cell_type": "code",
   "execution_count": 15,
   "metadata": {},
   "outputs": [
    {
     "data": {
      "text/plain": [
       "(2.1196528833328165,\n",
       " mean      1.722361\n",
       " median    1.721826\n",
       " min       1.581098\n",
       " max       1.828837\n",
       " Name: speldur, dtype: float64)"
      ]
     },
     "execution_count": 15,
     "metadata": {},
     "output_type": "execute_result"
    }
   ],
   "source": [
    "(np.mean(ip.speldur), mr_speldur.agg([\"mean\", \"median\", \"min\", \"max\"]))"
   ]
  }
 ],
 "metadata": {
  "interpreter": {
   "hash": "71037dceb37210055783f0299c3deef8fe179ebbcc2d71658480775f1f49bb03"
  },
  "kernelspec": {
   "display_name": "Python 3.8.12 ('nhp')",
   "language": "python",
   "name": "python3"
  },
  "language_info": {
   "codemirror_mode": {
    "name": "ipython",
    "version": 3
   },
   "file_extension": ".py",
   "mimetype": "text/x-python",
   "name": "python",
   "nbconvert_exporter": "python",
   "pygments_lexer": "ipython3",
   "version": "3.8.12"
  },
  "orig_nbformat": 4
 },
 "nbformat": 4,
 "nbformat_minor": 2
}
