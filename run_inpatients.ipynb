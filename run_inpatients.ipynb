{
 "cells": [
  {
   "cell_type": "code",
   "execution_count": 1,
   "metadata": {},
   "outputs": [],
   "source": [
    "import numpy as np\n",
    "import os\n",
    "import pandas as pd\n",
    "import pyarrow as pa\n",
    "import pyarrow.parquet as pq\n",
    "\n",
    "from pyarrow.dataset import HivePartitioning\n",
    "\n",
    "from model.InpatientsModel import InpatientsModel"
   ]
  },
  {
   "cell_type": "markdown",
   "metadata": {},
   "source": [
    "Select a particular dataset and model run, then create an instance of the Inpatients Model class and load the datset."
   ]
  },
  {
   "cell_type": "code",
   "execution_count": 2,
   "metadata": {},
   "outputs": [],
   "source": [
    "dataset = \"data/synthetic\"\n",
    "model_run = f\"test/20220110_104353\"\n",
    "m = InpatientsModel(f\"{dataset}/results/{model_run}\")\n",
    "ip = pq.read_pandas(f\"{dataset}/ip.parquet\").to_pandas()\n",
    "ip.drop([\"hsagrp\"], axis = \"columns\", inplace = True)"
   ]
  },
  {
   "cell_type": "markdown",
   "metadata": {},
   "source": [
    "We can now perform a model run. The `0` is the model run number. This alters the random seed used for the PRNG, meaning each time we run the model with this value we will get the same results."
   ]
  },
  {
   "cell_type": "code",
   "execution_count": 3,
   "metadata": {},
   "outputs": [
    {
     "data": {
      "text/html": [
       "<div>\n",
       "<style scoped>\n",
       "    .dataframe tbody tr th:only-of-type {\n",
       "        vertical-align: middle;\n",
       "    }\n",
       "\n",
       "    .dataframe tbody tr th {\n",
       "        vertical-align: top;\n",
       "    }\n",
       "\n",
       "    .dataframe thead th {\n",
       "        text-align: right;\n",
       "    }\n",
       "</style>\n",
       "<table border=\"1\" class=\"dataframe\">\n",
       "  <thead>\n",
       "    <tr style=\"text-align: right;\">\n",
       "      <th></th>\n",
       "      <th>rn</th>\n",
       "      <th>speldur</th>\n",
       "      <th>classpat</th>\n",
       "      <th>admission_avoidance_strategy</th>\n",
       "      <th>los_reduction_strategy</th>\n",
       "    </tr>\n",
       "  </thead>\n",
       "  <tbody>\n",
       "    <tr>\n",
       "      <th>0</th>\n",
       "      <td>112772</td>\n",
       "      <td>0.0</td>\n",
       "      <td>2</td>\n",
       "      <td>NULL</td>\n",
       "      <td>improved_discharge_planning_elective</td>\n",
       "    </tr>\n",
       "    <tr>\n",
       "      <th>1</th>\n",
       "      <td>62197</td>\n",
       "      <td>0.0</td>\n",
       "      <td>2</td>\n",
       "      <td>NULL</td>\n",
       "      <td>improved_discharge_planning_elective</td>\n",
       "    </tr>\n",
       "    <tr>\n",
       "      <th>2</th>\n",
       "      <td>63143</td>\n",
       "      <td>0.0</td>\n",
       "      <td>2</td>\n",
       "      <td>NULL</td>\n",
       "      <td>NULL</td>\n",
       "    </tr>\n",
       "    <tr>\n",
       "      <th>3</th>\n",
       "      <td>63143</td>\n",
       "      <td>0.0</td>\n",
       "      <td>2</td>\n",
       "      <td>NULL</td>\n",
       "      <td>NULL</td>\n",
       "    </tr>\n",
       "    <tr>\n",
       "      <th>4</th>\n",
       "      <td>89718</td>\n",
       "      <td>3.0</td>\n",
       "      <td>1</td>\n",
       "      <td>ambulatory_care_conditions_acute</td>\n",
       "      <td>improved_discharge_planning_non-elective</td>\n",
       "    </tr>\n",
       "    <tr>\n",
       "      <th>...</th>\n",
       "      <td>...</td>\n",
       "      <td>...</td>\n",
       "      <td>...</td>\n",
       "      <td>...</td>\n",
       "      <td>...</td>\n",
       "    </tr>\n",
       "    <tr>\n",
       "      <th>146506</th>\n",
       "      <td>15862</td>\n",
       "      <td>1.0</td>\n",
       "      <td>1</td>\n",
       "      <td>NULL</td>\n",
       "      <td>NULL</td>\n",
       "    </tr>\n",
       "    <tr>\n",
       "      <th>146507</th>\n",
       "      <td>15862</td>\n",
       "      <td>1.0</td>\n",
       "      <td>1</td>\n",
       "      <td>NULL</td>\n",
       "      <td>NULL</td>\n",
       "    </tr>\n",
       "    <tr>\n",
       "      <th>146508</th>\n",
       "      <td>64514</td>\n",
       "      <td>0.0</td>\n",
       "      <td>1</td>\n",
       "      <td>alcohol_partial_chronic</td>\n",
       "      <td>NULL</td>\n",
       "    </tr>\n",
       "    <tr>\n",
       "      <th>146509</th>\n",
       "      <td>64514</td>\n",
       "      <td>0.0</td>\n",
       "      <td>1</td>\n",
       "      <td>alcohol_partial_chronic</td>\n",
       "      <td>NULL</td>\n",
       "    </tr>\n",
       "    <tr>\n",
       "      <th>146510</th>\n",
       "      <td>14914</td>\n",
       "      <td>0.0</td>\n",
       "      <td>1</td>\n",
       "      <td>NULL</td>\n",
       "      <td>NULL</td>\n",
       "    </tr>\n",
       "  </tbody>\n",
       "</table>\n",
       "<p>146511 rows × 5 columns</p>\n",
       "</div>"
      ],
      "text/plain": [
       "            rn  speldur classpat      admission_avoidance_strategy  \\\n",
       "0       112772      0.0        2                              NULL   \n",
       "1        62197      0.0        2                              NULL   \n",
       "2        63143      0.0        2                              NULL   \n",
       "3        63143      0.0        2                              NULL   \n",
       "4        89718      3.0        1  ambulatory_care_conditions_acute   \n",
       "...        ...      ...      ...                               ...   \n",
       "146506   15862      1.0        1                              NULL   \n",
       "146507   15862      1.0        1                              NULL   \n",
       "146508   64514      0.0        1           alcohol_partial_chronic   \n",
       "146509   64514      0.0        1           alcohol_partial_chronic   \n",
       "146510   14914      0.0        1                              NULL   \n",
       "\n",
       "                          los_reduction_strategy  \n",
       "0           improved_discharge_planning_elective  \n",
       "1           improved_discharge_planning_elective  \n",
       "2                                           NULL  \n",
       "3                                           NULL  \n",
       "4       improved_discharge_planning_non-elective  \n",
       "...                                          ...  \n",
       "146506                                      NULL  \n",
       "146507                                      NULL  \n",
       "146508                                      NULL  \n",
       "146509                                      NULL  \n",
       "146510                                      NULL  \n",
       "\n",
       "[146511 rows x 5 columns]"
      ]
     },
     "execution_count": 3,
     "metadata": {},
     "output_type": "execute_result"
    }
   ],
   "source": [
    "selected_variant, results = m.run(0)\n",
    "results"
   ]
  },
  {
   "cell_type": "markdown",
   "metadata": {},
   "source": [
    "We can join the results back to the full dataset to get all columns."
   ]
  },
  {
   "cell_type": "code",
   "execution_count": 4,
   "metadata": {},
   "outputs": [
    {
     "data": {
      "text/plain": [
       "(146511, 15)"
      ]
     },
     "execution_count": 4,
     "metadata": {},
     "output_type": "execute_result"
    }
   ],
   "source": [
    "merged_results = ip.drop([\"classpat\", \"speldur\"], axis = \"columns\").merge(results, on = \"rn\")\n",
    "merged_results.shape"
   ]
  },
  {
   "cell_type": "markdown",
   "metadata": {},
   "source": [
    "We can now compare the base data to the modelled results."
   ]
  },
  {
   "cell_type": "code",
   "execution_count": 5,
   "metadata": {},
   "outputs": [
    {
     "data": {
      "text/plain": [
       "(2.129893197030924, 1.733289650606439)"
      ]
     },
     "execution_count": 5,
     "metadata": {},
     "output_type": "execute_result"
    }
   ],
   "source": [
    "# mean length of stay in the baseline vs results\n",
    "(np.mean(ip.speldur), np.mean(merged_results.speldur))"
   ]
  },
  {
   "cell_type": "code",
   "execution_count": 6,
   "metadata": {},
   "outputs": [
    {
     "data": {
      "text/plain": [
       "(128929, 146511)"
      ]
     },
     "execution_count": 6,
     "metadata": {},
     "output_type": "execute_result"
    }
   ],
   "source": [
    "# number of rows in the baseline vs results\n",
    "(len(ip.index), len(merged_results.index))"
   ]
  },
  {
   "cell_type": "code",
   "execution_count": 7,
   "metadata": {},
   "outputs": [
    {
     "data": {
      "text/html": [
       "<div>\n",
       "<style scoped>\n",
       "    .dataframe tbody tr th:only-of-type {\n",
       "        vertical-align: middle;\n",
       "    }\n",
       "\n",
       "    .dataframe tbody tr th {\n",
       "        vertical-align: top;\n",
       "    }\n",
       "\n",
       "    .dataframe thead th {\n",
       "        text-align: right;\n",
       "    }\n",
       "</style>\n",
       "<table border=\"1\" class=\"dataframe\">\n",
       "  <thead>\n",
       "    <tr style=\"text-align: right;\">\n",
       "      <th></th>\n",
       "      <th>baseline</th>\n",
       "      <th>results</th>\n",
       "    </tr>\n",
       "    <tr>\n",
       "      <th>classpat</th>\n",
       "      <th></th>\n",
       "      <th></th>\n",
       "    </tr>\n",
       "  </thead>\n",
       "  <tbody>\n",
       "    <tr>\n",
       "      <th>-1</th>\n",
       "      <td>0.0</td>\n",
       "      <td>245</td>\n",
       "    </tr>\n",
       "    <tr>\n",
       "      <th>1</th>\n",
       "      <td>69743.0</td>\n",
       "      <td>76199</td>\n",
       "    </tr>\n",
       "    <tr>\n",
       "      <th>2</th>\n",
       "      <td>47533.0</td>\n",
       "      <td>56163</td>\n",
       "    </tr>\n",
       "    <tr>\n",
       "      <th>3</th>\n",
       "      <td>10596.0</td>\n",
       "      <td>12781</td>\n",
       "    </tr>\n",
       "    <tr>\n",
       "      <th>4</th>\n",
       "      <td>7.0</td>\n",
       "      <td>5</td>\n",
       "    </tr>\n",
       "    <tr>\n",
       "      <th>5</th>\n",
       "      <td>1050.0</td>\n",
       "      <td>1118</td>\n",
       "    </tr>\n",
       "  </tbody>\n",
       "</table>\n",
       "</div>"
      ],
      "text/plain": [
       "          baseline  results\n",
       "classpat                   \n",
       "-1             0.0      245\n",
       "1          69743.0    76199\n",
       "2          47533.0    56163\n",
       "3          10596.0    12781\n",
       "4              7.0        5\n",
       "5           1050.0     1118"
      ]
     },
     "execution_count": 7,
     "metadata": {},
     "output_type": "execute_result"
    }
   ],
   "source": [
    "# count by patient classification.\n",
    "# Note: -1 indicates that a row has moved from the inpatients dataset to outpatients\n",
    "pd.merge(\n",
    "  ip.value_counts(\"classpat\").to_frame(\"baseline\"),\n",
    "  merged_results.value_counts(\"classpat\").to_frame(\"results\"),\n",
    "  left_index = True,\n",
    "  right_index = True,\n",
    "  how = \"outer\"\n",
    ").fillna(0)"
   ]
  },
  {
   "cell_type": "markdown",
   "metadata": {},
   "source": [
    "We need to filter out the `classpat == -1` cases, these will be merged into Outpatients."
   ]
  },
  {
   "cell_type": "code",
   "execution_count": 8,
   "metadata": {},
   "outputs": [
    {
     "data": {
      "text/plain": [
       "(146266, 15)"
      ]
     },
     "execution_count": 8,
     "metadata": {},
     "output_type": "execute_result"
    }
   ],
   "source": [
    "outpatients_rows = merged_results.classpat == \"-1\"\n",
    "\n",
    "outpatients_results = merged_results[outpatients_rows] \\\n",
    "  [[\"rn\", \"age\", \"sex\", \"ethnos\", \"imd04_decile\", \"tretspef\", \"admidate\"]] \\\n",
    "  .rename(columns = { \"admidate\": \"apptdate\" })\n",
    "\n",
    "merged_results = merged_results[~outpatients_rows]\n",
    "merged_results.shape"
   ]
  },
  {
   "cell_type": "markdown",
   "metadata": {},
   "source": [
    "Now we need to do a bit of data cleansing, the modelling process updates the `speldur` (length of stay), but doesn't change the `disdate`."
   ]
  },
  {
   "cell_type": "code",
   "execution_count": 9,
   "metadata": {},
   "outputs": [],
   "source": [
    "merged_results.disdate = pd.to_datetime(merged_results.admidate) + pd.to_timedelta(merged_results.speldur, 'd')"
   ]
  },
  {
   "cell_type": "markdown",
   "metadata": {},
   "source": [
    "## Multiple Model Runs\n",
    "\n",
    "We can run multiple iterations of the model using the `multi_model_runs()` function. This function run's slightly differently from `run()` in two specific ways:\n",
    "\n",
    "1. It tries to run in parallel across multiple CPU cores, though this tend's to work much better on Linux than Windows (dependent on how this is run in Windows it may be stuck using a single CPU no matter how many you ask for)\n",
    "2. Instead of returning the results, it immediately saves them to disk in the folder `results/[model_name]/[model_run_date]/results`"
   ]
  },
  {
   "cell_type": "code",
   "execution_count": 10,
   "metadata": {},
   "outputs": [],
   "source": [
    "cpu_count = os.cpu_count()\n",
    "m.multi_model_runs(0, cpu_count * 3, cpu_count)"
   ]
  },
  {
   "cell_type": "code",
   "execution_count": 11,
   "metadata": {},
   "outputs": [],
   "source": [
    "partitioning = HivePartitioning(pa.schema([(\"model_run\", pa.int32())]))\n",
    "\n",
    "multi_results = pq.ParquetDataset(\n",
    "  f\"{dataset}/results/{model_run}/results\",\n",
    "  partitioning = partitioning,\n",
    "  use_legacy_dataset = False\n",
    ").read_pandas().to_pandas()"
   ]
  },
  {
   "cell_type": "code",
   "execution_count": 12,
   "metadata": {},
   "outputs": [
    {
     "data": {
      "text/plain": [
       "model_run\n",
       "0    146511\n",
       "1    153574\n",
       "2    149417\n",
       "3    151734\n",
       "4    147052\n",
       "dtype: int64"
      ]
     },
     "execution_count": 12,
     "metadata": {},
     "output_type": "execute_result"
    }
   ],
   "source": [
    "mr_counts = multi_results.groupby([\"model_run\"]).size()\n",
    "mr_counts.head()"
   ]
  },
  {
   "cell_type": "markdown",
   "metadata": {},
   "source": [
    "baseline counts vs. modelled counts"
   ]
  },
  {
   "cell_type": "code",
   "execution_count": 13,
   "metadata": {},
   "outputs": [
    {
     "data": {
      "text/plain": [
       "(128929,\n",
       " mean      148334\n",
       " median    147311\n",
       " min       144780\n",
       " max       153574\n",
       " dtype: int32)"
      ]
     },
     "execution_count": 13,
     "metadata": {},
     "output_type": "execute_result"
    }
   ],
   "source": [
    "(len(ip.index), mr_counts.agg([\"mean\", \"median\", \"min\", \"max\"]).astype(int))"
   ]
  },
  {
   "cell_type": "code",
   "execution_count": 14,
   "metadata": {},
   "outputs": [
    {
     "data": {
      "text/plain": [
       "model_run\n",
       "0    1.733290\n",
       "1    1.656049\n",
       "2    1.672306\n",
       "3    1.658554\n",
       "4    1.722683\n",
       "Name: speldur, dtype: float64"
      ]
     },
     "execution_count": 14,
     "metadata": {},
     "output_type": "execute_result"
    }
   ],
   "source": [
    "mr_speldur = multi_results.groupby([\"model_run\"])[\"speldur\"].agg(\"mean\")\n",
    "mr_speldur.head()"
   ]
  },
  {
   "cell_type": "markdown",
   "metadata": {},
   "source": [
    "baseline length of stay vs. modelled length of stay"
   ]
  },
  {
   "cell_type": "code",
   "execution_count": 15,
   "metadata": {},
   "outputs": [
    {
     "data": {
      "text/plain": [
       "(2.129893197030924,\n",
       " mean      1.722195\n",
       " median    1.726336\n",
       " min       1.598376\n",
       " max       1.837079\n",
       " Name: speldur, dtype: float64)"
      ]
     },
     "execution_count": 15,
     "metadata": {},
     "output_type": "execute_result"
    }
   ],
   "source": [
    "(np.mean(ip.speldur), mr_speldur.agg([\"mean\", \"median\", \"min\", \"max\"]))"
   ]
  }
 ],
 "metadata": {
  "interpreter": {
   "hash": "71037dceb37210055783f0299c3deef8fe179ebbcc2d71658480775f1f49bb03"
  },
  "kernelspec": {
   "display_name": "Python 3.8.12 ('nhp')",
   "language": "python",
   "name": "python3"
  },
  "language_info": {
   "codemirror_mode": {
    "name": "ipython",
    "version": 3
   },
   "file_extension": ".py",
   "mimetype": "text/x-python",
   "name": "python",
   "nbconvert_exporter": "python",
   "pygments_lexer": "ipython3",
   "version": "3.8.12"
  },
  "orig_nbformat": 4
 },
 "nbformat": 4,
 "nbformat_minor": 2
}
