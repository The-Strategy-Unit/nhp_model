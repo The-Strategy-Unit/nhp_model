{
 "cells": [
  {
   "cell_type": "code",
   "execution_count": 1,
   "metadata": {},
   "outputs": [],
   "source": [
    "import numpy as np\n",
    "import pandas as pd\n",
    "import pyarrow as pa\n",
    "import pyarrow.parquet as pq\n",
    "\n",
    "import json\n",
    "\n",
    "from model.AaEModel import AaEModel\n",
    "from model.InpatientsModel import InpatientsModel\n",
    "from model.OutpatientsModel import OutpatientsModel"
   ]
  },
  {
   "cell_type": "markdown",
   "metadata": {},
   "source": [
    "# Run Models"
   ]
  },
  {
   "cell_type": "code",
   "execution_count": 2,
   "metadata": {},
   "outputs": [],
   "source": [
    "dataset = \"RL4\"\n",
    "model_run = \"test/20220110_104353\"\n",
    "\n",
    "model_path = f\"data/{dataset}/results/{model_run}\""
   ]
  },
  {
   "cell_type": "markdown",
   "metadata": {},
   "source": [
    "## Inpatients"
   ]
  },
  {
   "cell_type": "code",
   "execution_count": 3,
   "metadata": {},
   "outputs": [],
   "source": [
    "# load the baseline data\n",
    "ip = pq.read_pandas(f\"data/{dataset}/ip.parquet\").to_pandas()\n",
    "ip.drop([\"hsagrp\"], axis = \"columns\", inplace =  True)\n",
    "# create the model instance\n",
    "ip_m = InpatientsModel(model_path)\n",
    "# run the principal projection\n",
    "ip_mr_change_factors, ip_mr = ip_m.run(0)\n",
    "# some rows need to be shifted to outpatients\n",
    "ip_op_row_ix = ip_mr[\"classpat\"] == \"-1\"\n",
    "ip_op_rows = (ip\n",
    "  .merge(ip_mr[ip_op_row_ix][[\"rn\"]], on = \"rn\")\n",
    "  .value_counts([\"age\", \"sex\", \"imd04_decile\", \"ethnos\", \"tretspef\"])\n",
    "  .to_frame(\"attendances\")\n",
    "  .reset_index()\n",
    ")\n",
    "ip_op_rows[\"is_first\"] = False\n",
    "ip_op_rows[\"has_procedures\"] = True\n",
    "ip_op_rows[\"tele_attendances\"] = 0\n",
    "# remove the ip to op rows\n",
    "ip_mr = (ip\n",
    "  .drop([\"classpat\", \"speldur\"], axis = \"columns\")\n",
    "  .merge(ip_mr[~ip_op_row_ix], on = \"rn\")\n",
    ")\n",
    "# join the results and the baseline data together\n",
    "ip[\"type\"] = \"baseline\"\n",
    "ip_mr[\"type\"] = \"model\"\n",
    "ip = pd.concat([ip, ip_mr])\n",
    "# create an admission group column\n",
    "ip[\"admission_group\"] = \"non-elective\"\n",
    "ip.loc[ip[\"admimeth\"].str.startswith(\"1\"), \"admission_group\"] = \"elective\"\n",
    "# quick dq fix: convert any \"non-elective\" daycases to \"elective\"\n",
    "ip.loc[ip[\"classpat\"].isin([\"2\", \"3\"]), \"admission_group\"] = \"elective\"\n",
    "# create a \"pod\" column, starting with the admission group\n",
    "ip[\"pod\"] = ip[\"admission_group\"]\n",
    "ip.loc[ip[\"classpat\"].isin([\"1\", \"4\"]), \"pod\"] += \"_admission\"\n",
    "ip.loc[ip[\"classpat\"].isin([\"2\", \"3\"]), \"pod\"] += \"_daycase\"\n",
    "ip.loc[ip[\"classpat\"] == \"5\", \"pod\"] += \"_birth-episode\"\n",
    "ip[\"beddays\"] = ip[\"speldur\"] + 1"
   ]
  },
  {
   "cell_type": "markdown",
   "metadata": {},
   "source": [
    "## Outpatients"
   ]
  },
  {
   "cell_type": "code",
   "execution_count": 4,
   "metadata": {},
   "outputs": [],
   "source": [
    "# load the baseline data\n",
    "op = pq.read_pandas(f\"data/{dataset}/op.parquet\").to_pandas()\n",
    "op.drop([\"hsagrp\"], axis = \"columns\", inplace =  True)\n",
    "# make sure to convert imd04_decile to a string\n",
    "op[\"imd04_decile\"] = op[\"imd04_decile\"].astype(str)\n",
    "# create the model instance\n",
    "op_m = OutpatientsModel(model_path)\n",
    "# run the principal projection\n",
    "op_mr = (op[[\"rn\", \"age\", \"sex\", \"imd04_decile\", \"ethnos\", \"tretspef\", \"is_first\", \"has_procedures\"]]\n",
    "  .merge(op_m.run(0), on = \"rn\")\n",
    "  .drop(\"rn\", axis = \"columns\")\n",
    ")\n",
    "op_mr = pd.concat([op_mr, ip_op_rows])\n",
    "# join the results and the baseline data together\n",
    "op[\"type\"] = \"baseline\"\n",
    "op_mr[\"type\"] = \"model\"\n",
    "op = (pd.concat([op[op_mr.columns.tolist()], op_mr])\n",
    "  .groupby([\"age\", \"sex\", \"imd04_decile\", \"ethnos\", \"tretspef\", \"is_first\", \"has_procedures\", \"type\"], as_index = False)\n",
    "  .agg(sum)\n",
    ")\n",
    "op.loc[ op[\"is_first\"], \"pod\"] = \"op_first\"\n",
    "op.loc[~op[\"is_first\"], \"pod\"] = \"op_follow-up\"\n",
    "op.loc[op[\"has_procedures\"], \"pod\"] = \"op_procedure\"\n",
    "# repromote imd04_decile to categorial, make sure to use ip's categories\n",
    "op[\"imd04_decile\"] = pd.Categorical(\n",
    "  op[\"imd04_decile\"].astype(\"category\"),\n",
    "  ip[\"imd04_decile\"].cat.categories\n",
    ")"
   ]
  },
  {
   "cell_type": "markdown",
   "metadata": {},
   "source": [
    "## A&E"
   ]
  },
  {
   "cell_type": "code",
   "execution_count": 5,
   "metadata": {},
   "outputs": [],
   "source": [
    "# load the baseline data\n",
    "aae = pq.read_pandas(f\"data/{dataset}/aae.parquet\").to_pandas()\n",
    "aae.drop([\"hsagrp\"], axis = \"columns\", inplace =  True)\n",
    "# create the pod type\n",
    "aae[\"pod\"] = \"type-\" + aae[\"aedepttype\"] + \"_\"\n",
    "aae.loc[aae[\"aearrivalmode\"] == 1, \"pod\"] += \"ambulance\"\n",
    "aae.loc[aae[\"aearrivalmode\"] != 1, \"pod\"] += \"walk-in\"\n",
    "# create the model instance\n",
    "aae_m = AaEModel(model_path)\n",
    "# run the principal projection\n",
    "aae_mr = (aae[[\"rn\", \"age\", \"sex\", \"imd04_decile\", \"ethnos\", \"aedepttype\", \"aearrivalmode\", \"pod\"]]\n",
    "  .merge(aae_m.run(0), on = \"rn\")\n",
    "  .drop(\"rn\", axis = \"columns\")\n",
    ")\n",
    "# join the results and the baseline data together\n",
    "aae[\"type\"] = \"baseline\"\n",
    "aae_mr[\"type\"] = \"model\"\n",
    "aae = (pd.concat([aae[aae_mr.columns.tolist()], aae_mr])\n",
    "  .groupby([\"age\", \"sex\", \"imd04_decile\", \"ethnos\", \"aedepttype\", \"aearrivalmode\", \"type\"], as_index = False)\n",
    "  .agg(sum)\n",
    ")"
   ]
  },
  {
   "cell_type": "markdown",
   "metadata": {},
   "source": [
    "# Save results"
   ]
  },
  {
   "cell_type": "code",
   "execution_count": 6,
   "metadata": {},
   "outputs": [],
   "source": [
    "ip.to_parquet(f\"{model_path}/ip_principal.parquet\")\n",
    "op.to_parquet(f\"{model_path}/op_principal.parquet\")\n",
    "aae.to_parquet(f\"{model_path}/aae_principal.parquet\")"
   ]
  },
  {
   "cell_type": "code",
   "execution_count": 7,
   "metadata": {},
   "outputs": [],
   "source": [
    "# handle encoding of numpy values (source: https://stackoverflow.com/a/65151218/4636789)\n",
    "def np_encoder(object):\n",
    "  if isinstance(object, np.generic):\n",
    "    return object.item()\n",
    "\n",
    "with open(f\"{model_path}/ip_principal_change_factors.json\", \"w\") as f:\n",
    "  json.dump(ip_mr_change_factors, f, indent = 2, default = np_encoder)"
   ]
  },
  {
   "cell_type": "markdown",
   "metadata": {},
   "source": [
    "# Model Aggregations"
   ]
  },
  {
   "cell_type": "code",
   "execution_count": 8,
   "metadata": {},
   "outputs": [
    {
     "data": {
      "text/html": [
       "<div>\n",
       "<style scoped>\n",
       "    .dataframe tbody tr th:only-of-type {\n",
       "        vertical-align: middle;\n",
       "    }\n",
       "\n",
       "    .dataframe tbody tr th {\n",
       "        vertical-align: top;\n",
       "    }\n",
       "\n",
       "    .dataframe thead th {\n",
       "        text-align: right;\n",
       "    }\n",
       "</style>\n",
       "<table border=\"1\" class=\"dataframe\">\n",
       "  <thead>\n",
       "    <tr style=\"text-align: right;\">\n",
       "      <th></th>\n",
       "      <th></th>\n",
       "      <th>n</th>\n",
       "      <th>speldur</th>\n",
       "      <th>beddays</th>\n",
       "    </tr>\n",
       "    <tr>\n",
       "      <th>pod</th>\n",
       "      <th>type</th>\n",
       "      <th></th>\n",
       "      <th></th>\n",
       "      <th></th>\n",
       "    </tr>\n",
       "  </thead>\n",
       "  <tbody>\n",
       "    <tr>\n",
       "      <th rowspan=\"2\" valign=\"top\">elective_admission</th>\n",
       "      <th>baseline</th>\n",
       "      <td>7484</td>\n",
       "      <td>4.267905</td>\n",
       "      <td>39425</td>\n",
       "    </tr>\n",
       "    <tr>\n",
       "      <th>model</th>\n",
       "      <td>9075</td>\n",
       "      <td>4.321763</td>\n",
       "      <td>48295</td>\n",
       "    </tr>\n",
       "    <tr>\n",
       "      <th rowspan=\"2\" valign=\"top\">elective_daycase</th>\n",
       "      <th>baseline</th>\n",
       "      <td>62207</td>\n",
       "      <td>0.000000</td>\n",
       "      <td>62207</td>\n",
       "    </tr>\n",
       "    <tr>\n",
       "      <th>model</th>\n",
       "      <td>72725</td>\n",
       "      <td>0.000000</td>\n",
       "      <td>72725</td>\n",
       "    </tr>\n",
       "    <tr>\n",
       "      <th rowspan=\"2\" valign=\"top\">non-elective_admission</th>\n",
       "      <th>baseline</th>\n",
       "      <td>62712</td>\n",
       "      <td>4.307820</td>\n",
       "      <td>332864</td>\n",
       "    </tr>\n",
       "    <tr>\n",
       "      <th>model</th>\n",
       "      <td>66931</td>\n",
       "      <td>3.967220</td>\n",
       "      <td>332461</td>\n",
       "    </tr>\n",
       "  </tbody>\n",
       "</table>\n",
       "</div>"
      ],
      "text/plain": [
       "                                     n   speldur  beddays\n",
       "pod                    type                              \n",
       "elective_admission     baseline   7484  4.267905    39425\n",
       "                       model      9075  4.321763    48295\n",
       "elective_daycase       baseline  62207  0.000000    62207\n",
       "                       model     72725  0.000000    72725\n",
       "non-elective_admission baseline  62712  4.307820   332864\n",
       "                       model     66931  3.967220   332461"
      ]
     },
     "execution_count": 8,
     "metadata": {},
     "output_type": "execute_result"
    }
   ],
   "source": [
    "(ip\n",
    "  .groupby([\"pod\", \"type\"])\n",
    "  .agg({ \"rn\": len, \"speldur\": np.mean, \"beddays\": np.sum })\n",
    "  .rename({\"rn\": \"n\"}, axis = \"columns\")\n",
    ")"
   ]
  }
 ],
 "metadata": {
  "interpreter": {
   "hash": "71037dceb37210055783f0299c3deef8fe179ebbcc2d71658480775f1f49bb03"
  },
  "kernelspec": {
   "display_name": "Python 3.8.12 ('nhp')",
   "language": "python",
   "name": "python3"
  },
  "language_info": {
   "codemirror_mode": {
    "name": "ipython",
    "version": 3
   },
   "file_extension": ".py",
   "mimetype": "text/x-python",
   "name": "python",
   "nbconvert_exporter": "python",
   "pygments_lexer": "ipython3",
   "version": "3.8.12"
  },
  "orig_nbformat": 4
 },
 "nbformat": 4,
 "nbformat_minor": 2
}
