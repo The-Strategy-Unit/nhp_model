{
 "cells": [
  {
   "cell_type": "code",
   "execution_count": null,
   "metadata": {},
   "outputs": [],
   "source": [
    "import numpy as np\n",
    "import pandas as pd\n",
    "import pyarrow as pa\n",
    "import pyarrow.parquet as pq\n",
    "\n",
    "from model.AaEModel import AaEModel\n",
    "from model.InpatientsModel import InpatientsModel\n",
    "from model.OutpatientsModel import OutpatientsModel"
   ]
  },
  {
   "cell_type": "markdown",
   "metadata": {},
   "source": [
    "# Run Models"
   ]
  },
  {
   "cell_type": "code",
   "execution_count": null,
   "metadata": {},
   "outputs": [],
   "source": [
    "dataset = \"RL4\"\n",
    "model_run = \"test/20220110_104353\"\n",
    "\n",
    "model_path = f\"data/{dataset}/results/{model_run}\""
   ]
  },
  {
   "cell_type": "markdown",
   "metadata": {},
   "source": [
    "## Inpatients"
   ]
  },
  {
   "cell_type": "code",
   "execution_count": null,
   "metadata": {},
   "outputs": [],
   "source": [
    "# load the baseline data\n",
    "ip = pq.read_pandas(f\"data/{dataset}/ip.parquet\").to_pandas()\n",
    "ip.drop([\"hsagrp\"], axis = \"columns\", inplace =  True)\n",
    "# create the model instance\n",
    "ip_m = InpatientsModel(model_path)\n",
    "# run the principal projection\n",
    "ip_mr = ip_m.run(0)\n",
    "# some rows need to be shifted to outpatients\n",
    "ip_op_row_ix = ip_mr[\"classpat\"] == \"-1\"\n",
    "ip_op_rows = (ip\n",
    "  .merge(ip_mr[ip_op_row_ix][[\"rn\"]], on = \"rn\")\n",
    "  .value_counts([\"age\", \"sex\", \"imd04_decile\", \"ethnos\", \"tretspef\"])\n",
    "  .to_frame(\"attendances\")\n",
    "  .reset_index()\n",
    ")\n",
    "ip_op_rows[\"is_first\"] = False\n",
    "ip_op_rows[\"has_procedures\"] = True\n",
    "ip_op_rows[\"tele_attendances\"] = 0\n",
    "# remove the ip to op rows\n",
    "ip_mr = (ip\n",
    "  .drop([\"classpat\", \"speldur\"], axis = \"columns\")\n",
    "  .merge(ip_mr[~ip_op_row_ix], on = \"rn\")\n",
    ")\n",
    "# join the results and the baseline data together\n",
    "ip[\"type\"] = \"baseline\"\n",
    "ip_mr[\"type\"] = \"model\"\n",
    "ip = pd.concat([ip, ip_mr])\n",
    "# create an admission group column\n",
    "ip[\"admission_group\"] = \"non-elective\"\n",
    "ip.loc[ip[\"admimeth\"].str.startswith(\"1\"), \"admission_group\"] = \"elective\"\n",
    "# quick dq fix: convert any \"non-elective\" daycases to \"elective\"\n",
    "ip.loc[ip[\"classpat\"].isin([\"2\", \"3\"]), \"admission_group\"] = \"elective\"\n",
    "# create a \"pod\" column, starting with the admission group\n",
    "ip[\"pod\"] = ip[\"admission_group\"]\n",
    "ip.loc[ip[\"classpat\"].isin([\"1\", \"4\"]), \"pod\"] += \"_admission\"\n",
    "ip.loc[ip[\"classpat\"].isin([\"2\", \"3\"]), \"pod\"] += \"_daycase\"\n",
    "ip.loc[ip[\"classpat\"] == \"5\", \"pod\"] += \"_birth-episode\"\n",
    "ip[\"beddays\"] = ip[\"speldur\"] + 1"
   ]
  },
  {
   "cell_type": "markdown",
   "metadata": {},
   "source": [
    "## Outpatients"
   ]
  },
  {
   "cell_type": "code",
   "execution_count": null,
   "metadata": {},
   "outputs": [],
   "source": [
    "# load the baseline data\n",
    "op = pq.read_pandas(f\"data/{dataset}/op.parquet\").to_pandas()\n",
    "op.drop([\"hsagrp\"], axis = \"columns\", inplace =  True)\n",
    "# make sure to convert imd04_decile to a string\n",
    "op[\"imd04_decile\"] = op[\"imd04_decile\"].astype(str)\n",
    "# create the model instance\n",
    "op_m = OutpatientsModel(model_path)\n",
    "# run the principal projection\n",
    "op_mr = (op[[\"rn\", \"age\", \"sex\", \"imd04_decile\", \"ethnos\", \"tretspef\", \"is_first\", \"has_procedures\"]]\n",
    "  .merge(op_m.run(0), on = \"rn\")\n",
    "  .drop(\"rn\", axis = \"columns\")\n",
    ")\n",
    "op_mr = pd.concat([op_mr, ip_op_rows])\n",
    "# join the results and the baseline data together\n",
    "op[\"type\"] = \"baseline\"\n",
    "op_mr[\"type\"] = \"model\"\n",
    "op = (pd.concat([op[op_mr.columns.tolist()], op_mr])\n",
    "  .groupby([\"age\", \"sex\", \"imd04_decile\", \"ethnos\", \"tretspef\", \"is_first\", \"has_procedures\", \"type\"], as_index = False)\n",
    "  .agg(sum)\n",
    ")\n",
    "op.loc[ op[\"is_first\"], \"pod\"] = \"op_first\"\n",
    "op.loc[~op[\"is_first\"], \"pod\"] = \"op_follow-up\"\n",
    "op.loc[op[\"has_procedures\"], \"pod\"] = \"op_procedure\"\n",
    "# repromote imd04_decile to categorial, make sure to use ip's categories\n",
    "op[\"imd04_decile\"] = pd.Categorical(\n",
    "  op[\"imd04_decile\"].astype(\"category\"),\n",
    "  ip[\"imd04_decile\"].cat.categories\n",
    ")"
   ]
  },
  {
   "cell_type": "markdown",
   "metadata": {},
   "source": [
    "## A&E"
   ]
  },
  {
   "cell_type": "code",
   "execution_count": null,
   "metadata": {},
   "outputs": [],
   "source": [
    "# load the baseline data\n",
    "aae = pq.read_pandas(f\"data/{dataset}/aae.parquet\").to_pandas()\n",
    "aae.drop([\"hsagrp\"], axis = \"columns\", inplace =  True)\n",
    "# create the pod type\n",
    "aae[\"pod\"] = \"type-\" + aae[\"aedepttype\"] + \"_\"\n",
    "aae.loc[aae[\"aearrivalmode\"] == 1, \"pod\"] += \"ambulance\"\n",
    "aae.loc[aae[\"aearrivalmode\"] != 1, \"pod\"] += \"walk-in\"\n",
    "# create the model instance\n",
    "aae_m = AaEModel(model_path)\n",
    "# run the principal projection\n",
    "aae_mr = (aae[[\"rn\", \"age\", \"sex\", \"imd04_decile\", \"ethnos\", \"aedepttype\", \"aearrivalmode\", \"pod\"]]\n",
    "  .merge(aae_m.run(0), on = \"rn\")\n",
    "  .drop(\"rn\", axis = \"columns\")\n",
    ")\n",
    "# join the results and the baseline data together\n",
    "aae[\"type\"] = \"baseline\"\n",
    "aae_mr[\"type\"] = \"model\"\n",
    "aae = (pd.concat([aae[aae_mr.columns.tolist()], aae_mr])\n",
    "  .groupby([\"age\", \"sex\", \"imd04_decile\", \"ethnos\", \"aedepttype\", \"aearrivalmode\", \"type\"], as_index = False)\n",
    "  .agg(sum)\n",
    ")"
   ]
  },
  {
   "cell_type": "markdown",
   "metadata": {},
   "source": [
    "# Save results"
   ]
  },
  {
   "cell_type": "code",
   "execution_count": null,
   "metadata": {},
   "outputs": [],
   "source": [
    "ip.to_parquet(f\"{model_path}/ip_principal.parquet\")\n",
    "op.to_parquet(f\"{model_path}/op_principal.parquet\")\n",
    "aae.to_parquet(f\"{model_path}/aae_principal.parquet\")"
   ]
  },
  {
   "cell_type": "markdown",
   "metadata": {},
   "source": [
    "# Model Aggregations"
   ]
  },
  {
   "cell_type": "code",
   "execution_count": null,
   "metadata": {},
   "outputs": [],
   "source": [
    "(ip\n",
    "  .groupby([\"pod\", \"type\"])\n",
    "  .agg({ \"rn\": len, \"speldur\": np.mean, \"beddays\": np.sum })\n",
    "  .rename({\"rn\": \"n\"}, axis = \"columns\")\n",
    ")"
   ]
  }
 ],
 "metadata": {
  "interpreter": {
   "hash": "71037dceb37210055783f0299c3deef8fe179ebbcc2d71658480775f1f49bb03"
  },
  "kernelspec": {
   "display_name": "Python 3.8.12 ('nhp')",
   "language": "python",
   "name": "python3"
  },
  "language_info": {
   "codemirror_mode": {
    "name": "ipython",
    "version": 3
   },
   "file_extension": ".py",
   "mimetype": "text/x-python",
   "name": "python",
   "nbconvert_exporter": "python",
   "pygments_lexer": "ipython3",
   "version": "3.8.12"
  },
  "orig_nbformat": 4
 },
 "nbformat": 4,
 "nbformat_minor": 2
}
