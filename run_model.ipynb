{
 "cells": [
  {
   "cell_type": "markdown",
   "metadata": {},
   "source": [
    "# New Hospitals Model\n",
    "\n",
    "This notebook runs the NHP model and produces the aggregated results."
   ]
  },
  {
   "cell_type": "code",
   "execution_count": 1,
   "metadata": {},
   "outputs": [],
   "source": [
    "params_file = \"sample_params.json\"\n",
    "data_path = \"data\"\n",
    "results_path = \"results\""
   ]
  },
  {
   "cell_type": "markdown",
   "metadata": {},
   "source": [
    "## Setup"
   ]
  },
  {
   "cell_type": "markdown",
   "metadata": {},
   "source": [
    "Load the required packages"
   ]
  },
  {
   "cell_type": "code",
   "execution_count": 14,
   "metadata": {},
   "outputs": [],
   "source": [
    "import os\n",
    "import json\n",
    "import shutil\n",
    "\n",
    "from datetime import datetime\n",
    "\n",
    "from run_model import run_model\n",
    "from combine_results import combine\n",
    "\n",
    "from model.aae import AaEModel\n",
    "from model.inpatients import InpatientsModel\n",
    "from model.outpatients import OutpatientsModel"
   ]
  },
  {
   "cell_type": "markdown",
   "metadata": {},
   "source": [
    "We need to load in the params json file."
   ]
  },
  {
   "cell_type": "code",
   "execution_count": 3,
   "metadata": {},
   "outputs": [],
   "source": [
    "with open(params_file, \"r\", encoding=\"UTF-8\") as pf:\n",
    "  params = json.load(pf)\n",
    "# extract the number of model_runs the params calls for\n",
    "model_runs = params[\"model_runs\"]\n",
    "# set the create_datetime\n",
    "params[\"create_datetime\"] = f\"{datetime.now():%Y%m%d_%H%M%S}\""
   ]
  },
  {
   "cell_type": "markdown",
   "metadata": {},
   "source": [
    "We will run the model in parallel. By default, use all available CPU cores. You can set this to a lower value to use less resources, but it will take longer to run the model."
   ]
  },
  {
   "cell_type": "code",
   "execution_count": 4,
   "metadata": {},
   "outputs": [
    {
     "data": {
      "text/plain": [
       "12"
      ]
     },
     "execution_count": 4,
     "metadata": {},
     "output_type": "execute_result"
    }
   ],
   "source": [
    "cpus = os.cpu_count()\n",
    "cpus"
   ]
  },
  {
   "cell_type": "markdown",
   "metadata": {},
   "source": [
    "When we run the model in parallel it's slightly more efficient to run a batch of model runs. Batches of 4 or 8 seems to be most efficient. This value should be a power of 2."
   ]
  },
  {
   "cell_type": "code",
   "execution_count": 5,
   "metadata": {},
   "outputs": [
    {
     "data": {
      "text/plain": [
       "4"
      ]
     },
     "execution_count": 5,
     "metadata": {},
     "output_type": "execute_result"
    }
   ],
   "source": [
    "batch_size = 2 ** 2\n",
    "batch_size"
   ]
  },
  {
   "cell_type": "markdown",
   "metadata": {},
   "source": [
    "## Run the model"
   ]
  },
  {
   "cell_type": "markdown",
   "metadata": {},
   "source": [
    "First, we create the model runner. The `run_model()` function expects the params dictionary, the path to the data, the path where the results will be saved, which model run to start at, how many model runs to perform, the number of CPU cores to use, and the size of the batches to run.\n",
    "\n",
    "The function returns a function, which takes either `AaEModel`, `InpatientsModel`, or `OutpatientsModel`, depending on what type of model we want to run.\n",
    "\n",
    "Note, we add one to the model runs. The \"principal\" model run is model run 0, and then we perform 1 to `model_runs` iterations of the model."
   ]
  },
  {
   "cell_type": "code",
   "execution_count": 6,
   "metadata": {},
   "outputs": [],
   "source": [
    "runner = run_model(\n",
    "    params,\n",
    "    data_path,\n",
    "    results_path,\n",
    "    0,\n",
    "    model_runs + 1,\n",
    "    cpus,\n",
    "    batch_size\n",
    ")"
   ]
  },
  {
   "cell_type": "markdown",
   "metadata": {},
   "source": [
    "Now the runner is set up, we can run each of the types of models."
   ]
  },
  {
   "cell_type": "code",
   "execution_count": 7,
   "metadata": {},
   "outputs": [
    {
     "name": "stdout",
     "output_type": "stream",
     "text": [
      "Running: AaEModel\n"
     ]
    },
    {
     "name": "stderr",
     "output_type": "stream",
     "text": [
      "260it [00:14, 18.06it/s]                         "
     ]
    },
    {
     "name": "stdout",
     "output_type": "stream",
     "text": [
      "Model runs completed: 257 / 257\n"
     ]
    },
    {
     "name": "stderr",
     "output_type": "stream",
     "text": [
      "\n"
     ]
    }
   ],
   "source": [
    "runner(AaEModel)"
   ]
  },
  {
   "cell_type": "code",
   "execution_count": 8,
   "metadata": {},
   "outputs": [
    {
     "name": "stdout",
     "output_type": "stream",
     "text": [
      "Running: OutpatientsModel\n"
     ]
    },
    {
     "name": "stderr",
     "output_type": "stream",
     "text": [
      "260it [00:23, 10.86it/s]                         \n"
     ]
    },
    {
     "name": "stdout",
     "output_type": "stream",
     "text": [
      "Model runs completed: 257 / 257\n"
     ]
    }
   ],
   "source": [
    "runner(OutpatientsModel)"
   ]
  },
  {
   "cell_type": "code",
   "execution_count": 9,
   "metadata": {},
   "outputs": [
    {
     "name": "stdout",
     "output_type": "stream",
     "text": [
      "Running: InpatientsModel\n"
     ]
    },
    {
     "name": "stderr",
     "output_type": "stream",
     "text": [
      "260it [01:37,  2.68it/s]                         \n"
     ]
    },
    {
     "name": "stdout",
     "output_type": "stream",
     "text": [
      "Model runs completed: 257 / 257\n"
     ]
    }
   ],
   "source": [
    "runner(InpatientsModel)"
   ]
  },
  {
   "cell_type": "markdown",
   "metadata": {},
   "source": [
    "## Combine Results"
   ]
  },
  {
   "cell_type": "markdown",
   "metadata": {},
   "source": [
    "Once the model has run, we will have a parquet file for each of the individual model runs. We want to combine these into a single file containing all of the results."
   ]
  },
  {
   "cell_type": "code",
   "execution_count": 15,
   "metadata": {},
   "outputs": [],
   "source": [
    "dataset = params[\"input_data\"]\n",
    "scenario = params[\"name\"]\n",
    "create_datetime = params[\"create_datetime\"]"
   ]
  },
  {
   "cell_type": "code",
   "execution_count": null,
   "metadata": {},
   "outputs": [],
   "source": [
    "combine(results_path, dataset, scenario, create_datetime)"
   ]
  },
  {
   "cell_type": "markdown",
   "metadata": {},
   "source": [
    "We can now clean up by deleting the individual files."
   ]
  },
  {
   "cell_type": "code",
   "execution_count": 19,
   "metadata": {},
   "outputs": [],
   "source": [
    "def clean_results(t):\n",
    "  for a in [\"ip\", \"op\", \"aae\"]:\n",
    "    p = f\"{results_path}/{t}/activity_type={a}/dataset={dataset}/scenario={scenario}/create_datetime={create_datetime}\"\n",
    "    shutil.rmtree(p)\n",
    "\n",
    "if params.get(\"save_all_results\", False): clean_results(\"model_results\")\n",
    "if params.get(\"aggregate_results\", True): clean_results(\"aggregated_results\")\n",
    "clean_results(\"change_factors\")"
   ]
  },
  {
   "cell_type": "markdown",
   "metadata": {},
   "source": [
    "## Load Results"
   ]
  },
  {
   "cell_type": "markdown",
   "metadata": {},
   "source": [
    "We can now load in our results."
   ]
  },
  {
   "cell_type": "code",
   "execution_count": 20,
   "metadata": {},
   "outputs": [],
   "source": [
    "import pyarrow.parquet as pq\n",
    "import pandas as pd"
   ]
  },
  {
   "cell_type": "code",
   "execution_count": 27,
   "metadata": {},
   "outputs": [],
   "source": [
    "# all files we need to load contain this chunk in the file path\n",
    "file_path = f\"dataset={dataset}/scenario={scenario}/{create_datetime}\""
   ]
  },
  {
   "cell_type": "code",
   "execution_count": 33,
   "metadata": {},
   "outputs": [
    {
     "data": {
      "text/html": [
       "<div>\n",
       "<style scoped>\n",
       "    .dataframe tbody tr th:only-of-type {\n",
       "        vertical-align: middle;\n",
       "    }\n",
       "\n",
       "    .dataframe tbody tr th {\n",
       "        vertical-align: top;\n",
       "    }\n",
       "\n",
       "    .dataframe thead th {\n",
       "        text-align: right;\n",
       "    }\n",
       "</style>\n",
       "<table border=\"1\" class=\"dataframe\">\n",
       "  <thead>\n",
       "    <tr style=\"text-align: right;\">\n",
       "      <th></th>\n",
       "      <th>variant</th>\n",
       "    </tr>\n",
       "  </thead>\n",
       "  <tbody>\n",
       "    <tr>\n",
       "      <th>0</th>\n",
       "      <td>principal</td>\n",
       "    </tr>\n",
       "    <tr>\n",
       "      <th>1</th>\n",
       "      <td>principal</td>\n",
       "    </tr>\n",
       "    <tr>\n",
       "      <th>2</th>\n",
       "      <td>principal</td>\n",
       "    </tr>\n",
       "    <tr>\n",
       "      <th>3</th>\n",
       "      <td>high migration</td>\n",
       "    </tr>\n",
       "    <tr>\n",
       "      <th>4</th>\n",
       "      <td>principal</td>\n",
       "    </tr>\n",
       "    <tr>\n",
       "      <th>...</th>\n",
       "      <td>...</td>\n",
       "    </tr>\n",
       "    <tr>\n",
       "      <th>252</th>\n",
       "      <td>principal</td>\n",
       "    </tr>\n",
       "    <tr>\n",
       "      <th>253</th>\n",
       "      <td>high migration</td>\n",
       "    </tr>\n",
       "    <tr>\n",
       "      <th>254</th>\n",
       "      <td>high migration</td>\n",
       "    </tr>\n",
       "    <tr>\n",
       "      <th>255</th>\n",
       "      <td>high migration</td>\n",
       "    </tr>\n",
       "    <tr>\n",
       "      <th>256</th>\n",
       "      <td>high migration</td>\n",
       "    </tr>\n",
       "  </tbody>\n",
       "</table>\n",
       "<p>257 rows × 1 columns</p>\n",
       "</div>"
      ],
      "text/plain": [
       "            variant\n",
       "0         principal\n",
       "1         principal\n",
       "2         principal\n",
       "3    high migration\n",
       "4         principal\n",
       "..              ...\n",
       "252       principal\n",
       "253  high migration\n",
       "254  high migration\n",
       "255  high migration\n",
       "256  high migration\n",
       "\n",
       "[257 rows x 1 columns]"
      ]
     },
     "execution_count": 33,
     "metadata": {},
     "output_type": "execute_result"
    }
   ],
   "source": [
    "# the selected population variant can be extracted from the \"run_params\" file\n",
    "with open(f\"{results_path}/run_params/{file_path}.json\", \"r\", encoding = \"UTF-8\") as rpf:\n",
    "  run_params = json.load(rpf)\n",
    "selected_variants = pd.DataFrame({\"variant\": run_params[\"variant\"] })"
   ]
  },
  {
   "cell_type": "code",
   "execution_count": 34,
   "metadata": {},
   "outputs": [
    {
     "data": {
      "text/html": [
       "<div>\n",
       "<style scoped>\n",
       "    .dataframe tbody tr th:only-of-type {\n",
       "        vertical-align: middle;\n",
       "    }\n",
       "\n",
       "    .dataframe tbody tr th {\n",
       "        vertical-align: top;\n",
       "    }\n",
       "\n",
       "    .dataframe thead th {\n",
       "        text-align: right;\n",
       "    }\n",
       "</style>\n",
       "<table border=\"1\" class=\"dataframe\">\n",
       "  <thead>\n",
       "    <tr style=\"text-align: right;\">\n",
       "      <th></th>\n",
       "      <th>age_group</th>\n",
       "      <th>sex</th>\n",
       "      <th>tretspef</th>\n",
       "      <th>pod</th>\n",
       "      <th>measure</th>\n",
       "      <th>value</th>\n",
       "      <th>model_run</th>\n",
       "      <th>dataset</th>\n",
       "      <th>activity_type</th>\n",
       "      <th>scenario</th>\n",
       "      <th>create_datetime</th>\n",
       "      <th>variant</th>\n",
       "    </tr>\n",
       "  </thead>\n",
       "  <tbody>\n",
       "    <tr>\n",
       "      <th>0</th>\n",
       "      <td>0- 4</td>\n",
       "      <td>1</td>\n",
       "      <td>100</td>\n",
       "      <td>ip_elective_admission</td>\n",
       "      <td>admissions</td>\n",
       "      <td>10</td>\n",
       "      <td>-1</td>\n",
       "      <td>synthetic</td>\n",
       "      <td>ip</td>\n",
       "      <td>test</td>\n",
       "      <td>20220509_124120</td>\n",
       "      <td>NaN</td>\n",
       "    </tr>\n",
       "    <tr>\n",
       "      <th>1</th>\n",
       "      <td>0- 4</td>\n",
       "      <td>1</td>\n",
       "      <td>100</td>\n",
       "      <td>ip_elective_daycase</td>\n",
       "      <td>admissions</td>\n",
       "      <td>17</td>\n",
       "      <td>-1</td>\n",
       "      <td>synthetic</td>\n",
       "      <td>ip</td>\n",
       "      <td>test</td>\n",
       "      <td>20220509_124120</td>\n",
       "      <td>NaN</td>\n",
       "    </tr>\n",
       "    <tr>\n",
       "      <th>2</th>\n",
       "      <td>0- 4</td>\n",
       "      <td>1</td>\n",
       "      <td>100</td>\n",
       "      <td>ip_non-elective_admission</td>\n",
       "      <td>admissions</td>\n",
       "      <td>26</td>\n",
       "      <td>-1</td>\n",
       "      <td>synthetic</td>\n",
       "      <td>ip</td>\n",
       "      <td>test</td>\n",
       "      <td>20220509_124120</td>\n",
       "      <td>NaN</td>\n",
       "    </tr>\n",
       "    <tr>\n",
       "      <th>3</th>\n",
       "      <td>0- 4</td>\n",
       "      <td>1</td>\n",
       "      <td>101</td>\n",
       "      <td>ip_elective_admission</td>\n",
       "      <td>admissions</td>\n",
       "      <td>1</td>\n",
       "      <td>-1</td>\n",
       "      <td>synthetic</td>\n",
       "      <td>ip</td>\n",
       "      <td>test</td>\n",
       "      <td>20220509_124120</td>\n",
       "      <td>NaN</td>\n",
       "    </tr>\n",
       "    <tr>\n",
       "      <th>4</th>\n",
       "      <td>0- 4</td>\n",
       "      <td>1</td>\n",
       "      <td>101</td>\n",
       "      <td>ip_elective_daycase</td>\n",
       "      <td>admissions</td>\n",
       "      <td>20</td>\n",
       "      <td>-1</td>\n",
       "      <td>synthetic</td>\n",
       "      <td>ip</td>\n",
       "      <td>test</td>\n",
       "      <td>20220509_124120</td>\n",
       "      <td>NaN</td>\n",
       "    </tr>\n",
       "    <tr>\n",
       "      <th>...</th>\n",
       "      <td>...</td>\n",
       "      <td>...</td>\n",
       "      <td>...</td>\n",
       "      <td>...</td>\n",
       "      <td>...</td>\n",
       "      <td>...</td>\n",
       "      <td>...</td>\n",
       "      <td>...</td>\n",
       "      <td>...</td>\n",
       "      <td>...</td>\n",
       "      <td>...</td>\n",
       "      <td>...</td>\n",
       "    </tr>\n",
       "    <tr>\n",
       "      <th>738312</th>\n",
       "      <td>85+</td>\n",
       "      <td>2</td>\n",
       "      <td>Other</td>\n",
       "      <td>aae_type-01</td>\n",
       "      <td>walk-in</td>\n",
       "      <td>1135</td>\n",
       "      <td>99</td>\n",
       "      <td>synthetic</td>\n",
       "      <td>aae</td>\n",
       "      <td>test</td>\n",
       "      <td>20220509_124120</td>\n",
       "      <td>principal</td>\n",
       "    </tr>\n",
       "    <tr>\n",
       "      <th>738313</th>\n",
       "      <td>85+</td>\n",
       "      <td>2</td>\n",
       "      <td>Other</td>\n",
       "      <td>aae_type-02</td>\n",
       "      <td>walk-in</td>\n",
       "      <td>50</td>\n",
       "      <td>99</td>\n",
       "      <td>synthetic</td>\n",
       "      <td>aae</td>\n",
       "      <td>test</td>\n",
       "      <td>20220509_124120</td>\n",
       "      <td>principal</td>\n",
       "    </tr>\n",
       "    <tr>\n",
       "      <th>738314</th>\n",
       "      <td>85+</td>\n",
       "      <td>2</td>\n",
       "      <td>Other</td>\n",
       "      <td>aae_type-03</td>\n",
       "      <td>ambulance</td>\n",
       "      <td>10</td>\n",
       "      <td>99</td>\n",
       "      <td>synthetic</td>\n",
       "      <td>aae</td>\n",
       "      <td>test</td>\n",
       "      <td>20220509_124120</td>\n",
       "      <td>principal</td>\n",
       "    </tr>\n",
       "    <tr>\n",
       "      <th>738315</th>\n",
       "      <td>85+</td>\n",
       "      <td>2</td>\n",
       "      <td>Other</td>\n",
       "      <td>aae_type-03</td>\n",
       "      <td>walk-in</td>\n",
       "      <td>336</td>\n",
       "      <td>99</td>\n",
       "      <td>synthetic</td>\n",
       "      <td>aae</td>\n",
       "      <td>test</td>\n",
       "      <td>20220509_124120</td>\n",
       "      <td>principal</td>\n",
       "    </tr>\n",
       "    <tr>\n",
       "      <th>738316</th>\n",
       "      <td>85+</td>\n",
       "      <td>2</td>\n",
       "      <td>Other</td>\n",
       "      <td>aae_type-04</td>\n",
       "      <td>walk-in</td>\n",
       "      <td>56</td>\n",
       "      <td>99</td>\n",
       "      <td>synthetic</td>\n",
       "      <td>aae</td>\n",
       "      <td>test</td>\n",
       "      <td>20220509_124120</td>\n",
       "      <td>principal</td>\n",
       "    </tr>\n",
       "  </tbody>\n",
       "</table>\n",
       "<p>738317 rows × 12 columns</p>\n",
       "</div>"
      ],
      "text/plain": [
       "       age_group  sex tretspef                        pod     measure  value  \\\n",
       "0           0- 4    1      100      ip_elective_admission  admissions     10   \n",
       "1           0- 4    1      100        ip_elective_daycase  admissions     17   \n",
       "2           0- 4    1      100  ip_non-elective_admission  admissions     26   \n",
       "3           0- 4    1      101      ip_elective_admission  admissions      1   \n",
       "4           0- 4    1      101        ip_elective_daycase  admissions     20   \n",
       "...          ...  ...      ...                        ...         ...    ...   \n",
       "738312       85+    2    Other                aae_type-01     walk-in   1135   \n",
       "738313       85+    2    Other                aae_type-02     walk-in     50   \n",
       "738314       85+    2    Other                aae_type-03   ambulance     10   \n",
       "738315       85+    2    Other                aae_type-03     walk-in    336   \n",
       "738316       85+    2    Other                aae_type-04     walk-in     56   \n",
       "\n",
       "        model_run    dataset activity_type scenario  create_datetime  \\\n",
       "0              -1  synthetic            ip     test  20220509_124120   \n",
       "1              -1  synthetic            ip     test  20220509_124120   \n",
       "2              -1  synthetic            ip     test  20220509_124120   \n",
       "3              -1  synthetic            ip     test  20220509_124120   \n",
       "4              -1  synthetic            ip     test  20220509_124120   \n",
       "...           ...        ...           ...      ...              ...   \n",
       "738312         99  synthetic           aae     test  20220509_124120   \n",
       "738313         99  synthetic           aae     test  20220509_124120   \n",
       "738314         99  synthetic           aae     test  20220509_124120   \n",
       "738315         99  synthetic           aae     test  20220509_124120   \n",
       "738316         99  synthetic           aae     test  20220509_124120   \n",
       "\n",
       "          variant  \n",
       "0             NaN  \n",
       "1             NaN  \n",
       "2             NaN  \n",
       "3             NaN  \n",
       "4             NaN  \n",
       "...           ...  \n",
       "738312  principal  \n",
       "738313  principal  \n",
       "738314  principal  \n",
       "738315  principal  \n",
       "738316  principal  \n",
       "\n",
       "[738317 rows x 12 columns]"
      ]
     },
     "execution_count": 34,
     "metadata": {},
     "output_type": "execute_result"
    }
   ],
   "source": [
    "# the aggregated model results can be loaded like so: we join to the selected variants data loaded above.\n",
    "# note: model_run -1 is the baseline data, so there is no variant to select, hence the left join.\n",
    "aggregated_results = (pq\n",
    "  .read_pandas(f\"{results_path}/aggregated_results/combined/{file_path}.parquet\")\n",
    "  .to_pandas()\n",
    "  .merge(selected_variants, \"left\", left_on = \"model_run\", right_index = True)\n",
    ")\n",
    "aggregated_results"
   ]
  },
  {
   "cell_type": "code",
   "execution_count": 36,
   "metadata": {},
   "outputs": [
    {
     "data": {
      "text/html": [
       "<div>\n",
       "<style scoped>\n",
       "    .dataframe tbody tr th:only-of-type {\n",
       "        vertical-align: middle;\n",
       "    }\n",
       "\n",
       "    .dataframe tbody tr th {\n",
       "        vertical-align: top;\n",
       "    }\n",
       "\n",
       "    .dataframe thead th {\n",
       "        text-align: right;\n",
       "    }\n",
       "</style>\n",
       "<table border=\"1\" class=\"dataframe\">\n",
       "  <thead>\n",
       "    <tr style=\"text-align: right;\">\n",
       "      <th></th>\n",
       "      <th>change_factor</th>\n",
       "      <th>strategy</th>\n",
       "      <th>measure</th>\n",
       "      <th>value</th>\n",
       "      <th>model_run</th>\n",
       "      <th>dataset</th>\n",
       "      <th>activity_type</th>\n",
       "      <th>scenario</th>\n",
       "      <th>create_datetime</th>\n",
       "    </tr>\n",
       "  </thead>\n",
       "  <tbody>\n",
       "    <tr>\n",
       "      <th>0</th>\n",
       "      <td>baseline</td>\n",
       "      <td>-</td>\n",
       "      <td>admissions</td>\n",
       "      <td>128926</td>\n",
       "      <td>0</td>\n",
       "      <td>synthetic</td>\n",
       "      <td>ip</td>\n",
       "      <td>test</td>\n",
       "      <td>20220509_124120</td>\n",
       "    </tr>\n",
       "    <tr>\n",
       "      <th>1</th>\n",
       "      <td>health_status_adjustment</td>\n",
       "      <td>-</td>\n",
       "      <td>admissions</td>\n",
       "      <td>-2853</td>\n",
       "      <td>0</td>\n",
       "      <td>synthetic</td>\n",
       "      <td>ip</td>\n",
       "      <td>test</td>\n",
       "      <td>20220509_124120</td>\n",
       "    </tr>\n",
       "    <tr>\n",
       "      <th>2</th>\n",
       "      <td>population_factors</td>\n",
       "      <td>-</td>\n",
       "      <td>admissions</td>\n",
       "      <td>24662</td>\n",
       "      <td>0</td>\n",
       "      <td>synthetic</td>\n",
       "      <td>ip</td>\n",
       "      <td>test</td>\n",
       "      <td>20220509_124120</td>\n",
       "    </tr>\n",
       "    <tr>\n",
       "      <th>3</th>\n",
       "      <td>waiting_list_adjustment</td>\n",
       "      <td>-</td>\n",
       "      <td>admissions</td>\n",
       "      <td>1333</td>\n",
       "      <td>0</td>\n",
       "      <td>synthetic</td>\n",
       "      <td>ip</td>\n",
       "      <td>test</td>\n",
       "      <td>20220509_124120</td>\n",
       "    </tr>\n",
       "    <tr>\n",
       "      <th>4</th>\n",
       "      <td>admission_avoidance</td>\n",
       "      <td>NaN</td>\n",
       "      <td>admissions</td>\n",
       "      <td>0</td>\n",
       "      <td>0</td>\n",
       "      <td>synthetic</td>\n",
       "      <td>ip</td>\n",
       "      <td>test</td>\n",
       "      <td>20220509_124120</td>\n",
       "    </tr>\n",
       "    <tr>\n",
       "      <th>...</th>\n",
       "      <td>...</td>\n",
       "      <td>...</td>\n",
       "      <td>...</td>\n",
       "      <td>...</td>\n",
       "      <td>...</td>\n",
       "      <td>...</td>\n",
       "      <td>...</td>\n",
       "      <td>...</td>\n",
       "      <td>...</td>\n",
       "    </tr>\n",
       "    <tr>\n",
       "      <th>33915</th>\n",
       "      <td>health_status_adjustment</td>\n",
       "      <td>-</td>\n",
       "      <td>arrivals</td>\n",
       "      <td>-1016</td>\n",
       "      <td>99</td>\n",
       "      <td>synthetic</td>\n",
       "      <td>aae</td>\n",
       "      <td>test</td>\n",
       "      <td>20220509_124120</td>\n",
       "    </tr>\n",
       "    <tr>\n",
       "      <th>33916</th>\n",
       "      <td>population_factors</td>\n",
       "      <td>-</td>\n",
       "      <td>arrivals</td>\n",
       "      <td>17281</td>\n",
       "      <td>99</td>\n",
       "      <td>synthetic</td>\n",
       "      <td>aae</td>\n",
       "      <td>test</td>\n",
       "      <td>20220509_124120</td>\n",
       "    </tr>\n",
       "    <tr>\n",
       "      <th>33917</th>\n",
       "      <td>low_cost_discharged</td>\n",
       "      <td>-</td>\n",
       "      <td>arrivals</td>\n",
       "      <td>-810</td>\n",
       "      <td>99</td>\n",
       "      <td>synthetic</td>\n",
       "      <td>aae</td>\n",
       "      <td>test</td>\n",
       "      <td>20220509_124120</td>\n",
       "    </tr>\n",
       "    <tr>\n",
       "      <th>33918</th>\n",
       "      <td>left_before_seen</td>\n",
       "      <td>-</td>\n",
       "      <td>arrivals</td>\n",
       "      <td>-41</td>\n",
       "      <td>99</td>\n",
       "      <td>synthetic</td>\n",
       "      <td>aae</td>\n",
       "      <td>test</td>\n",
       "      <td>20220509_124120</td>\n",
       "    </tr>\n",
       "    <tr>\n",
       "      <th>33919</th>\n",
       "      <td>frequent_attenders</td>\n",
       "      <td>-</td>\n",
       "      <td>arrivals</td>\n",
       "      <td>-332</td>\n",
       "      <td>99</td>\n",
       "      <td>synthetic</td>\n",
       "      <td>aae</td>\n",
       "      <td>test</td>\n",
       "      <td>20220509_124120</td>\n",
       "    </tr>\n",
       "  </tbody>\n",
       "</table>\n",
       "<p>33920 rows × 9 columns</p>\n",
       "</div>"
      ],
      "text/plain": [
       "                  change_factor strategy     measure   value  model_run  \\\n",
       "0                      baseline        -  admissions  128926          0   \n",
       "1      health_status_adjustment        -  admissions   -2853          0   \n",
       "2            population_factors        -  admissions   24662          0   \n",
       "3       waiting_list_adjustment        -  admissions    1333          0   \n",
       "4           admission_avoidance      NaN  admissions       0          0   \n",
       "...                         ...      ...         ...     ...        ...   \n",
       "33915  health_status_adjustment        -    arrivals   -1016         99   \n",
       "33916        population_factors        -    arrivals   17281         99   \n",
       "33917       low_cost_discharged        -    arrivals    -810         99   \n",
       "33918          left_before_seen        -    arrivals     -41         99   \n",
       "33919        frequent_attenders        -    arrivals    -332         99   \n",
       "\n",
       "         dataset activity_type scenario  create_datetime  \n",
       "0      synthetic            ip     test  20220509_124120  \n",
       "1      synthetic            ip     test  20220509_124120  \n",
       "2      synthetic            ip     test  20220509_124120  \n",
       "3      synthetic            ip     test  20220509_124120  \n",
       "4      synthetic            ip     test  20220509_124120  \n",
       "...          ...           ...      ...              ...  \n",
       "33915  synthetic           aae     test  20220509_124120  \n",
       "33916  synthetic           aae     test  20220509_124120  \n",
       "33917  synthetic           aae     test  20220509_124120  \n",
       "33918  synthetic           aae     test  20220509_124120  \n",
       "33919  synthetic           aae     test  20220509_124120  \n",
       "\n",
       "[33920 rows x 9 columns]"
      ]
     },
     "execution_count": 36,
     "metadata": {},
     "output_type": "execute_result"
    }
   ],
   "source": [
    "# we can load the change factors in like so. Note, the order of the rows is semi-important within each model_run:\n",
    "# the \"baseline\" change_factor row must always come first. The other rows are then in the order that change factor\n",
    "# was run within the model engine, but strictly do not need to be shown in that order.\n",
    "change_factors = pd.read_csv(f\"{results_path}/change_factors/combined/{file_path}.csv\")"
   ]
  }
 ],
 "metadata": {
  "interpreter": {
   "hash": "71037dceb37210055783f0299c3deef8fe179ebbcc2d71658480775f1f49bb03"
  },
  "kernelspec": {
   "display_name": "Python 3.8.12 ('nhp')",
   "language": "python",
   "name": "python3"
  },
  "language_info": {
   "codemirror_mode": {
    "name": "ipython",
    "version": 3
   },
   "file_extension": ".py",
   "mimetype": "text/x-python",
   "name": "python",
   "nbconvert_exporter": "python",
   "pygments_lexer": "ipython3",
   "version": "3.10.4"
  },
  "orig_nbformat": 4
 },
 "nbformat": 4,
 "nbformat_minor": 2
}
