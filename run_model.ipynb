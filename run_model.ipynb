{
 "cells": [
  {
   "cell_type": "markdown",
   "metadata": {},
   "source": [
    "# New Hospitals Model\n",
    "\n",
    "This notebook runs the NHP model and produces the aggregated results."
   ]
  },
  {
   "cell_type": "code",
   "execution_count": 1,
   "metadata": {},
   "outputs": [],
   "source": [
    "params_file = \"test/queue/RL4.json\""
   ]
  },
  {
   "cell_type": "markdown",
   "metadata": {},
   "source": [
    "## Setup"
   ]
  },
  {
   "cell_type": "markdown",
   "metadata": {},
   "source": [
    "Load the required packages"
   ]
  },
  {
   "cell_type": "code",
   "execution_count": 2,
   "metadata": {},
   "outputs": [],
   "source": [
    "import pandas as pd\n",
    "import pyarrow as pa\n",
    "import pyarrow.parquet as pq\n",
    "import numpy as np\n",
    "\n",
    "import os\n",
    "import shutil\n",
    "import json\n",
    "from datetime import datetime\n",
    "\n",
    "from model.aae import AaEModel\n",
    "from model.inpatients import InpatientsModel\n",
    "from model.outpatients import OutpatientsModel"
   ]
  },
  {
   "cell_type": "markdown",
   "metadata": {},
   "source": [
    "We need to create a folder ready to store the results."
   ]
  },
  {
   "cell_type": "code",
   "execution_count": 3,
   "metadata": {},
   "outputs": [
    {
     "data": {
      "text/plain": [
       "'data/RL4/results/test/20220401_115354/params.json'"
      ]
     },
     "execution_count": 3,
     "metadata": {},
     "output_type": "execute_result"
    }
   ],
   "source": [
    "with open(params_file, \"r\", encoding=\"UTF-8\") as pf:\n",
    "  params = json.load(pf)\n",
    "\n",
    "dataset = params[\"input_data\"]\n",
    "scenario = params[\"name\"]\n",
    "model_runs = params[\"model_runs\"]\n",
    "\n",
    "run_time = datetime.now().strftime(\"%Y%m%d_%H%M%S\")\n",
    "\n",
    "results_path = f\"data/{dataset}/results/{scenario}/{run_time}\"\n",
    "\n",
    "os.makedirs(results_path)\n",
    "shutil.copy(params_file, f\"{results_path}/params.json\")"
   ]
  },
  {
   "cell_type": "markdown",
   "metadata": {},
   "source": [
    "We will run the model in parallel. By default, use all available CPU cores. You can set this to a lower value to use less resources, but it will take longer to run the model."
   ]
  },
  {
   "cell_type": "code",
   "execution_count": 4,
   "metadata": {},
   "outputs": [
    {
     "data": {
      "text/plain": [
       "12"
      ]
     },
     "execution_count": 4,
     "metadata": {},
     "output_type": "execute_result"
    }
   ],
   "source": [
    "cpus = os.cpu_count()\n",
    "cpus"
   ]
  },
  {
   "cell_type": "markdown",
   "metadata": {},
   "source": [
    "When we run the model in parallel it's slightly more efficient to run a batch of model runs. Batches of 4 or 8 seems to be most efficient. This value should be a power of 2."
   ]
  },
  {
   "cell_type": "code",
   "execution_count": 5,
   "metadata": {},
   "outputs": [
    {
     "data": {
      "text/plain": [
       "4"
      ]
     },
     "execution_count": 5,
     "metadata": {},
     "output_type": "execute_result"
    }
   ],
   "source": [
    "batch_size = 2 ** 2\n",
    "batch_size"
   ]
  },
  {
   "cell_type": "markdown",
   "metadata": {},
   "source": [
    "## Run the model"
   ]
  },
  {
   "cell_type": "code",
   "execution_count": 6,
   "metadata": {},
   "outputs": [
    {
     "name": "stderr",
     "output_type": "stream",
     "text": [
      "1028it [01:21, 12.66it/s]                          "
     ]
    },
    {
     "name": "stdout",
     "output_type": "stream",
     "text": [
      "Model runs completed: 1025 / 1025\n"
     ]
    },
    {
     "name": "stderr",
     "output_type": "stream",
     "text": [
      "\n"
     ]
    }
   ],
   "source": [
    "(AaEModel(results_path)\n",
    "# add 1 because of the principal run\n",
    "  .multi_model_runs(0, model_runs + 1, cpus, batch_size)\n",
    ")"
   ]
  },
  {
   "cell_type": "code",
   "execution_count": 7,
   "metadata": {},
   "outputs": [
    {
     "name": "stderr",
     "output_type": "stream",
     "text": [
      "1028it [07:24,  2.31it/s]                          "
     ]
    },
    {
     "name": "stdout",
     "output_type": "stream",
     "text": [
      "Model runs completed: 1025 / 1025\n"
     ]
    },
    {
     "name": "stderr",
     "output_type": "stream",
     "text": [
      "\n"
     ]
    }
   ],
   "source": [
    "(InpatientsModel(results_path)\n",
    "  .multi_model_runs(0, model_runs + 1, cpus, batch_size)\n",
    ")"
   ]
  },
  {
   "cell_type": "code",
   "execution_count": 8,
   "metadata": {},
   "outputs": [
    {
     "name": "stderr",
     "output_type": "stream",
     "text": [
      "1028it [04:53,  3.50it/s]                          "
     ]
    },
    {
     "name": "stdout",
     "output_type": "stream",
     "text": [
      "Model runs completed: 1025 / 1025\n"
     ]
    },
    {
     "name": "stderr",
     "output_type": "stream",
     "text": [
      "\n"
     ]
    }
   ],
   "source": [
    "(OutpatientsModel(results_path)\n",
    "  .multi_model_runs(0, model_runs + 1, cpus, batch_size)\n",
    ")"
   ]
  },
  {
   "cell_type": "markdown",
   "metadata": {},
   "source": [
    "## Aggregate Results"
   ]
  },
  {
   "cell_type": "markdown",
   "metadata": {},
   "source": [
    "### Load Baseline Data"
   ]
  },
  {
   "cell_type": "markdown",
   "metadata": {},
   "source": [
    "We want to aggregate ages into groups, this function helps us do that."
   ]
  },
  {
   "cell_type": "code",
   "execution_count": 9,
   "metadata": {},
   "outputs": [],
   "source": [
    "def age_groups(x):\n",
    "  return pd.cut(\n",
    "    x,\n",
    "    [0, 5, 15, 35, 50, 65, 85, 1000],\n",
    "    False,\n",
    "    [\"0-4\", \"5-14\", \"15-34\", \"35-49\", \"50-64\", \"65-84\", \"85+\"]\n",
    "  ).astype(str)"
   ]
  },
  {
   "cell_type": "markdown",
   "metadata": {},
   "source": [
    "This function makes it easier to load the datasets."
   ]
  },
  {
   "cell_type": "code",
   "execution_count": 10,
   "metadata": {},
   "outputs": [],
   "source": [
    "def load_dataset(type, *args):\n",
    "  cols = [\"rn\", \"age\", \"sex\", \"ethnos\", \"imd04_decile\"] + list(args)[0]\n",
    "  \n",
    "  df = (pq\n",
    "    .read_pandas(f\"data/{dataset}/{type}.parquet\", cols)\n",
    "    .to_pandas()\n",
    "    .set_index(\"rn\")\n",
    "  )\n",
    "  df[\"age_group\"] = age_groups(df[\"age\"])\n",
    "  return df"
   ]
  },
  {
   "cell_type": "markdown",
   "metadata": {},
   "source": [
    "We can now load all of our baseline data. We show the number of rows loaded from that dataset, and the amount of activity in that dataset."
   ]
  },
  {
   "cell_type": "code",
   "execution_count": 11,
   "metadata": {},
   "outputs": [
    {
     "data": {
      "text/plain": [
       "(44057, 177532)"
      ]
     },
     "execution_count": 11,
     "metadata": {},
     "output_type": "execute_result"
    }
   ],
   "source": [
    "aae = load_dataset(\"aae\", [\n",
    "  \"aedepttype\", \"aearrivalmode\", \"arrivals\"\n",
    "])\n",
    "(len(aae.index), sum(aae.arrivals))"
   ]
  },
  {
   "cell_type": "code",
   "execution_count": 12,
   "metadata": {},
   "outputs": [
    {
     "data": {
      "text/plain": [
       "(132403, 132403)"
      ]
     },
     "execution_count": 12,
     "metadata": {},
     "output_type": "execute_result"
    }
   ],
   "source": [
    "ip = load_dataset(\"ip\", [\n",
    "  \"tretspef\", \"classpat\", \"admidate\", \"disdate\", \"speldur\", \"epitype\", \"admimeth\", \"dismeth\"\n",
    "])\n",
    "(len(ip.index), len(ip.index)) # inpatients is row level"
   ]
  },
  {
   "cell_type": "code",
   "execution_count": 13,
   "metadata": {},
   "outputs": [
    {
     "data": {
      "text/plain": [
       "(236972, 936404)"
      ]
     },
     "execution_count": 13,
     "metadata": {},
     "output_type": "execute_result"
    }
   ],
   "source": [
    "op = load_dataset(\"op\", [\n",
    "  \"tretspef\", \"is_first\", \"has_procedures\", \"attendances\", \"tele_attendances\"\n",
    "])\n",
    "(len(op.index), sum(op.attendances) + sum(op.tele_attendances))"
   ]
  },
  {
   "cell_type": "markdown",
   "metadata": {},
   "source": [
    "### Load model results"
   ]
  },
  {
   "cell_type": "markdown",
   "metadata": {},
   "source": [
    "Our results are stored in a datalake structure, use `pyarrow` to load the individual files into a single dataset."
   ]
  },
  {
   "cell_type": "code",
   "execution_count": 14,
   "metadata": {},
   "outputs": [],
   "source": [
    "partitioning = pa.dataset.HivePartitioning(pa.schema([(\"model_run\", pa.int32())]))\n",
    "def load_model_results(type):\n",
    "  ds = pq.ParquetDataset(\n",
    "    f\"{results_path}/{type}/\",\n",
    "    partitioning = partitioning,\n",
    "    use_legacy_dataset = False\n",
    "  )\n",
    "  df = ds.read_pandas().to_pandas()\n",
    "  return df.set_index(\"rn\")"
   ]
  },
  {
   "cell_type": "markdown",
   "metadata": {},
   "source": [
    "#### Process IP data"
   ]
  },
  {
   "cell_type": "code",
   "execution_count": 15,
   "metadata": {},
   "outputs": [],
   "source": [
    "ip_mr = load_model_results(\"ip\")"
   ]
  },
  {
   "cell_type": "markdown",
   "metadata": {},
   "source": [
    "\n",
    "Rows that have a classpat of -1 need to be moved into OP."
   ]
  },
  {
   "cell_type": "code",
   "execution_count": 16,
   "metadata": {},
   "outputs": [],
   "source": [
    "ip_op_row_ix = ip_mr[\"classpat\"] == \"-1\"\n",
    "\n",
    "ip_op_rows = (ip\n",
    "  .merge(ip_mr[ip_op_row_ix][[\"model_run\"]], left_index = True, right_index = True)\n",
    "  .value_counts([\"age_group\", \"sex\", \"imd04_decile\", \"ethnos\", \"tretspef\", \"model_run\"])\n",
    "  .to_frame(\"attendances\")\n",
    "  .reset_index()\n",
    ")\n",
    "ip_op_rows[\"is_first\"] = False\n",
    "ip_op_rows[\"has_procedures\"] = True\n",
    "ip_op_rows[\"tele_attendances\"] = 0"
   ]
  },
  {
   "cell_type": "markdown",
   "metadata": {},
   "source": [
    "Remove the ip to op rows."
   ]
  },
  {
   "cell_type": "code",
   "execution_count": 17,
   "metadata": {},
   "outputs": [],
   "source": [
    "ip_mr = (ip\n",
    "  .drop([\"classpat\", \"speldur\"], axis = \"columns\")\n",
    "  .merge(ip_mr[~ip_op_row_ix], left_index = True, right_index = True)\n",
    ")"
   ]
  },
  {
   "cell_type": "markdown",
   "metadata": {},
   "source": [
    "Join the results and the baseline data together"
   ]
  },
  {
   "cell_type": "code",
   "execution_count": 18,
   "metadata": {},
   "outputs": [],
   "source": [
    "ip[\"type\"] = \"baseline\"\n",
    "ip_mr[\"type\"] = \"model\"\n",
    "ip[\"model_run\"] = 0\n",
    "ip = pd.concat([ip, ip_mr])\n",
    "# free up memory\n",
    "ip_mr = None\n",
    "# create an admission group column\n",
    "ip[\"admission_group\"] = \"non-elective\"\n",
    "ip.loc[ip[\"admimeth\"].str.startswith(\"1\"), \"admission_group\"] = \"elective\"\n",
    "# quick dq fix: convert any \"non-elective\" daycases to \"elective\"\n",
    "ip.loc[ip[\"classpat\"].isin([\"2\", \"3\"]), \"admission_group\"] = \"elective\"\n",
    "# create a \"pod\" column, starting with the admission group\n",
    "ip[\"pod\"] = ip[\"admission_group\"]\n",
    "ip.loc[ip[\"classpat\"].isin([\"1\", \"4\"]), \"pod\"] += \"_admission\"\n",
    "ip.loc[ip[\"classpat\"].isin([\"2\", \"3\"]), \"pod\"] += \"_daycase\"\n",
    "ip.loc[ip[\"classpat\"] == \"5\", \"pod\"] += \"_birth-episode\"\n",
    "ip[\"beddays\"] = ip[\"speldur\"] + 1"
   ]
  },
  {
   "cell_type": "markdown",
   "metadata": {},
   "source": [
    "We can now aggregate our results"
   ]
  },
  {
   "cell_type": "code",
   "execution_count": 19,
   "metadata": {},
   "outputs": [],
   "source": [
    "ip_agg = (ip\n",
    "  .groupby([\"age_group\", \"sex\", \"tretspef\", \"type\", \"model_run\", \"pod\"], as_index = False)\n",
    "  .agg({ \"speldur\": len, \"beddays\": np.sum })\n",
    ").rename({ \"speldur\": \"admissions\" }, axis = \"columns\")"
   ]
  },
  {
   "cell_type": "markdown",
   "metadata": {},
   "source": [
    "#### Process OP data"
   ]
  },
  {
   "cell_type": "code",
   "execution_count": 20,
   "metadata": {},
   "outputs": [],
   "source": [
    "# make sure to convert imd04_decile to a string\n",
    "#  - groupby with categorical columns can cause issues\n",
    "op[\"imd04_decile\"] = op[\"imd04_decile\"].astype(str)"
   ]
  },
  {
   "cell_type": "code",
   "execution_count": 21,
   "metadata": {},
   "outputs": [],
   "source": [
    "op_mr = (op[[\"age_group\", \"sex\", \"imd04_decile\", \"ethnos\", \"tretspef\", \"is_first\", \"has_procedures\"]]\n",
    "  .merge(load_model_results(\"op\"), left_index = True, right_index = True)\n",
    ").reset_index(drop = True)"
   ]
  },
  {
   "cell_type": "markdown",
   "metadata": {},
   "source": [
    "Union the OP model results with the IP rows that were converted to outpatients."
   ]
  },
  {
   "cell_type": "code",
   "execution_count": 22,
   "metadata": {},
   "outputs": [],
   "source": [
    "op_mr = pd.concat([op_mr, ip_op_rows])"
   ]
  },
  {
   "cell_type": "markdown",
   "metadata": {},
   "source": [
    "Join the results and the baseline data together"
   ]
  },
  {
   "cell_type": "code",
   "execution_count": 23,
   "metadata": {},
   "outputs": [],
   "source": [
    "op[\"type\"] = \"baseline\"\n",
    "op_mr[\"type\"] = \"model\"\n",
    "op[\"model_run\"] = 0\n",
    "op = (pd.concat([op[op_mr.columns.tolist()].reset_index(drop = True), op_mr])\n",
    "  .groupby([\n",
    "    \"age_group\", \"sex\", \"imd04_decile\", \"ethnos\", \"tretspef\",\n",
    "    \"is_first\", \"has_procedures\", \"type\", \"model_run\"\n",
    "  ], as_index = False)\n",
    "  .agg(sum)\n",
    ")\n",
    "op.loc[ op[\"is_first\"], \"pod\"] = \"op_first\"\n",
    "op.loc[~op[\"is_first\"], \"pod\"] = \"op_follow-up\"\n",
    "op.loc[op[\"has_procedures\"], \"pod\"] = \"op_procedure\"\n",
    "# repromote imd04_decile to categorial, make sure to use ip's categories\n",
    "op[\"imd04_decile\"] = pd.Categorical(\n",
    "  op[\"imd04_decile\"].astype(\"category\"),\n",
    "  ip[\"imd04_decile\"].cat.categories\n",
    ")"
   ]
  },
  {
   "cell_type": "markdown",
   "metadata": {},
   "source": [
    "We can now aggregate our results"
   ]
  },
  {
   "cell_type": "code",
   "execution_count": 24,
   "metadata": {},
   "outputs": [],
   "source": [
    "op_agg = (op\n",
    "  .groupby([\"age_group\", \"sex\", \"tretspef\", \"pod\", \"type\", \"model_run\"], as_index = False)\n",
    "  .agg({ \"attendances\": np.sum, \"tele_attendances\": np.sum })\n",
    ")"
   ]
  },
  {
   "cell_type": "markdown",
   "metadata": {},
   "source": [
    "#### Process A&E Data"
   ]
  },
  {
   "cell_type": "code",
   "execution_count": 25,
   "metadata": {},
   "outputs": [],
   "source": [
    "# create the pod & measure columns\n",
    "aae[\"pod\"] = \"type-\" + aae[\"aedepttype\"]\n",
    "aae[\"measure\"] = \"walk-in\"\n",
    "aae.loc[aae[\"aearrivalmode\"] == \"1\", \"measure\"] = \"ambulance\""
   ]
  },
  {
   "cell_type": "code",
   "execution_count": 26,
   "metadata": {},
   "outputs": [],
   "source": [
    "aae_mr = (aae[[\n",
    "    \"age_group\", \"sex\", \"imd04_decile\", \"ethnos\", \"aedepttype\", \"aearrivalmode\", \"pod\", \"measure\"\n",
    "  ]]\n",
    "  .merge(load_model_results(\"aae\"), left_index = True, right_index = True)\n",
    "  .reset_index(drop = True)\n",
    ")"
   ]
  },
  {
   "cell_type": "markdown",
   "metadata": {},
   "source": [
    "Join the results and the baseline data together"
   ]
  },
  {
   "cell_type": "code",
   "execution_count": 27,
   "metadata": {},
   "outputs": [],
   "source": [
    "aae[\"type\"] = \"baseline\"\n",
    "aae_mr[\"type\"] = \"model\"\n",
    "\n",
    "aae[\"model_run\"] = 0\n",
    "\n",
    "aae = pd.concat([aae[aae_mr.columns.tolist()].reset_index(drop = True), aae_mr])"
   ]
  },
  {
   "cell_type": "markdown",
   "metadata": {},
   "source": [
    "We can now aggregate our results"
   ]
  },
  {
   "cell_type": "code",
   "execution_count": 28,
   "metadata": {},
   "outputs": [],
   "source": [
    "aae_agg = (aae\n",
    "  .groupby([\"age_group\", \"sex\", \"pod\", \"type\", \"model_run\", \"measure\"], as_index = False)\n",
    "  .agg({ \"arrivals\": np.sum })\n",
    "  .rename({\"arrivals\": \"value\"}, axis = \"columns\")\n",
    "  .assign(dataset = \"aae\", tretspef = \"X01\")\n",
    ")"
   ]
  },
  {
   "cell_type": "markdown",
   "metadata": {},
   "source": [
    "### Write Aggregate Results"
   ]
  },
  {
   "cell_type": "markdown",
   "metadata": {},
   "source": [
    "First we need to union all of the rows together. To do this we need to pivot our OP and IP data into a longer format. The A&E data is already in this form."
   ]
  },
  {
   "cell_type": "code",
   "execution_count": 29,
   "metadata": {},
   "outputs": [],
   "source": [
    "melted_data = [\n",
    "  pd.melt(\n",
    "    op_agg.assign(dataset = \"op\"),\n",
    "    [\"age_group\", \"sex\", \"tretspef\", \"dataset\", \"pod\", \"type\", \"model_run\"],\n",
    "    [\"attendances\", \"tele_attendances\"],\n",
    "    \"measure\"\n",
    "  ),\n",
    "\n",
    "  pd.melt(\n",
    "    ip_agg.assign(dataset = \"ip\"),\n",
    "    [\"age_group\", \"sex\", \"tretspef\", \"dataset\", \"pod\", \"type\", \"model_run\"],\n",
    "    [\"admissions\", \"beddays\"],\n",
    "    \"measure\"\n",
    "  ),\n",
    "\n",
    "  aae_agg\n",
    "]\n",
    "all_agg = pd.concat(melted_data).sort_values([\n",
    "  \"sex\", \"dataset\", \"pod\", \"measure\", \"tretspef\", \"age_group\", \"type\", \"model_run\"\n",
    "])\n",
    "# update the type of the principal runs\n",
    "all_agg.loc[(all_agg[\"model_run\"] == 0) & (all_agg[\"type\"] == \"model\"), \"type\"] = \"principal\""
   ]
  },
  {
   "cell_type": "markdown",
   "metadata": {},
   "source": [
    "We can now save the model results"
   ]
  },
  {
   "cell_type": "code",
   "execution_count": 30,
   "metadata": {},
   "outputs": [],
   "source": [
    "all_agg.to_parquet(f\"{results_path}/model_results.parquet\", index = False)"
   ]
  },
  {
   "cell_type": "markdown",
   "metadata": {},
   "source": [
    "### Process Change Factors"
   ]
  },
  {
   "cell_type": "code",
   "execution_count": 31,
   "metadata": {},
   "outputs": [],
   "source": [
    "def load_change_factors(dataset, model_run):\n",
    "  path = f\"{results_path}/{dataset}_change_factors/{model_run}.json\"\n",
    "  with open(path, \"r\", encoding = \"UTF-8\") as cfp:\n",
    "    cf = (pd.concat({\n",
    "        k1: pd.DataFrame({\n",
    "          k2: v2 if isinstance(v2, dict) else { '-': v2 }\n",
    "          for k2, v2 in v1.items()\n",
    "        })\n",
    "        for k1, v1 in json.load(cfp).items()\n",
    "      })\n",
    "      .rename_axis([\"change_factor\", \"type\"])\n",
    "      .reset_index()\n",
    "      .assign(dataset = dataset, model_run = model_run)\n",
    "    )\n",
    "  return cf"
   ]
  },
  {
   "cell_type": "code",
   "execution_count": 32,
   "metadata": {},
   "outputs": [],
   "source": [
    "change_factors = pd.concat([\n",
    "  load_change_factors(ds, mr)\n",
    "  for ds in [\"ip\"]\n",
    "  for mr in range(model_runs)\n",
    "])"
   ]
  },
  {
   "cell_type": "code",
   "execution_count": 33,
   "metadata": {},
   "outputs": [],
   "source": [
    "change_factors.to_csv(f\"{results_path}/change_factors.csv\", index = False)"
   ]
  },
  {
   "cell_type": "markdown",
   "metadata": {},
   "source": [
    "#### Delete model run files"
   ]
  },
  {
   "cell_type": "markdown",
   "metadata": {},
   "source": [
    "We no longer need to keep all of the underlying model run files."
   ]
  },
  {
   "cell_type": "code",
   "execution_count": 34,
   "metadata": {},
   "outputs": [],
   "source": [
    "for i in [\"aae\", \"ip\", \"op\", \"ip_change_factors\"]:\n",
    "  shutil.rmtree(f\"{results_path}/{i}\")"
   ]
  }
 ],
 "metadata": {
  "interpreter": {
   "hash": "71037dceb37210055783f0299c3deef8fe179ebbcc2d71658480775f1f49bb03"
  },
  "kernelspec": {
   "display_name": "Python 3.8.12 ('nhp')",
   "language": "python",
   "name": "python3"
  },
  "language_info": {
   "codemirror_mode": {
    "name": "ipython",
    "version": 3
   },
   "file_extension": ".py",
   "mimetype": "text/x-python",
   "name": "python",
   "nbconvert_exporter": "python",
   "pygments_lexer": "ipython3",
   "version": "3.8.12"
  },
  "orig_nbformat": 4
 },
 "nbformat": 4,
 "nbformat_minor": 2
}
